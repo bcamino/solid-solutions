{
 "cells": [
  {
   "cell_type": "markdown",
   "id": "1bc6a017",
   "metadata": {},
   "source": [
    "# Structures analysis\n",
    "\n",
    "Files:\n",
    "- LTS_CONFCNT_ONLY.OUT : contains the classes and structures in terms of substituted atoms"
   ]
  },
  {
   "cell_type": "code",
   "execution_count": 40,
   "id": "1b2ba234",
   "metadata": {},
   "outputs": [],
   "source": [
    "import sys\n",
    "sys.path.insert(1, '../../crystal-code-tools/crystal_functions/crystal_functions/')\n",
    "\n",
    "from file_readwrite import Crystal_output, write_cry_properties, Crystal_input\n",
    "from convert import cry_gui2pmg\n",
    "\n",
    "from pymatgen.symmetry.analyzer import SpacegroupAnalyzer\n",
    "import numpy as np"
   ]
  },
  {
   "cell_type": "code",
   "execution_count": 15,
   "id": "e4c14a24",
   "metadata": {},
   "outputs": [],
   "source": [
    "path = '/Users/brunocamino/Desktop/Imperial/cmsg_icl/solid-solutions/data/'\n",
    "file = 'LTS_CONFCNT_ONLY'\n",
    "\n",
    "new_atom = 'Li'"
   ]
  },
  {
   "cell_type": "markdown",
   "id": "5f4d71d2",
   "metadata": {},
   "source": [
    "### Read the structures from the output files and replace with new_atom\n",
    "This cell generates the structures list. This contains all the 4023 structures as pymatgen structure objects"
   ]
  },
  {
   "cell_type": "code",
   "execution_count": 33,
   "id": "24d1cf7e",
   "metadata": {},
   "outputs": [],
   "source": [
    "cry_output = Crystal_output(path+file)\n",
    "cry_output.config_analysis()\n",
    "\n",
    "original_structure = cry_gui2pmg(path+file)\n",
    "structures = []\n",
    "for substitutions in cry_output.atom_type1:\n",
    "    new_structure = original_structure.copy()\n",
    "    for i in substitutions:\n",
    "        new_structure.replace(i-1,new_atom)\n",
    "    structures.append(new_structure)\n"
   ]
  },
  {
   "cell_type": "markdown",
   "id": "e97fc733",
   "metadata": {},
   "source": [
    "Example of analysis that can be performed: get the space group"
   ]
  },
  {
   "cell_type": "code",
   "execution_count": 36,
   "id": "d4360ddc",
   "metadata": {
    "scrolled": false
   },
   "outputs": [],
   "source": [
    "space_group = []\n",
    "for structure in structures:\n",
    "    space_group.append(SpacegroupAnalyzer(structure).get_space_group_number())"
   ]
  },
  {
   "cell_type": "markdown",
   "id": "5a8eb51c",
   "metadata": {},
   "source": [
    "Neighbour analysis"
   ]
  },
  {
   "cell_type": "code",
   "execution_count": 68,
   "id": "1a21ded5",
   "metadata": {},
   "outputs": [
    {
     "data": {
      "text/plain": [
       "[PeriodicSite: S (-2.5427, -0.0000, -0.0000) [0.1667, -0.1667, -0.1667],\n",
       " PeriodicSite: S (-0.0000, -2.5427, 0.0000) [-0.1667, 0.1667, -0.1667],\n",
       " PeriodicSite: S (0.0000, 0.0000, -2.5427) [-0.1667, -0.1667, 0.1667],\n",
       " PeriodicSite: S (-0.0000, -0.0000, 2.5427) [0.1667, 0.1667, -0.1667],\n",
       " PeriodicSite: S (0.0000, 2.5427, -0.0000) [0.1667, -0.1667, 0.1667],\n",
       " PeriodicSite: S (2.5427, 0.0000, 0.0000) [-0.1667, 0.1667, 0.1667]]"
      ]
     },
     "metadata": {},
     "output_type": "display_data"
    },
    {
     "data": {
      "text/plain": [
       "[PeriodicSite: Ti (0.0000, 0.0000, 0.0000) [0.0000, 0.0000, 0.0000],\n",
       " PeriodicSite: Li (2.5427, -2.5427, 0.0000) [-0.3333, 0.3333, 0.0000],\n",
       " PeriodicSite: Li (2.5428, 0.0000, -2.5427) [-0.3333, 0.0000, 0.3333],\n",
       " PeriodicSite: Ti (2.5427, 0.0000, 2.5427) [-0.0000, 0.3333, 0.0000],\n",
       " PeriodicSite: Li (5.0855, 0.0000, 0.0000) [-0.3333, 0.3333, 0.3333],\n",
       " PeriodicSite: Ti (2.5428, 2.5427, 0.0000) [-0.0000, 0.0000, 0.3333]]"
      ]
     },
     "metadata": {},
     "output_type": "display_data"
    }
   ],
   "source": [
    "#for i in range(structures[0].num_sites):\n",
    "display(structures[0].get_neighbors(structures[0].sites[0],3.))\n",
    "\n",
    "display(structures[0].get_neighbors(structures[0].sites[45],3.))"
   ]
  }
 ],
 "metadata": {
  "kernelspec": {
   "display_name": "Python 3 (ipykernel)",
   "language": "python",
   "name": "python3"
  },
  "language_info": {
   "codemirror_mode": {
    "name": "ipython",
    "version": 3
   },
   "file_extension": ".py",
   "mimetype": "text/x-python",
   "name": "python",
   "nbconvert_exporter": "python",
   "pygments_lexer": "ipython3",
   "version": "3.9.7"
  }
 },
 "nbformat": 4,
 "nbformat_minor": 5
}
