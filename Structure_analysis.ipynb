{
 "cells": [
  {
   "cell_type": "markdown",
   "id": "1bc6a017",
   "metadata": {},
   "source": [
    "# Structures analysis\n",
    "\n",
    "\n"
   ]
  },
  {
   "cell_type": "code",
   "execution_count": 1,
   "id": "1b2ba234",
   "metadata": {},
   "outputs": [
    {
     "name": "stderr",
     "output_type": "stream",
     "text": [
      "<frozen importlib._bootstrap>:228: RuntimeWarning: scipy._lib.messagestream.MessageStream size changed, may indicate binary incompatibility. Expected 56 from C header, got 64 from PyObject\n"
     ]
    }
   ],
   "source": [
    "import sys\n",
    "sys.path.insert(1, '../../crystal-code-tools/crystal_functions/crystal_functions/')\n",
    "\n",
    "from file_readwrite import Crystal_output, write_cry_properties, Crystal_input, write_cry_gui,write_cry_input\n",
    "from execute import runcry\n",
    "from convert import cry_gui2pmg\n",
    "\n",
    "from pymatgen.io.ase import AseAtomsAdaptor\n",
    "from pymatgen.io.cif import CifWriter\n",
    "from ase.visualize import view\n",
    "\n",
    "from pymatgen.symmetry.analyzer import SpacegroupAnalyzer\n",
    "from pymatgen.core.surface import SlabGenerator\n",
    "import numpy as np\n",
    "import pandas as pd"
   ]
  },
  {
   "cell_type": "code",
   "execution_count": 2,
   "id": "e4c14a24",
   "metadata": {},
   "outputs": [],
   "source": [
    "path = '/Users/brunocamino/Desktop/Imperial/cmsg_icl/solid-solutions/data/'\n",
    "file = 'LTS_CONFCNT_ONLY'\n",
    "\n",
    "new_atom = 'Li'"
   ]
  },
  {
   "cell_type": "markdown",
   "id": "5f4d71d2",
   "metadata": {},
   "source": [
    "### Read the structures from the output files and replace with new_atom\n",
    "This cell generates the structures list. This contains all the 4023 structures as pymatgen structure objects"
   ]
  },
  {
   "cell_type": "code",
   "execution_count": 335,
   "id": "2498ec20",
   "metadata": {},
   "outputs": [
    {
     "data": {
      "text/plain": [
       "<Popen: returncode: None args: ['/Users/brunocamino/miniconda3/envs/cc/bin/p...>"
      ]
     },
     "execution_count": 335,
     "metadata": {},
     "output_type": "execute_result"
    }
   ],
   "source": [
    "view(AseAtomsAdaptor().get_atoms(structures[1638]))"
   ]
  },
  {
   "cell_type": "markdown",
   "id": "20c78a2c",
   "metadata": {},
   "source": [
    "# List of Li atoms"
   ]
  },
  {
   "cell_type": "code",
   "execution_count": 3,
   "id": "9a1dbda7",
   "metadata": {},
   "outputs": [],
   "source": [
    "with open('data/Configuration.txt') as file:\n",
    "    data = file.readlines()\n",
    "manual_li = []\n",
    "for line in data:\n",
    "    if line.lstrip(' ').split(' ')[0] != '\\n':\n",
    "        manual_li.append([int(x) for x in line.rstrip('\\n').lstrip(' ').rstrip(' ').split(' ')])\n"
   ]
  },
  {
   "cell_type": "code",
   "execution_count": 4,
   "id": "035ccf86",
   "metadata": {},
   "outputs": [],
   "source": [
    "original_structure = cry_gui2pmg('/Users/brunocamino/Desktop/Imperial/cmsg_icl/solid-solutions/data/LTS_CONFCNT_ONLY.gui')\n",
    "structures = []\n",
    "ti_atoms = []\n",
    "li_atoms = []\n",
    "all_ti = [x for x in range(1,28)]\n",
    "for j,substitutions in enumerate(manual_li):\n",
    "    new_structure = original_structure.copy()\n",
    "    for i in substitutions:\n",
    "        new_structure.replace(i-1,new_atom)\n",
    "    structures.append(new_structure)\n",
    "    ti_atoms.append((np.array([i for i in all_ti if i not in manual_li[j]])-1).tolist())\n",
    "li_atoms = (np.array(manual_li)-1).tolist()"
   ]
  },
  {
   "cell_type": "markdown",
   "id": "0e2e1226",
   "metadata": {},
   "source": [
    "# List of Li atoms"
   ]
  },
  {
   "cell_type": "code",
   "execution_count": 5,
   "id": "eabc4394",
   "metadata": {},
   "outputs": [],
   "source": [
    "names = ['data/structures/2.f34', \n",
    "         'data/structures/119.f34' , \n",
    "         'data/structures/127.f34', \n",
    "         'data/structures/218.f34',    \n",
    "'data/structures/348.f34',\n",
    "'data/structures/650.f34',  \n",
    "'data/structures/721.f34',      \n",
    "'data/structures/840.f34',      \n",
    "'data/structures/868.f34',         \n",
    "'data/structures/1363.f34',\n",
    "'data/structures/1435.f34',\n",
    "'data/structures/1526.f34',\n",
    "'data/structures/1639.f34',\n",
    "'data/structures/1887.f34',\n",
    "'data/structures/1688.f34',\n",
    "'data/structures/2312.f34',\n",
    "'data/structures/3579.f34',\n",
    "'data/structures/3842.f34',\n",
    "'data/structures/1126.f34']"
   ]
  },
  {
   "cell_type": "code",
   "execution_count": 6,
   "id": "bd4eb706",
   "metadata": {},
   "outputs": [
    {
     "data": {
      "text/plain": [
       "array([   2,  119,  127,  218,  348,  650,  721,  840,  868, 1363, 1435,\n",
       "       1526, 1639, 1887, 1688, 2312, 3579, 3842, 1126])"
      ]
     },
     "execution_count": 6,
     "metadata": {},
     "output_type": "execute_result"
    }
   ],
   "source": [
    "selected_structures = []\n",
    "for i in names:\n",
    "    selected_structures.append(int(i[16:-4]))\n",
    "selected_structures = np.array(selected_structures)\n",
    "selected_structures"
   ]
  },
  {
   "cell_type": "markdown",
   "id": "ef02ee2e",
   "metadata": {},
   "source": [
    "### Space group"
   ]
  },
  {
   "cell_type": "code",
   "execution_count": 663,
   "id": "d4360ddc",
   "metadata": {
    "scrolled": false
   },
   "outputs": [],
   "source": [
    "space_group = []\n",
    "for structure in structures:\n",
    "    space_group.append(SpacegroupAnalyzer(structure).get_space_group_number())\n",
    "#space_group"
   ]
  },
  {
   "cell_type": "markdown",
   "id": "68c61c4b",
   "metadata": {},
   "source": [
    "### Shells"
   ]
  },
  {
   "cell_type": "code",
   "execution_count": 14,
   "id": "ae8e21e9",
   "metadata": {},
   "outputs": [
    {
     "data": {
      "text/plain": [
       "[0.0, 2.54275, 3.595992, 4.404172, 5.0855, 5.685762, 6.22844, 7.62825]"
      ]
     },
     "execution_count": 14,
     "metadata": {},
     "output_type": "execute_result"
    }
   ],
   "source": [
    "shells = np.unique(np.round(structures[0].distance_matrix[0],decimals=6)).tolist()\n",
    "shells"
   ]
  },
  {
   "cell_type": "markdown",
   "id": "5a8eb51c",
   "metadata": {},
   "source": [
    "### Average Ti-Ti distance"
   ]
  },
  {
   "cell_type": "code",
   "execution_count": 15,
   "id": "b3a0200f",
   "metadata": {},
   "outputs": [],
   "source": [
    "average_ti = []\n",
    "std_average_ti = []\n",
    "average_std_ti_combined = []\n",
    "for n,structure in enumerate(structures):\n",
    "    average = 0.\n",
    "    std_average = []\n",
    "    for i in ti_atoms[n]:\n",
    "        for j in ti_atoms[n]: \n",
    "            if i != j:\n",
    "                average += round(structure.sites[i].distance(structure.sites[j]),6)\n",
    "                std_average.append(structure.sites[i].distance(structure.sites[j]))\n",
    "    average_ti.append(average/(len(ti_atoms[n])**2))\n",
    "    std_average_ti.append(np.std(std_average))\n",
    "    average_std_ti_combined.append([average/(len(ti_atoms[n])**2),np.std(std_average)])"
   ]
  },
  {
   "cell_type": "code",
   "execution_count": 181,
   "id": "7f2b28d9",
   "metadata": {
    "collapsed": true
   },
   "outputs": [
    {
     "data": {
      "text/plain": [
       "(array([0.74475423, 0.89236474, 0.92769301, 0.93425638, 0.93425638,\n",
       "        0.93425638, 0.93895252, 0.96565593, 0.97331353, 0.97331353,\n",
       "        0.9783307 , 0.97916458, 0.98324131, 0.98324131, 0.99068342,\n",
       "        0.99068342, 1.00117556, 1.00117556, 1.00117556, 1.00117556,\n",
       "        1.00986512, 1.00986512, 1.0167983 , 1.0167983 , 1.0167983 ,\n",
       "        1.0167983 , 1.02201086, 1.02201086, 1.02306973, 1.02306973,\n",
       "        1.02337474, 1.02337474, 1.02552902, 1.02552902, 1.02604952,\n",
       "        1.03450362, 1.03450362, 1.03450362, 1.03937324, 1.03937324,\n",
       "        1.0441743 , 1.0441743 , 1.0441743 , 1.05213041, 1.05213041,\n",
       "        1.05350549, 1.05350549, 1.05350549, 1.0584106 , 1.0584106 ,\n",
       "        1.06304457, 1.06304457, 1.0658457 , 1.0658457 , 1.0658457 ,\n",
       "        1.06605381, 1.06605381, 1.06605381, 1.06717185, 1.06717185,\n",
       "        1.06717185, 1.0757061 , 1.0757061 , 1.0757061 , 1.07645552,\n",
       "        1.07645552, 1.07645552, 1.07779263, 1.07779263, 1.0808223 ,\n",
       "        1.0808223 , 1.08215527, 1.08215527, 1.08215527, 1.08538569,\n",
       "        1.08538569, 1.08538569, 1.08895048, 1.09267739, 1.09267739,\n",
       "        1.09267739, 1.09334298, 1.09334298, 1.09537229, 1.09537229,\n",
       "        1.09537229, 1.09836326, 1.09836326, 1.09836326, 1.09956519,\n",
       "        1.09956519, 1.09956519, 1.1009061 , 1.1009061 , 1.1009061 ,\n",
       "        1.10246813, 1.10246813, 1.10500964, 1.10688621, 1.10688621,\n",
       "        1.10688621, 1.10915748, 1.10915748, 1.10915748, 1.11572785,\n",
       "        1.11572785, 1.11572785, 1.11674969, 1.11674969, 1.11674969,\n",
       "        1.11800092, 1.11800092, 1.11800092, 1.12058324, 1.12126501,\n",
       "        1.12126501, 1.12126501, 1.12201948, 1.12201948, 1.12201948,\n",
       "        1.12322658, 1.12322658, 1.12322658, 1.12500615, 1.12500615,\n",
       "        1.12500615, 1.13169077, 1.13169077, 1.13169077, 1.13288596,\n",
       "        1.13288596, 1.13288596, 1.13462976, 1.13462976, 1.13462976,\n",
       "        1.13561514, 1.13561514, 1.13683127, 1.13683127, 1.13988364,\n",
       "        1.14037726, 1.14037726, 1.14037726, 1.14044853, 1.14124377,\n",
       "        1.14124377, 1.14124377, 1.14255702, 1.14315173, 1.14315173,\n",
       "        1.14315173, 1.14637766, 1.14637766, 1.14637766, 1.14891108,\n",
       "        1.14891108, 1.14891108, 1.14953013, 1.14953013, 1.15555956,\n",
       "        1.15555956, 1.15555956, 1.15830456, 1.15830456, 1.15830456,\n",
       "        1.15867302, 1.15867302, 1.15867302, 1.16276847, 1.16276847,\n",
       "        1.16276847, 1.16303403, 1.16303403, 1.16303403, 1.16315636,\n",
       "        1.16315636, 1.16319828, 1.16319828, 1.16932407, 1.16932407,\n",
       "        1.16932407, 1.1739606 , 1.17438715, 1.17438715, 1.17440099,\n",
       "        1.17440099, 1.17510115, 1.17712547, 1.18137451, 1.18137451,\n",
       "        1.18137451, 1.18172945, 1.18172945, 1.18172945, 1.18381256,\n",
       "        1.18381256, 1.18381256, 1.18447501, 1.18447501, 1.18447501,\n",
       "        1.18845419, 1.18845419, 1.18845419, 1.19303   , 1.19303   ,\n",
       "        1.19788769, 1.19788769, 1.20009845, 1.20093203, 1.20093203,\n",
       "        1.20093203, 1.2028102 , 1.2028102 , 1.20327707, 1.20327707,\n",
       "        1.20570651, 1.21186974, 1.21276556, 1.21276556, 1.21276556,\n",
       "        1.22011014, 1.22130872, 1.22606764, 1.22606764]),\n",
       " array([1638, 2800, 3898, 1370, 3235, 2820, 1244, 2025,  311, 1917,  414,\n",
       "        2308,  417, 1915,  217,   49, 1595,  319, 2663,  582,  477,  248,\n",
       "        3161,  388,  862, 3396,  823, 1556,  181, 1975, 2914, 2693,  997,\n",
       "        2885,  847,  452,  134, 3846, 1120,  366,  421, 1015, 1309, 1050,\n",
       "         420,  382,  148, 3774,   63,    4, 1588, 2813,  413,  278, 1045,\n",
       "         523, 1803,  807, 3104,   54,  206, 1048,   14,  254,  391,   56,\n",
       "          59, 1315, 3851,  649,  126, 1984,   76,  598,  157,  284,  398,\n",
       "        1657,  947,   12,  429,  370,    3,  437,  261, 2493,   13,    9,\n",
       "          40, 1678,   51,   93, 3614,  155,  932,  629,  263,  786,  613,\n",
       "           0, 1708,  344,    7,  506,  842,  113,  341,  449,   15, 1075,\n",
       "        1919,   52,   44,  839, 1368,   78, 1664,  285,  201,  788,  268,\n",
       "           5,   67,  774,  110,  762, 1292,  785,  692, 1598,  223,  478,\n",
       "         686,   32,  173,   22,   82,   41,   43, 1096,   24,   23,  599,\n",
       "        3260,  213,   21,  472,  879,   46,  221, 2606, 2221,   42,  400,\n",
       "        1525,  499, 1362,  128,   80,  140,   20, 2083,  409,    1,  544,\n",
       "          68,   36,  180,   26,   34,  890,    2,    8,   79,  279,  127,\n",
       "         936,  339,    6,   27,  631,  426,   45,  120,  524,  166, 1765,\n",
       "         812,   73,   64,  194, 3727,  347, 1232,   86,   28,  198,   84,\n",
       "         103,  801,  255,   17, 2125,  306,  159,  158,  132, 2055,  707,\n",
       "          25,   62,  324,  109, 2847,   94, 1409, 1052,  983,   60, 1814,\n",
       "        3045, 1837, 2960,  736]),\n",
       " array([  1,   1,   1,   1,   1,   1,   3,   1,   5,   1,   1,   1,   1,\n",
       "          1,   6,   2,   1,   8,   1,   1,   3,  11,   1,   7,   3,   1,\n",
       "          4,   1,  10,   5,   1,   1,   1,   1,   1,   7,  19,   1,   9,\n",
       "          4,   4,  12,   3,   5,  11,   3,  33,   1,   9,  10,   3,   1,\n",
       "         32,  13,   1,   3,   5,   1,   2,  18,   2,   4,  16,   7,   4,\n",
       "         60,  24,   3,   1,   1,   1,   3,  74,   9,   1,  23,   4,   2,\n",
       "          3,  29,   7,   9,  34,  14,  25,   1,   4,  12,   4,   1,  16,\n",
       "         28,   1,  17,   8,   2,   7,   3,  22,  74,   2,   2, 121,  12,\n",
       "          4,  23,   8,   7,  69,   1,   1,  37,  80,  11,   4,  29,   6,\n",
       "         24,  54,  10,   5, 100,  50,   5,  25,   5,   2,  13,   6,   2,\n",
       "         25,   5,   1,  52,  42,  85,  19,   7,  12,   1,   3,  33,  18,\n",
       "          1,  62,  67,   6,   2, 107,  40,   3,   3,  71,  17,   1,   9,\n",
       "          1,  75,  60,  40,  56,   4,   4,  45,   4,  18, 206,  42,  80,\n",
       "         83,   3,  16,  83,  18,  25,  51,   8,  15,   7,  11,   2,   4,\n",
       "          9,  87,  26,  25,   3,   2,   5, 105,  19,   1,   9,   7,  18,\n",
       "         62,  13,   4,  42,   5,   6, 118,   4,  13,  10,  57,  21,   2,\n",
       "          2,  39,  13,   8,  17,   1,   4,   1,  13,   3,  10,   3,   2,\n",
       "          1,   1,   1]))"
      ]
     },
     "execution_count": 181,
     "metadata": {},
     "output_type": "execute_result"
    }
   ],
   "source": [
    "np.unique(np.array(std_average_ti),return_counts=True,return_index=True)"
   ]
  },
  {
   "cell_type": "code",
   "execution_count": 242,
   "id": "0f783144",
   "metadata": {},
   "outputs": [
    {
     "data": {
      "image/png": "[encoded data removed]",
      "text/plain": [
       "<Figure size 432x288 with 1 Axes>"
      ]
     },
     "metadata": {
      "needs_background": "light"
     },
     "output_type": "display_data"
    }
   ],
   "source": [
    "import matplotlib.pyplot as plt\n",
    "\n",
    "color = ['b','g','r','c','m','y','k','tab:orange']\n",
    "fig, ax = plt.subplots()\n",
    "ax.plot(average_ti, std_average_ti,'o',c=color[0])\n",
    "#ax.plot(non_linear, e_non_linear,'o',c=color[1])\n",
    "#ax.plot(np.arange(4023), energy_sorted,'o',c=color[1])\n",
    "#ax.plot(average_ti,energy_sorted ,'o',c=color[1])\n",
    "\n",
    "\n",
    "ax.set(xlabel='Structure number', ylabel='E (Ry)',\n",
    "       title='Total Energy')\n",
    "ax.grid()\n",
    "\n",
    "#fig.savefig(\"test.png\")\n",
    "plt.show()"
   ]
  },
  {
   "cell_type": "code",
   "execution_count": 257,
   "id": "e499f9f5",
   "metadata": {},
   "outputs": [],
   "source": [
    "unique_ti_average = np.unique(np.sort(np.array(average_ti)),axis=0)\n",
    "average_ti_group = []\n",
    "for i in range(len(structures)):\n",
    "    average_ti_group.append(np.where(unique_ti_average == average_ti[i])[0][0])"
   ]
  },
  {
   "cell_type": "code",
   "execution_count": 16,
   "id": "2213726b",
   "metadata": {},
   "outputs": [
    {
     "data": {
      "text/plain": [
       "array([1096,  847, 1638,  879,  786,  523,  997,  812,  417, 3260, 1244,\n",
       "        263, 2800, 1588,  823,  426, 2308,   41, 1370,    9,    4, 1409,\n",
       "        388,    6,  311,  692, 3898,   12,  420, 2055,  248,  339, 2025,\n",
       "        110,  157,  421,  159,  319,   20,   15,   56, 1837,  134,   84,\n",
       "         49,   42,    0,  278, 1052,  181,  166,  414,   22,  261,  148,\n",
       "         25,   26,    5,   76,  736,  366,   17,   80,    7,   54,   60,\n",
       "       2693,   45,   32,    3,  132,   36,   44,   14, 3045,   64,   21,\n",
       "         51,  109,  127,  201,   28,   46,  155,   94,    2,   78, 1315,\n",
       "        347,   23,    1,  113, 1765,  223, 1657,  499,  839,  126])"
      ]
     },
     "execution_count": 16,
     "metadata": {},
     "output_type": "execute_result"
    }
   ],
   "source": [
    "dist_std_unique, dist_std_first, dist_std_occ =  np.unique(np.round(np.array(average_std_ti_combined),6),axis=0,return_counts=True,return_index=True)\n",
    "dist_std_first"
   ]
  },
  {
   "cell_type": "code",
   "execution_count": 19,
   "id": "0e31c603",
   "metadata": {},
   "outputs": [
    {
     "data": {
      "image/png": "[encoded data removed]",
      "text/plain": [
       "<Figure size 1332x756 with 1 Axes>"
      ]
     },
     "metadata": {
      "needs_background": "light"
     },
     "output_type": "display_data"
    }
   ],
   "source": [
    "import matplotlib.pyplot as plt\n",
    "\n",
    "\n",
    "font = {'size'   : 14,\n",
    "       'weight': 'normal'}\n",
    "\n",
    "plt.rc('font', **font)\n",
    "\n",
    "color = ['b','g','r','c','m','y','k','tab:orange']\n",
    "fig, ax = plt.subplots()\n",
    "ax.plot(dist_std_unique[:,0], dist_std_unique[:,1],'o',c=color[0])\n",
    "ax.plot(np.array(average_std_ti_combined)[selected_structures,0],\n",
    "        np.array(average_std_ti_combined)[selected_structures,1],'o',c=color[2])\n",
    "#label = dist_std_first\n",
    "label = selected_structures\n",
    "#ax.plot(non_linear, e_non_linear,'o',c=color[1])\n",
    "#ax.plot(np.arange(4023), energy_sorted,'o',c=color[1])\n",
    "#ax.plot(average_ti,energy_sorted ,'o',c=color[1])\n",
    "\n",
    "\n",
    "ax.set(xlabel='Average Ti distance', ylabel='Standard Deviation')\n",
    "ax.grid()\n",
    "\n",
    "texts = []\n",
    "another_annotation = '- style'\n",
    "for i, txt in enumerate(label):\n",
    "    #ax.annotate(txt, (dist_std_unique[i,0], dist_std_unique[i,1]),)\n",
    "    x = np.array(average_std_ti_combined)[txt-1,0]\n",
    "    y = np.array(average_std_ti_combined)[txt-1,1]\n",
    "    #ax.annotate(txt, (np.array(average_std_ti_combined)[txt-1,0], np.array(average_std_ti_combined)[txt-1,1]),)\n",
    "    xytext = (x,y-0.01*i)\n",
    "    ax.annotate(txt,xy=(x,y),xytext=xytext,arrowprops={'arrowstyle':'-'})\n",
    "fig.set_size_inches(18.5, 10.5)\n",
    "#fig.savefig(\"test.png\")\n",
    "plt.show()"
   ]
  },
  {
   "cell_type": "code",
   "execution_count": 640,
   "id": "38323545",
   "metadata": {
    "collapsed": true
   },
   "outputs": [
    {
     "data": {
      "text/plain": [
       "array([2.81169831e-01, 2.17290918e-01, 4.20215495e-01, 2.25500257e-01,\n",
       "       2.01641868e-01, 1.34171370e-01, 2.55772191e-01, 2.08311955e-01,\n",
       "       1.06977937e-01, 8.36326321e-01, 3.19138019e-01, 6.74704977e-02,\n",
       "       7.18317086e-01, 4.07388404e-01, 2.11133915e-01, 1.09286814e-01,\n",
       "       5.92098512e-01, 1.05182145e-02, 3.51462288e-01, 2.30887635e-03,\n",
       "       1.02616727e-03, 3.61467419e-01, 9.95382247e-02, 1.53925090e-03,\n",
       "       7.97845049e-02, 1.77526937e-01, 1.00000000e+00, 3.07850180e-03,\n",
       "       1.07747563e-01, 5.27193433e-01, 6.36223704e-02, 8.69676757e-02,\n",
       "       5.19497178e-01, 2.82195998e-02, 4.02770652e-02, 1.08004105e-01,\n",
       "       4.07901488e-02, 8.18368394e-02, 5.13083633e-03, 3.84812724e-03,\n",
       "       1.43663417e-02, 4.71267317e-01, 3.43766034e-02, 2.15495126e-02,\n",
       "       1.25705490e-02, 1.07747563e-02, 0.00000000e+00, 7.13186249e-02,\n",
       "       2.69881991e-01, 4.64340688e-02, 4.25859415e-02, 1.06208312e-01,\n",
       "       5.64391996e-03, 6.69574141e-02, 3.79681888e-02, 6.41354541e-03,\n",
       "       6.67008722e-03, 1.28270908e-03, 1.94971780e-02, 1.88814777e-01,\n",
       "       9.38943048e-02, 4.36121088e-03, 2.05233453e-02, 1.79579271e-03,\n",
       "       1.38532581e-02, 1.53925090e-02, 6.90867111e-01, 1.15443817e-02,\n",
       "       8.20933812e-03, 7.69625449e-04, 3.38635198e-02, 9.23550539e-03,\n",
       "       1.12878399e-02, 3.59158543e-03, 7.81169831e-01, 1.64186762e-02,\n",
       "       5.38737814e-03, 1.30836326e-02, 2.79630580e-02, 3.25808107e-02,\n",
       "       5.15649051e-02, 7.18317086e-03, 1.18009236e-02, 3.97639815e-02,\n",
       "       2.41149307e-02, 5.13083633e-04, 2.00102617e-02, 3.37352488e-01,\n",
       "       8.90200103e-02, 5.90046178e-03, 2.56541816e-04, 2.89892252e-02,\n",
       "       4.52796306e-01, 5.72088250e-02, 4.25089790e-01, 1.28014366e-01,\n",
       "       2.15238584e-01, 3.23242689e-02])"
      ]
     },
     "execution_count": 640,
     "metadata": {},
     "output_type": "execute_result"
    }
   ],
   "source": [
    "dist_std_first/max(dist_std_first)"
   ]
  },
  {
   "cell_type": "code",
   "execution_count": 17,
   "id": "a7c31169",
   "metadata": {
    "scrolled": false
   },
   "outputs": [
    {
     "data": {
      "image/png": "[encoded data removed]",
      "text/plain": [
       "<Figure size 1332x756 with 1 Axes>"
      ]
     },
     "metadata": {
      "needs_background": "light"
     },
     "output_type": "display_data"
    }
   ],
   "source": [
    "import matplotlib.pyplot as plt\n",
    "\n",
    "\n",
    "font = {'size'   : 14,\n",
    "       'weight': 'normal'}\n",
    "\n",
    "plt.rc('font', **font)\n",
    "\n",
    "color = ['b','g','r','c','m','y','k','tab:orange']\n",
    "fig, ax = plt.subplots()\n",
    "ax.scatter(dist_std_unique[:,0], dist_std_unique[:,1],s=dist_std_occ/max(dist_std_first)*10000)\n",
    "'''ax.plot(np.array(average_std_ti_combined)[selected_structures,0],\n",
    "        np.array(average_std_ti_combined)[selected_structures,1],'o',c=color[2])'''\n",
    "label = dist_std_first\n",
    "#label = selected_structures+1\n",
    "#ax.plot(non_linear, e_non_linear,'o',c=color[1])\n",
    "#ax.plot(np.arange(4023), energy_sorted,'o',c=color[1])\n",
    "#ax.plot(average_ti,energy_sorted ,'o',c=color[1])\n",
    "\n",
    "\n",
    "ax.set(xlabel='Average Ti distance', ylabel='Standard Deviation')\n",
    "ax.grid()\n",
    "\n",
    "texts = []\n",
    "another_annotation = '- style'\n",
    "for i, txt in enumerate(label):\n",
    "    ax.annotate(txt, (dist_std_unique[i,0], dist_std_unique[i,1]),)\n",
    "    #x = np.array(average_std_ti_combined)[txt-1,0]\n",
    "    #y = np.array(average_std_ti_combined)[txt-1,1]\n",
    "    #ax.annotate(txt, (np.array(average_std_ti_combined)[txt-1,0], np.array(average_std_ti_combined)[txt-1,1]),)\n",
    "    #xytext = (x,y-0.01*i)\n",
    "    #ax.annotate(txt,xy=(x,y),xytext=xytext,arrowprops={'arrowstyle':'-'})\n",
    "fig.set_size_inches(18.5, 10.5)\n",
    "#fig.savefig(\"test.png\")\n",
    "plt.show()"
   ]
  },
  {
   "cell_type": "code",
   "execution_count": 656,
   "id": "76c5e1ca",
   "metadata": {},
   "outputs": [
    {
     "data": {
      "text/plain": [
       "<Popen: returncode: None args: ['/Users/brunocamino/miniconda3/envs/cc/bin/p...>"
      ]
     },
     "execution_count": 656,
     "metadata": {},
     "output_type": "execute_result"
    }
   ],
   "source": [
    "view(AseAtomsAdaptor().get_atoms(structures[649]))"
   ]
  },
  {
   "cell_type": "code",
   "execution_count": 457,
   "id": "aa992cb2",
   "metadata": {
    "collapsed": true
   },
   "outputs": [
    {
     "data": {
      "text/plain": [
       "(array([[3.858441, 0.744754],\n",
       "        [4.084207, 1.076456],\n",
       "        [4.101321, 0.990683],\n",
       "        [4.120985, 1.065846],\n",
       "        [4.140648, 1.135615],\n",
       "        [4.214204, 1.109157],\n",
       "        [4.428864, 1.181729],\n",
       "        [4.465642, 1.158305],\n",
       "        [4.493863, 1.175101],\n",
       "        [4.50242 , 1.132886],\n",
       "        [4.530641, 1.148911],\n",
       "        [4.567419, 1.120583],\n",
       "        [4.697416, 1.080822]]),\n",
       " array([13,  6,  3, 11, 17, 16,  4,  0, 14,  9,  8,  7,  2]),\n",
       " array([1, 1, 1, 1, 1, 1, 1, 2, 1, 1, 5, 2, 2]))"
      ]
     },
     "execution_count": 457,
     "metadata": {},
     "output_type": "execute_result"
    }
   ],
   "source": [
    "np.unique(np.round(np.array(average_std_ti_combined)[selected_structures,:],6),axis=0, return_counts=True, return_index=True)"
   ]
  },
  {
   "cell_type": "markdown",
   "id": "2cbe1b72",
   "metadata": {},
   "source": [
    "# Group"
   ]
  },
  {
   "cell_type": "code",
   "execution_count": 556,
   "id": "653e95e0",
   "metadata": {},
   "outputs": [],
   "source": [
    "average_std_group = []\n",
    "for unique in dist_std_unique:\n",
    "    average_std_group.append(np.where(np.all(np.round(np.array(average_std_ti_combined),6) == unique,axis=1))[0].tolist())"
   ]
  },
  {
   "cell_type": "code",
   "execution_count": 665,
   "id": "ba32c7b0",
   "metadata": {},
   "outputs": [],
   "source": [
    "structs = [126,1096,847,1638]\n",
    "#structs = [736]\n",
    "calculate_structures = []\n",
    "for struct in structs:\n",
    "    for n, group in enumerate(average_std_group):\n",
    "        if struct in group:\n",
    "            calculate_structures.extend(average_std_group[n])\n",
    "\n",
    "extra_structs = [2800,879,839,2693,736]\n",
    "for struct in extra_structs:\n",
    "    calculate_structures.append(struct)"
   ]
  },
  {
   "cell_type": "code",
   "execution_count": 7,
   "id": "99b715d2",
   "metadata": {},
   "outputs": [],
   "source": [
    "calculate_structures = [1096,847,879,2800,736]\n",
    "all_structures = (np.array(calculate_structures)+1).tolist()\n",
    "all_structures.extend(selected_structures.tolist())"
   ]
  },
  {
   "cell_type": "code",
   "execution_count": 11,
   "id": "dfce7b76",
   "metadata": {},
   "outputs": [
    {
     "name": "stdout",
     "output_type": "stream",
     "text": [
      "736\n",
      "847\n",
      "879\n",
      "1096\n",
      "2800\n"
     ]
    }
   ],
   "source": [
    "for j,i in enumerate(np.sort(np.array(calculate_structures))):\n",
    "    print(i)"
   ]
  },
  {
   "cell_type": "code",
   "execution_count": 12,
   "id": "82da5de1",
   "metadata": {},
   "outputs": [
    {
     "name": "stdout",
     "output_type": "stream",
     "text": [
      "qsub LTS_1096_B3LYP_Ahl_b.qsub\n",
      "qsub LTS_847_B3LYP_Ahl_b.qsub\n",
      "qsub LTS_879_B3LYP_Ahl_b.qsub\n",
      "qsub LTS_2800_B3LYP_Ahl_b.qsub\n",
      "qsub LTS_736_B3LYP_Ahl_b.qsub\n"
     ]
    }
   ],
   "source": [
    "for i in calculate_structures:\n",
    "    #print('qcry LTS_%s_B3LYP_Ahl_b 192 24:00'%i)\n",
    "    print('qsub LTS_%s_B3LYP_Ahl_b.qsub'%i)"
   ]
  },
  {
   "cell_type": "code",
   "execution_count": 741,
   "id": "d0a8280f",
   "metadata": {
    "collapsed": true
   },
   "outputs": [
    {
     "name": "stdout",
     "output_type": "stream",
     "text": [
      "90\n",
      "90\n",
      "97\n",
      "44\n",
      "88\n",
      "97\n",
      "40\n",
      "59\n",
      "96\n",
      "1\n",
      "95\n",
      "3\n",
      "0\n",
      "95\n",
      "95\n",
      "47\n",
      "95\n",
      "2\n",
      "96\n",
      "92\n",
      "63\n",
      "12\n",
      "52\n",
      "95\n"
     ]
    }
   ],
   "source": [
    "np.sort(np.array(all_structures)).tolist()\n",
    "group = []\n",
    "for j in np.sort(np.array(all_structures)-1).tolist():\n",
    "    for i,sublist in enumerate(average_std_group):\n",
    "        if j in sublist:\n",
    "            group.append(i)\n",
    "            \n",
    "for i in group:\n",
    "    print(i)"
   ]
  },
  {
   "cell_type": "code",
   "execution_count": 10,
   "id": "3e6a622c",
   "metadata": {},
   "outputs": [],
   "source": [
    "input_cry = Crystal_input('data/calculations/LTS_1435_PBE_Ahl_new.d12')\n",
    "input_cry.bs_block\n",
    "for structure in selected_structures:\n",
    "    write_cry_input('data/calculations/final/bruno/LTS_%s_B3LYP_Ahl_b.d12'%structure,crystal_input=input_cry)\n",
    "    write_cry_gui('data/calculations/final/bruno/LTS_%s_B3LYP_Ahl_b.gui'%str(structure), structures[structure], symm=False)"
   ]
  },
  {
   "cell_type": "code",
   "execution_count": 689,
   "id": "7557e684",
   "metadata": {},
   "outputs": [],
   "source": [
    "import shutil\n",
    "for i in selected_structures:\n",
    "    shutil.copyfile('data/calculations/final/PBE/LTS_%s_PBE_Ahl_new.f34'%i,'data/calculations/final/bruno/LTS_%s_B3LYP_Ahl_b.gui'%i)\n",
    "                    \n",
    "                    \n",
    "                    "
   ]
  },
  {
   "cell_type": "code",
   "execution_count": 671,
   "id": "01e91807",
   "metadata": {},
   "outputs": [
    {
     "data": {
      "text/plain": [
       "<Popen: returncode: None args: ['/Users/brunocamino/miniconda3/envs/cc/bin/p...>"
      ]
     },
     "execution_count": 671,
     "metadata": {},
     "output_type": "execute_result"
    }
   ],
   "source": [
    "a = cry_gui2pmg('data/calculations/symm/symm/LTS_649.gui')\n",
    "view(AseAtomsAdaptor().get_atoms(a))"
   ]
  },
  {
   "cell_type": "markdown",
   "id": "d938a17a",
   "metadata": {},
   "source": [
    "### Average second coordination \n",
    "The number of Ti atoms in the second shell averaged over all Ti atoms"
   ]
  },
  {
   "cell_type": "code",
   "execution_count": 19,
   "id": "48f180d9",
   "metadata": {
    "scrolled": true
   },
   "outputs": [],
   "source": [
    "second_coord_sum = []\n",
    "for n,structure in enumerate(structures):\n",
    "    sum_coord = 0\n",
    "    for i in ti_atoms[n]:\n",
    "        for j in ti_atoms[n]:\n",
    "            if round(structure.sites[i].distance(structure.sites[j]),6) == round(shells[2],6):\n",
    "                sum_coord += 1\n",
    "    second_coord_sum.append(sum_coord)\n",
    "second_coord_average = (np.array(second_coord_sum)/len(ti_atoms[n])).tolist()\n"
   ]
  },
  {
   "cell_type": "code",
   "execution_count": 20,
   "id": "c8cc68dc",
   "metadata": {},
   "outputs": [],
   "source": [
    "#np.unique(np.array(second_coord_average))"
   ]
  },
  {
   "cell_type": "markdown",
   "id": "75bb62b5",
   "metadata": {},
   "source": [
    "### Average second and fourth coordination \n",
    "The number of Ti atoms in the second and fourth shells averaged over all Ti atoms"
   ]
  },
  {
   "cell_type": "code",
   "execution_count": 21,
   "id": "427cac0f",
   "metadata": {
    "scrolled": true
   },
   "outputs": [],
   "source": [
    "second_third_coord_sum = []\n",
    "for n,structure in enumerate(structures):\n",
    "    sum_coord = 0\n",
    "    for i in ti_atoms[n]:\n",
    "        for j in ti_atoms[n]:\n",
    "            if round(structure.sites[i].distance(structure.sites[j]),6) == round(shells[2],6) or \\\n",
    "             round(structure.sites[i].distance(structure.sites[j]),6) == round(shells[4],6):\n",
    "                sum_coord += 1\n",
    "    second_third_coord_sum.append(sum_coord)       \n",
    "second_third_coord_average = (np.array(second_third_coord_sum)/len(ti_atoms[n])).tolist()"
   ]
  },
  {
   "cell_type": "code",
   "execution_count": 22,
   "id": "e08e56ed",
   "metadata": {},
   "outputs": [],
   "source": [
    "#np.unique(np.array(second_third_coord_average))"
   ]
  },
  {
   "cell_type": "markdown",
   "id": "8cd1d110",
   "metadata": {},
   "source": [
    "### Max and min coordination & Ti distribution"
   ]
  },
  {
   "cell_type": "markdown",
   "id": "e16fc0b2",
   "metadata": {},
   "source": [
    "#### Second shell"
   ]
  },
  {
   "cell_type": "code",
   "execution_count": 518,
   "id": "4200c6ce",
   "metadata": {},
   "outputs": [],
   "source": [
    "second_coord_max = []\n",
    "second_coord_min = []\n",
    "ti_second_shell_atom = []\n",
    "n_atoms_second_shell = []\n",
    "std_n_atoms_second_shell = []\n",
    "for n,structure in enumerate(structures):\n",
    "    distance = []\n",
    "    distance_atoms = []\n",
    "    for i in ti_atoms[n]:\n",
    "        dist = 0\n",
    "        dist_atom = []\n",
    "        for j in ti_atoms[n]:\n",
    "            #if round(structure.sites[i].distance(structure.sites[j]),6) == round(shells[2],6):\n",
    "            if round(structure.distance_matrix[i][j],6) == round(shells[2],6):\n",
    "                #print(i,j,structure.sites[i].distance(structure.sites[j]))\n",
    "                dist += 1\n",
    "                dist_atom.append(j)\n",
    "        distance_atoms.append(dist_atom)\n",
    "        #print(i,j,distance_atoms)\n",
    "        distance.append(dist)\n",
    "        #print(i,j,distance)\n",
    "        max_coord_atoms = max(enumerate(distance_atoms), key = lambda tup: len(tup[1]))[1]\n",
    "        atom_coords = []\n",
    "        '''for atom in max_coord_atoms:\n",
    "            atom_coords.append(structure.cart_coords[atom].tolist())'''\n",
    "    std_n_atoms_second_shell.append(np.std(distance))\n",
    "    n_atoms_second_shell.append(distance)\n",
    "    ti_second_shell_atom.append(distance_atoms)\n",
    "    second_coord_max.append(max(distance))\n",
    "    second_coord_min.append(min(distance))\n",
    "average_ti"
   ]
  },
  {
   "cell_type": "code",
   "execution_count": 655,
   "id": "04e9fada",
   "metadata": {},
   "outputs": [
    {
     "data": {
      "text/plain": [
       "[2, 2, 2, 2, 2, 2, 2, 2, 2]"
      ]
     },
     "execution_count": 655,
     "metadata": {},
     "output_type": "execute_result"
    }
   ],
   "source": [
    "n_atoms_second_shell[126]"
   ]
  },
  {
   "cell_type": "code",
   "execution_count": 551,
   "id": "2d718357",
   "metadata": {},
   "outputs": [
    {
     "data": {
      "text/plain": [
       "[2, 2, 2, 2, 2, 2, 2, 2, 2]"
      ]
     },
     "execution_count": 551,
     "metadata": {},
     "output_type": "execute_result"
    }
   ],
   "source": [
    "n_atoms_second_shell[649]"
   ]
  },
  {
   "cell_type": "code",
   "execution_count": 550,
   "id": "8d515f69",
   "metadata": {},
   "outputs": [
    {
     "data": {
      "text/plain": [
       "<Popen: returncode: None args: ['/Users/brunocamino/miniconda3/envs/cc/bin/p...>"
      ]
     },
     "execution_count": 550,
     "metadata": {},
     "output_type": "execute_result"
    }
   ],
   "source": [
    "view(AseAtomsAdaptor().get_atoms(structures[127]))"
   ]
  },
  {
   "cell_type": "code",
   "execution_count": 546,
   "id": "5c27a007",
   "metadata": {},
   "outputs": [
    {
     "data": {
      "image/png": "[encoded data removed]",
      "text/plain": [
       "<Figure size 1332x756 with 1 Axes>"
      ]
     },
     "metadata": {
      "needs_background": "light"
     },
     "output_type": "display_data"
    }
   ],
   "source": [
    "import matplotlib.pyplot as plt\n",
    "\n",
    "color = ['b','g','r','c','m','y','k','tab:orange']\n",
    "fig, ax = plt.subplots()\n",
    "ax.plot(std_average_ti, std_n_atoms_second_shell,'o',c=color[0])\n",
    "#ax.plot(non_linear, e_non_linear,'o',c=color[1])\n",
    "#ax.plot(np.arange(4023), energy_sorted,'o',c=color[1])\n",
    "#ax.plot(average_ti,energy_sorted ,'o',c=color[1])\n",
    "label = dist_std_first\n",
    "\n",
    "ax.set(xlabel='Structure number', ylabel='E (Ry)',\n",
    "       title='Total Energy')\n",
    "ax.grid()\n",
    "fig.set_size_inches(18.5, 10.5)\n",
    "#fig.savefig(\"test.png\")\n",
    "plt.show()"
   ]
  },
  {
   "cell_type": "code",
   "execution_count": 522,
   "id": "c4e46608",
   "metadata": {},
   "outputs": [
    {
     "data": {
      "text/plain": [
       "array([1096, 1638,  649, ...,  612, 2738,   94])"
      ]
     },
     "execution_count": 522,
     "metadata": {},
     "output_type": "execute_result"
    }
   ],
   "source": [
    "np.argsort(std_n_atoms_second_shell)"
   ]
  },
  {
   "cell_type": "code",
   "execution_count": 528,
   "id": "1894bcb9",
   "metadata": {},
   "outputs": [
    {
     "data": {
      "text/plain": [
       "<Popen: returncode: None args: ['/Users/brunocamino/miniconda3/envs/cc/bin/p...>"
      ]
     },
     "execution_count": 528,
     "metadata": {},
     "output_type": "execute_result"
    }
   ],
   "source": [
    "view(AseAtomsAdaptor().get_atoms(structures[612]))"
   ]
  },
  {
   "cell_type": "code",
   "execution_count": 513,
   "id": "e7b7c044",
   "metadata": {},
   "outputs": [
    {
     "data": {
      "text/plain": [
       "array([[0, 0, 0, ..., 6, 6, 6],\n",
       "       [0, 0, 0, ..., 6, 6, 7],\n",
       "       [0, 0, 0, ..., 6, 6, 6],\n",
       "       ...,\n",
       "       [2, 3, 3, ..., 4, 4, 4],\n",
       "       [3, 3, 3, ..., 4, 4, 4],\n",
       "       [4, 4, 4, ..., 4, 4, 4]])"
      ]
     },
     "metadata": {},
     "output_type": "display_data"
    },
    {
     "data": {
      "text/plain": [
       "array([1096, 2067, 1409, ..., 2516,  414, 1638])"
      ]
     },
     "metadata": {},
     "output_type": "display_data"
    },
    {
     "data": {
      "text/plain": [
       "array([1, 1, 1, ..., 1, 1, 1])"
      ]
     },
     "metadata": {},
     "output_type": "display_data"
    }
   ],
   "source": [
    "unique_coord, first_occ, total_occ = np.unique(np.sort(np.array(n_atoms_second_shell),axis=1),axis=0,return_counts=True,return_index=True)\n",
    "display(unique_coord)\n",
    "display(first_occ)\n",
    "display(total_occ)"
   ]
  },
  {
   "cell_type": "code",
   "execution_count": 516,
   "id": "ebec29af",
   "metadata": {
    "scrolled": true
   },
   "outputs": [
    {
     "data": {
      "text/plain": [
       "(array([0.        , 0.45812285, 0.47140452, 0.49690399, 0.53287017,\n",
       "        0.56655772, 0.57735027, 0.59835165, 0.62853936, 0.6573422 ,\n",
       "        0.66666667, 0.68493489, 0.71145825, 0.73702773, 0.73702773,\n",
       "        0.74535599, 0.74535599, 0.7617394 , 0.7856742 , 0.8089011 ,\n",
       "        0.81649658, 0.81649658, 0.83147942, 0.85346064, 0.85346064,\n",
       "        0.87488976, 0.87488976, 0.8819171 , 0.8819171 , 0.8819171 ,\n",
       "        0.89580642, 0.91624569, 0.91624569, 0.93623886, 0.93623886,\n",
       "        0.94280904, 0.94280904, 0.94280904, 0.95581392, 0.97499604,\n",
       "        0.97499604, 0.97499604, 0.99380799, 0.99380799, 1.        ,\n",
       "        1.        , 1.0122704 , 1.03040206, 1.03040206, 1.04822013,\n",
       "        1.05409255, 1.05409255, 1.06574034, 1.08297715, 1.08297715,\n",
       "        1.09994388, 1.09994388, 1.1055416 , 1.1055416 , 1.11665285,\n",
       "        1.13311545, 1.13311545, 1.14934227, 1.14934227, 1.15470054,\n",
       "        1.15470054, 1.16534316, 1.18112731, 1.18112731, 1.19670329,\n",
       "        1.20185043, 1.20185043, 1.20185043, 1.21207912, 1.22726234,\n",
       "        1.24225999, 1.24225999, 1.24721913, 1.24721913, 1.25707872,\n",
       "        1.25707872, 1.27172479, 1.2862041 , 1.29099445, 1.29099445,\n",
       "        1.30052221, 1.30052221, 1.3146844 , 1.32869564, 1.32869564,\n",
       "        1.33333333, 1.33333333, 1.34256066, 1.34256066, 1.35628396,\n",
       "        1.35628396, 1.36986978, 1.36986978, 1.37436854, 1.37436854,\n",
       "        1.38332218, 1.38332218, 1.39664501, 1.39664501, 1.39664501,\n",
       "        1.40984195, 1.40984195, 1.41421356, 1.4229165 , 1.4229165 ,\n",
       "        1.435872  , 1.435872  , 1.44871165, 1.44871165, 1.44871165,\n",
       "        1.45296631, 1.45296631, 1.45296631, 1.46143849, 1.47405546,\n",
       "        1.47405546, 1.48656535, 1.48656535, 1.48656535, 1.49071198,\n",
       "        1.49071198, 1.49071198, 1.49897084, 1.5112745 , 1.5112745 ,\n",
       "        1.5234788 , 1.5234788 , 1.52752523, 1.52752523, 1.53558611,\n",
       "        1.5475987 , 1.55951876, 1.55951876, 1.55951876, 1.56347192,\n",
       "        1.5713484 , 1.5713484 , 1.58308965, 1.58308965, 1.59474445,\n",
       "        1.59474445, 1.59861051, 1.6063147 , 1.6063147 , 1.6178022 ,\n",
       "        1.6292087 , 1.6292087 , 1.63299316, 1.63299316, 1.6405359 ,\n",
       "        1.6405359 , 1.65178542, 1.65178542, 1.66295884, 1.66666667,\n",
       "        1.66666667, 1.67405769, 1.68508343, 1.6960375 , 1.6960375 ,\n",
       "        1.69967317, 1.69967317, 1.70692128, 1.71773609, 1.72848324,\n",
       "        1.72848324, 1.73205081, 1.73205081, 1.73205081, 1.73916398,\n",
       "        1.74977953, 1.76033106, 1.76033106, 1.76383421, 1.76383421,\n",
       "        1.77081972, 1.77081972, 1.78124662, 1.78124662, 1.79161283,\n",
       "        1.79161283, 1.79161283, 1.79505494, 1.79505494, 1.80191942,\n",
       "        1.80191942, 1.81216738, 1.82235772, 1.82235772, 1.82235772,\n",
       "        1.82574186, 1.83249139, 1.84256933, 1.85259244, 1.85259244,\n",
       "        1.85259244, 1.85592145, 1.85592145, 1.87247773, 1.88234159,\n",
       "        1.88234159, 1.88234159, 1.88561808, 1.88561808, 1.89215404,\n",
       "        1.89215404, 1.90191586, 1.91162784, 1.91162784, 1.91485422,\n",
       "        1.93090524, 1.94047213, 1.94365063, 1.94365063, 1.95946579,\n",
       "        1.96889391, 1.96889391, 1.97202659, 1.98761598, 1.9969112 ,\n",
       "        1.9969112 , 2.        , 2.01537302, 2.0245408 , 2.02758751,\n",
       "        2.02758751, 2.03366725, 2.04275292, 2.05179837, 2.05480467,\n",
       "        2.06977067, 2.06977067, 2.07869855, 2.081666  , 2.081666  ,\n",
       "        2.09644025, 2.10525504, 2.10525504, 2.10818511, 2.1227748 ,\n",
       "        2.13148068, 2.13437475, 2.14878662, 2.15738754, 2.1602469 ,\n",
       "        2.17448731, 2.18298697, 2.18298697, 2.18581284, 2.19988776,\n",
       "        2.20828966, 2.20828966, 2.21108319, 2.22499827, 2.23330569,\n",
       "        2.24982853, 2.2580446 , 2.2825154 , 2.29868454, 2.30672661,\n",
       "        2.30940108, 2.35440223, 2.37788162, 2.38047614, 2.40113142,\n",
       "        2.46205776, 2.46956786, 2.49196239, 2.53859104, 2.60104442,\n",
       "        3.        ]),\n",
       " array([ 126, 2839,  414, 1657, 1078, 2693, 2516,  459,  867,  240,  155,\n",
       "        2126, 1312,  654, 1048,   49, 1272,  866, 1081,   16,  409,  385,\n",
       "         161, 2001,  839, 1120,   14,  851,  271, 1727,   24,  181,  373,\n",
       "         168,  308, 1816,    1,  932,  102,  668,   51, 1980,  254,   11,\n",
       "         217,   77,  119,  469,   44,   90,  396,   95,  160,  105,  182,\n",
       "           3,  726,  795,   75,    2,  134,   55, 1045,  269,   54,   85,\n",
       "           8,   32,   52,  259,  315,   91, 2258,   79,  108,  481,  286,\n",
       "          66,  180,  127, 2106,  129,    7,   21,  368,   38,  457,  107,\n",
       "          88, 1257,   58,   65,  531,  109,  522,  112,  125,  151,  153,\n",
       "        1600,   71,  434,  925,  186, 3110,  412,    5,   15,  491,  438,\n",
       "        3781,  282,  196,   98,  350, 3176,  101,   68,  190, 3212,  128,\n",
       "        1286,   10,  716, 2027,   45,   36,  135, 1366,  264,   67,  268,\n",
       "        2111,    0,  132,   26,  638,   56,  577,   18,   86,   64,   80,\n",
       "         116,   50,   30,  320,  318,  468,   37,  171,  397, 2293,  241,\n",
       "         222,  715,  919,   48,   12,   35, 1641,  258,    4,   82,  896,\n",
       "         111, 1113,  838,  281,   19,  205,  283, 1000,   17,  163,  175,\n",
       "          47,  140,   72,   62,  208, 3045, 3556,   34, 1608,    9, 2315,\n",
       "          94,  184, 2738, 1074,  166, 1102,   40,   13,  572,  705,  212,\n",
       "        3216,  900,  104,  334,  735,  260, 3606,   29,  317,  231,  487,\n",
       "          60, 3082,  605, 3194,  682,  110,   84,   87,   25,   97, 1509,\n",
       "         353, 1992,   31,  174,  263,   33,  156, 2325,  339, 1250, 3899,\n",
       "        2960,  162,   20, 1052,  741,  306,  680,   43, 2714, 1317, 1461,\n",
       "         729,   41,  950, 1520,  847,  159,  627,  796,  808,  786, 3298,\n",
       "        2645, 1927,   27,   83, 1105,  915,    6,  290,  811, 1740, 2055,\n",
       "        1893, 3260, 3091, 2536, 2095, 1034, 1409,  426,  812,  879, 2067,\n",
       "        1096]),\n",
       " array([ 3,  1,  3,  2,  1,  2,  1,  2,  5,  5,  9,  4,  7,  2,  6,  6,  6,\n",
       "        17,  7, 12,  9, 16, 26,  8,  6,  3, 15,  8, 26,  1, 36, 15,  4,  6,\n",
       "        12,  1, 50,  2, 40,  2, 26,  3,  1, 25, 12, 43, 48,  4, 29, 28,  7,\n",
       "        45, 57, 31,  3, 40,  1,  6, 50, 51,  4, 22,  2, 33, 66,  8, 51,  5,\n",
       "        28, 31,  7, 61,  1, 65, 40,  8, 29, 67, 17, 67,  2, 40, 49, 54, 22,\n",
       "        48,  7, 29, 48,  1, 57,  8,  5, 39,  5, 29,  5, 40, 47,  3, 14, 29,\n",
       "         2, 30,  1, 17, 35, 67,  5, 36,  1, 27, 17, 16, 13,  3, 37, 16, 33,\n",
       "         2, 32,  1, 28, 11,  1, 51, 18, 27,  1, 35, 23, 10,  1, 46, 29, 36,\n",
       "         8,  2, 10, 50,  5, 14,  1, 39, 14, 27, 33, 12, 11, 20, 17, 19,  1,\n",
       "        34,  6,  6,  1, 28, 40, 41,  1, 13, 33, 15,  6, 28,  1,  8, 17, 13,\n",
       "         5, 27,  4,  1,  6, 17, 11, 11, 30,  9,  5,  1,  1, 16,  3, 21,  1,\n",
       "        20, 10,  1,  1, 13,  1, 12, 13, 13,  2, 14,  1,  5, 27, 15,  2, 15,\n",
       "         1, 14,  8, 13,  1,  2,  1, 14,  1, 19, 16, 16, 15,  9,  3,  7,  8,\n",
       "         2,  8, 10,  5,  1,  9,  3,  6,  4,  1,  1,  6,  8,  3,  6,  1,  7,\n",
       "         5,  3,  3,  3,  3,  4,  4,  5,  6,  5,  3,  3,  3,  1,  1,  2,  1,\n",
       "         3,  1,  2,  3,  3,  1,  4,  2,  2,  1,  1,  1,  1,  1,  1,  1,  1,\n",
       "         1,  1,  1,  1]))"
      ]
     },
     "execution_count": 516,
     "metadata": {},
     "output_type": "execute_result"
    }
   ],
   "source": [
    "np.unique(np.std(np.array(n_atoms_second_shell),axis=1),return_counts=True,return_index=True)"
   ]
  },
  {
   "cell_type": "code",
   "execution_count": 51,
   "id": "db0622b8",
   "metadata": {},
   "outputs": [
    {
     "data": {
      "text/plain": [
       "[2, 2, 2, 2, 2, 2, 2, 2, 2, 2, 2, 2, 2, 2, 2, 2, 2, 2]"
      ]
     },
     "execution_count": 51,
     "metadata": {},
     "output_type": "execute_result"
    }
   ],
   "source": [
    "n_atoms_second_shell[126]"
   ]
  },
  {
   "cell_type": "code",
   "execution_count": 52,
   "id": "5377cb25",
   "metadata": {},
   "outputs": [
    {
     "data": {
      "text/plain": [
       "<Popen: returncode: None args: ['/Users/brunocamino/miniconda3/envs/cc/bin/p...>"
      ]
     },
     "execution_count": 52,
     "metadata": {},
     "output_type": "execute_result"
    }
   ],
   "source": [
    "view(AseAtomsAdaptor().get_atoms(structures[126]))"
   ]
  },
  {
   "cell_type": "markdown",
   "id": "c81d3fd3",
   "metadata": {},
   "source": [
    "## Li atoms"
   ]
  },
  {
   "cell_type": "code",
   "execution_count": 28,
   "id": "f3546bda",
   "metadata": {},
   "outputs": [],
   "source": [
    "li_second_shell_atom = []\n",
    "for n,structure in enumerate(structures):\n",
    "    distance = []\n",
    "    distance_atoms = []\n",
    "    for i in li_atoms[n]:\n",
    "        dist_atom = []\n",
    "        for j in li_atoms[n]:\n",
    "            if round(structure.sites[i].distance(structure.sites[j]),6) == round(shells[2],6):\n",
    "                dist_atom.append(j)\n",
    "        distance_atoms.append(dist_atom)\n",
    "    li_second_shell_atom.append(distance_atoms)\n"
   ]
  },
  {
   "cell_type": "markdown",
   "id": "574dd055",
   "metadata": {},
   "source": [
    "### Find structures belonging to classes based on unique_coordination\n",
    "\n",
    "Almost identical to the number of atoms in second shell"
   ]
  },
  {
   "cell_type": "code",
   "execution_count": 29,
   "id": "619e0fea",
   "metadata": {},
   "outputs": [],
   "source": [
    "structure_groups = []\n",
    "for unique in unique_coord:\n",
    "    structure_groups.append(np.where(np.all(np.sort(np.array(n_atoms_second_shell),axis=1) == unique,axis=1))[0].tolist())"
   ]
  },
  {
   "cell_type": "code",
   "execution_count": 30,
   "id": "c111c468",
   "metadata": {},
   "outputs": [
    {
     "data": {
      "text/plain": [
       "\"for i,structure_group in enumerate(structure_groups):\\n    print(total_occ[i])\\n    for n in structure_group:\\n        print(names[n][16:-4])\\n    print('')\""
      ]
     },
     "execution_count": 30,
     "metadata": {},
     "output_type": "execute_result"
    }
   ],
   "source": [
    "'''for i,structure_group in enumerate(structure_groups):\n",
    "    print(total_occ[i])\n",
    "    for n in structure_group:\n",
    "        print(names[n][16:-4])\n",
    "    print('')'''"
   ]
  },
  {
   "cell_type": "code",
   "execution_count": 31,
   "id": "4ab7bde4",
   "metadata": {},
   "outputs": [],
   "source": [
    "geom_block = ['Classificationtests\\n','EXTERNAL\\n','EXTPRT\\n','OPTGEOM\\n','END\\n']\n",
    "bs_block = ['BASISSET\\n', 'POV-TZVP\\n']\n",
    "func_block = ['DFT\\n', 'B3LYP\\n', 'XXLGRID\\n', 'ENDDFT\\n']\n",
    "scf_block = [['TOLINTEG\\n', '5 5 5 5 10\\n'],\n",
    "             ['SHRINK\\n', '4 8\\n'],\n",
    "             ['MAXCYCLE\\n', '200\\n'],\n",
    "             ['FMIXING\\n', '70\\n'],\n",
    "             'DIIS\\n',\n",
    "             'ENDSCF\\n']\n",
    "\n",
    "cry_input = Crystal_input('data/input.d12')\n",
    "for i in first_occ:\n",
    "    name1 = 'data/Ti_S_%s.gui'%i\n",
    "    name2 = 'data/Ti_S_%s.f34'%i\n",
    "    write_cry_gui(name1,structures[i],symm=False)\n",
    "    write_cry_gui(name2,structures[i],symm=False)\n",
    "    write_cry_input(name1[:-3]+'d12',crystal_input=cry_input)\n",
    "    #runcry(name1[:-4])\n",
    "    #CifWriter(structures[i]).write_file(name1[:-3]+'cif')"
   ]
  },
  {
   "cell_type": "markdown",
   "id": "6daa5399",
   "metadata": {},
   "source": [
    "#### Fourth shell"
   ]
  },
  {
   "cell_type": "code",
   "execution_count": 32,
   "id": "7ec8f787",
   "metadata": {},
   "outputs": [],
   "source": [
    "fourth_coord_max = []\n",
    "fourth_coord_min = []\n",
    "ti_fourth_shell_atom = []\n",
    "n_atoms_fourth_shell = []\n",
    "for n,structure in enumerate(structures):\n",
    "    distance = []\n",
    "    distance_atoms = []\n",
    "    for i in ti_atoms[n]:\n",
    "        dist = 0\n",
    "        dist_atom = []\n",
    "        for j in ti_atoms[n]:\n",
    "            if round(structure.sites[i].distance(structure.sites[j]),6) == round(shells[4],6):\n",
    "                #print(i,j,structure.sites[i].distance(structure.sites[j]))\n",
    "                dist += 1\n",
    "                dist_atom.append(j)\n",
    "        distance_atoms.append(dist_atom)\n",
    "        #print(i,j,distance_atoms)\n",
    "        distance.append(dist)\n",
    "        #print(i,j,distance)\n",
    "        max_coord_atoms = max(enumerate(distance_atoms), key = lambda tup: len(tup[1]))[1]\n",
    "        atom_coords = []\n",
    "        '''for atom in max_coord_atoms:\n",
    "            atom_coords.append(structure.cart_coords[atom].tolist())'''\n",
    "    n_atoms_fourth_shell.append(distance)\n",
    "    ti_fourth_shell_atom.append(distance_atoms)\n",
    "    fourth_coord_max.append(max(distance))\n",
    "    fourth_coord_min.append(min(distance))\n"
   ]
  },
  {
   "cell_type": "code",
   "execution_count": 33,
   "id": "d9268ac7",
   "metadata": {},
   "outputs": [
    {
     "data": {
      "text/plain": [
       "(array([[0, 0, 0, ..., 0, 0, 0],\n",
       "        [0, 0, 0, ..., 1, 1, 2],\n",
       "        [0, 0, 0, ..., 1, 1, 1],\n",
       "        ...,\n",
       "        [2, 3, 3, ..., 3, 4, 4],\n",
       "        [3, 3, 3, ..., 4, 4, 4],\n",
       "        [4, 4, 4, ..., 4, 4, 4]]),\n",
       " array([1096, 2067,  812,  426, 1034, 1740, 2055,  811,  159, 2503, 2185,\n",
       "         967,  360, 1837,   83,    6, 1105,  156,   20,  336,   62, 1121,\n",
       "         184,  197,   70, 1218,  252,  847,  689, 2884, 1941,  306,   25,\n",
       "          97,  231,  149, 2239, 1209,   29,  110,   48,  205,  440,  239,\n",
       "         394,  200,  445,  153,   26,  214,  283, 1622, 1088, 1103,  908,\n",
       "         738,  625,   58,   35,  268,  467, 1279, 2495, 1132, 1520,   60,\n",
       "          41,   33,   17,  288,   37,  132,  554,    9, 1537,   30,  386,\n",
       "          38,  404,   22,   50, 1821,   63,   67,  151,  233,  295,   12,\n",
       "         435, 1004,  107, 2087,   56,    0,   59,  154,  998,  335,  567,\n",
       "          15,  136,    5,  510,  420,   44,   88,  388,  548, 2336,  925,\n",
       "         346, 3040,  129, 2805,   32,  521, 1580,  862,  535,  176,  145,\n",
       "         329,  494, 1559,   54,  168, 1842, 2820, 3311,  166,   89,   86,\n",
       "         198, 1226, 1726,   40,   57,  297,   28,   82,    2,   19,  237,\n",
       "           4,  160,  823,  726,   77,  150,   10,  119,  525,  321, 1915,\n",
       "          39,  503,  897,  261, 1098,  598,  359, 1665,    1,  959, 2332,\n",
       "          23,  716,  125,   90, 2096,  883,    7,  332,   76,   11, 2308,\n",
       "         134, 1164,  436,  969, 1244,  311,  182, 2538, 2580, 2812,   24,\n",
       "          53,  137, 1116,    3,  500,   51, 1806,  234,  206,  291,  452,\n",
       "          14,   16, 1698,  582, 1351, 3657,  366, 2800, 3898,  126, 2328,\n",
       "         113,  916,  244, 3169, 3501,  155, 2612,  148, 1384, 1437, 3339,\n",
       "         456, 1917, 1947,  181,  865, 2578, 1271, 1370, 3235,  217,   49,\n",
       "        1975, 1583, 1829, 2839, 2516,  414, 1638]),\n",
       " array([  1,   1,   2,   2,   2,   1,   3,   4,   8,   2,   2,   4,   1,\n",
       "          2,   8,  24,   2,  22,   7,   2,  19,   1,  21,   7,   2,   6,\n",
       "          5,   4,   3,   5,   1,  11,  25,  54,   4,  22,   5,   4,  81,\n",
       "         17,  13,  46,   6,  47,   4,   5,  40,  14,  20,  15,  17,   5,\n",
       "          5,   5,   2,   3,   2,   3,   4,   5,  13,   6,   2,   1,   3,\n",
       "          6,  30,  11,  72,  16,   9,  89,  16,  96,   4,   9,   2, 144,\n",
       "          4,  63,  71,   4,  10,  33,   4,  39,  16, 137,   4,   6,  67,\n",
       "          5,   5,  47,  10,  13,   8,   1,   8,  43,  25,  36,  11,  25,\n",
       "         52,  14,   2,   3,   2,   2,   3,   1,   8,   1,  16,   2,   6,\n",
       "          2,   7,  12,   8,  16,  11,   2,   1,   6,   2,   1,   2,  14,\n",
       "         36,   5,  25,   2,   2, 104,  31,  18,  69,  24, 154,   5,   8,\n",
       "         48,  19,   5,   4, 154,   4,  66, 122,   5,  16,   1,  56,   2,\n",
       "          3,  17,   3,   5,   7,   2,  41,  18,   1, 148,   7,  12,  96,\n",
       "          1,   4,  69,  10,  33,  39,   1,   5,   5,   2,   9,   1,   3,\n",
       "          4,   2,   1,   2,  39,  26,  59,   7,  12,   2,  42,   1,  11,\n",
       "          5,  22,   7,  26,  14,   1,   6,   2,   1,   2,   1,   1,   6,\n",
       "          3,  20,   1,   7,   1,   1,  15,   1,   8,   1,   1,   1,  13,\n",
       "          2,   6,   5,   4,   2,   7,   1,   1,   2,   2,   1,   3,   2,\n",
       "          1,   2,   1,   1]))"
      ]
     },
     "execution_count": 33,
     "metadata": {},
     "output_type": "execute_result"
    }
   ],
   "source": [
    "np.unique(np.sort(np.array(n_atoms_fourth_shell),axis=1),axis=0,return_counts=True,return_index=True)"
   ]
  },
  {
   "cell_type": "markdown",
   "id": "b92afa54",
   "metadata": {},
   "source": [
    "#### Combine second shell and fourth shell"
   ]
  },
  {
   "cell_type": "code",
   "execution_count": 34,
   "id": "f103b20b",
   "metadata": {},
   "outputs": [],
   "source": [
    "second_fourth_coord_max = []\n",
    "second_fourth_coord_min = []\n",
    "ti_second_shell_atom = []\n",
    "ti_fourth_shell_atom = []\n",
    "ti_second_fourth_shell_atom = []\n",
    "n_atoms_second_shell = []\n",
    "n_atoms_fourth_shell = []\n",
    "n_atoms_second_fourth_shell = []\n",
    "for n,structure in enumerate(structures):\n",
    "    distance1 = []\n",
    "    distance2 = []\n",
    "    distance_atoms1 = []\n",
    "    distance_atoms2 = []\n",
    "    for i in ti_atoms[n]:\n",
    "        dist1 = 0\n",
    "        dist2 = 0\n",
    "        dist1_atom = []\n",
    "        dist2_atom = []\n",
    "        for j in ti_atoms[n]:\n",
    "            #print(i,j,round(structure.sites[i].distance(structure.sites[j]),6))\n",
    "            if round(structure.sites[i].distance(structure.sites[j]),6) == round(shells[2],6):\n",
    "                dist1 += 1\n",
    "                dist1_atom.append(j)\n",
    "            if round(structure.sites[i].distance(structure.sites[j]),6) == round(shells[4],6):\n",
    "                dist2 += 1\n",
    "                dist2_atom.append(j)\n",
    "        distance_atoms1.append(dist1_atom)\n",
    "        distance_atoms2.append(dist2_atom)\n",
    "        #print(i,j,distance_atoms)\n",
    "        distance1.append(dist1)\n",
    "        distance2.append(dist2)\n",
    "        #print(i,j,distance1)\n",
    "        max_coord_atoms = max(enumerate(distance_atoms), key = lambda tup: len(tup[1]))[1]\n",
    "        atom_coords = []\n",
    "        '''for atom in max_coord_atoms:\n",
    "            atom_coords.append(structure.cart_coords[atom].tolist())'''\n",
    "    distance2 = (np.array(distance2)[np.argsort(distance1)]).tolist()\n",
    "    distance1.sort()\n",
    "    distance1.extend(distance2)\n",
    "    n_atoms_second_shell.append(distance1)\n",
    "    n_atoms_fourth_shell.append(distance2)\n",
    "    #ti_second_fourth_shell_atom.append(distance_atoms)\n",
    "    ti_second_shell_atom.append(distance_atoms1)\n",
    "    ti_fourth_shell_atom.append(distance_atoms2)\n",
    "    second_fourth_coord_max.append(max(distance))\n",
    "    second_fourth_coord_min.append(min(distance))"
   ]
  },
  {
   "cell_type": "code",
   "execution_count": 35,
   "id": "979bb353",
   "metadata": {},
   "outputs": [
    {
     "data": {
      "text/plain": [
       "(array([], dtype=float64), array([], dtype=int64), array([], dtype=int64))"
      ]
     },
     "execution_count": 35,
     "metadata": {},
     "output_type": "execute_result"
    }
   ],
   "source": [
    "np.unique(np.array(n_atoms_second_fourth_shell),axis=0,return_counts=True,return_index=True)"
   ]
  },
  {
   "cell_type": "code",
   "execution_count": 36,
   "id": "a16d9f9c",
   "metadata": {
    "collapsed": true
   },
   "outputs": [
    {
     "data": {
      "text/plain": [
       "<Popen: returncode: None args: ['/Users/brunocamino/miniconda3/envs/cc/bin/p...>"
      ]
     },
     "execution_count": 36,
     "metadata": {},
     "output_type": "execute_result"
    }
   ],
   "source": [
    "view(AseAtomsAdaptor().get_atoms(structures[1362]))"
   ]
  },
  {
   "cell_type": "markdown",
   "id": "f8539152",
   "metadata": {},
   "source": [
    "## Center of mass"
   ]
  },
  {
   "cell_type": "code",
   "execution_count": 160,
   "id": "00767c3c",
   "metadata": {},
   "outputs": [],
   "source": [
    "std = [] \n",
    "std_sum = []\n",
    "std_std = []\n",
    "ti_sum_distance = []\n",
    "com_diff = []\n",
    "\n",
    "mass = sum(structure.atomic_numbers)\n",
    "li_mass = 3*len(li_atoms[0])\n",
    "ti_mass = 22*len(ti_atoms[0])\n",
    "\n",
    "for n,structure in enumerate(structures):\n",
    "    ti_coord = []\n",
    "    li_coord = []\n",
    "    all_coord = []\n",
    "    all_coord_weight = []\n",
    "    for i in ti_atoms[n]:\n",
    "        ti_coord.append(structure.cart_coords[i].tolist())\n",
    "    for j in li_atoms[n]:\n",
    "        li_coord.append(structure.cart_coords[j].tolist())\n",
    "    for k in range(structure.num_sites):\n",
    "        all_coord_weight.append(structure.sites[k].coords*structure.atomic_numbers[k])#/sum(structure.atomic_numbers))\n",
    "        all_coord.append(structure.sites[k].coords)\n",
    "    ti_com = np.sum(ti_coord,axis=0)/ti_mass\n",
    "    li_com = np.sum(li_coord,axis=0)/li_mass\n",
    "    all_com = np.sum(all_coord_weight,axis=0)/mass\n",
    "    center = np.sum(all_coord,axis=0)/structure.num_sites\n",
    "    \n",
    "    sum_distance = 0\n",
    "    distances = []\n",
    "    for i in ti_atoms[n]:\n",
    "        sum_distance += structure.sites[i].distance_from_point(ti_com)\n",
    "        distances.append(structure.sites[i].distance_from_point(ti_com))\n",
    "    ti_sum_distance.append(sum_distance)\n",
    "    com_diff.append(np.sum((li_com-ti_com)**2))\n",
    "    \n",
    "    \n"
   ]
  },
  {
   "cell_type": "code",
   "execution_count": 214,
   "id": "a8511046",
   "metadata": {},
   "outputs": [
    {
     "data": {
      "text/plain": [
       "array([1859, 3511, 1158, ...,  542, 3393, 2870])"
      ]
     },
     "execution_count": 214,
     "metadata": {},
     "output_type": "execute_result"
    }
   ],
   "source": [
    "np.argsort(ti_sum_distance)"
   ]
  },
  {
   "cell_type": "code",
   "execution_count": 217,
   "id": "5708df54",
   "metadata": {},
   "outputs": [
    {
     "data": {
      "text/plain": [
       "<Popen: returncode: None args: ['/Users/brunocamino/miniconda3/envs/cc/bin/p...>"
      ]
     },
     "execution_count": 217,
     "metadata": {},
     "output_type": "execute_result"
    }
   ],
   "source": [
    "view(AseAtomsAdaptor().get_atoms(structures[1859]))"
   ]
  },
  {
   "cell_type": "code",
   "execution_count": 158,
   "id": "4f7f45e8",
   "metadata": {},
   "outputs": [
    {
     "data": {
      "text/plain": [
       "array([3472, 1335, 2689, ..., 1833, 2910, 3367])"
      ]
     },
     "execution_count": 158,
     "metadata": {},
     "output_type": "execute_result"
    }
   ],
   "source": [
    "np.argsort(com_diff)"
   ]
  },
  {
   "cell_type": "code",
   "execution_count": 155,
   "id": "0cdb4fd4",
   "metadata": {},
   "outputs": [
    {
     "data": {
      "text/plain": [
       "<Popen: returncode: None args: ['/Users/brunocamino/miniconda3/envs/cc/bin/p...>"
      ]
     },
     "execution_count": 155,
     "metadata": {},
     "output_type": "execute_result"
    }
   ],
   "source": [
    "view(AseAtomsAdaptor().get_atoms(structures[86]))"
   ]
  },
  {
   "cell_type": "markdown",
   "id": "d6e26eff",
   "metadata": {},
   "source": [
    "### Identify colinear structures"
   ]
  },
  {
   "cell_type": "markdown",
   "id": "8e2ab73a",
   "metadata": {},
   "source": [
    "#### First method (distance based)"
   ]
  },
  {
   "cell_type": "code",
   "execution_count": 506,
   "id": "11a1a0eb",
   "metadata": {},
   "outputs": [],
   "source": [
    "ti_second_shell_atom_cell = []\n",
    "for n,structure in enumerate(structures):\n",
    "    distance = []\n",
    "    distance_atoms = []\n",
    "    for i in ti_atoms[n]:\n",
    "        dist = 0\n",
    "        dist_atom = []\n",
    "        for j in ti_atoms[n]:\n",
    "            if round(structure.sites[i].distance(structure.sites[j],jimage=[0,0,0]),6) == round(shells[2],6):\n",
    "                #print(i,j,structure.sites[i].distance(structure.sites[j]))\n",
    "                dist += 1\n",
    "                dist_atom.append(j)\n",
    "        distance_atoms.append(dist_atom)\n",
    "\n",
    "        distance.append(dist)\n",
    "\n",
    "    ti_second_shell_atom_cell.append(distance_atoms)\n",
    "ti_linear = []\n",
    "ti_non_linear = []\n",
    "for n,structure in enumerate(structures):\n",
    "    line = False\n",
    "    for i in range(len(ti_atoms[0])):\n",
    "        for j in ti_second_shell_atom_cell[n][i]:\n",
    "            for k in ti_second_shell_atom_cell[n][i]:\n",
    "                if j != k:\n",
    "                    if round(structure.sites[j].distance(structure.sites[k],jimage=[0,0,0]),5) == round(2*shells[2],5):\n",
    "                        if n == 1362:\n",
    "                            print(i,ti_atoms[n][i],j,k,round(structure.sites[j].distance(structure.sites[k],jimage=[0,0,0]),5))\n",
    "                        line = True\n",
    "    if line == True:\n",
    "        ti_linear.append(n)\n",
    "    else:\n",
    "        ti_non_linear.append(n)"
   ]
  },
  {
   "cell_type": "code",
   "execution_count": 510,
   "id": "fdc869aa",
   "metadata": {},
   "outputs": [
    {
     "data": {
      "text/plain": [
       "[0,\n",
       " 1,\n",
       " 3,\n",
       " 4,\n",
       " 5,\n",
       " 6,\n",
       " 7,\n",
       " 8,\n",
       " 9,\n",
       " 12,\n",
       " 13,\n",
       " 14,\n",
       " 15,\n",
       " 17,\n",
       " 18,\n",
       " 19,\n",
       " 20,\n",
       " 22,\n",
       " 23,\n",
       " 25,\n",
       " 26,\n",
       " 27,\n",
       " 29,\n",
       " 30,\n",
       " 31,\n",
       " 32,\n",
       " 33,\n",
       " 34,\n",
       " 35,\n",
       " 36,\n",
       " 39,\n",
       " 41,\n",
       " 42,\n",
       " 43,\n",
       " 45,\n",
       " 47,\n",
       " 48,\n",
       " 49,\n",
       " 50,\n",
       " 51,\n",
       " 53,\n",
       " 56,\n",
       " 57,\n",
       " 58,\n",
       " 59,\n",
       " 61,\n",
       " 62,\n",
       " 63,\n",
       " 64,\n",
       " 66,\n",
       " 67,\n",
       " 68,\n",
       " 69,\n",
       " 70,\n",
       " 72,\n",
       " 74,\n",
       " 76,\n",
       " 77,\n",
       " 78,\n",
       " 79,\n",
       " 80,\n",
       " 81,\n",
       " 82,\n",
       " 83,\n",
       " 84,\n",
       " 87,\n",
       " 88,\n",
       " 89,\n",
       " 90,\n",
       " 91,\n",
       " 92,\n",
       " 93,\n",
       " 94,\n",
       " 96,\n",
       " 97,\n",
       " 98,\n",
       " 99,\n",
       " 101,\n",
       " 102,\n",
       " 103,\n",
       " 104,\n",
       " 105,\n",
       " 106,\n",
       " 108,\n",
       " 110,\n",
       " 111,\n",
       " 112,\n",
       " 113,\n",
       " 114,\n",
       " 115,\n",
       " 116,\n",
       " 120,\n",
       " 121,\n",
       " 122,\n",
       " 124,\n",
       " 128,\n",
       " 130,\n",
       " 132,\n",
       " 134,\n",
       " 135,\n",
       " 136,\n",
       " 137,\n",
       " 138,\n",
       " 139,\n",
       " 140,\n",
       " 141,\n",
       " 143,\n",
       " 144,\n",
       " 146,\n",
       " 147,\n",
       " 148,\n",
       " 149,\n",
       " 151,\n",
       " 152,\n",
       " 154,\n",
       " 156,\n",
       " 158,\n",
       " 159,\n",
       " 162,\n",
       " 163,\n",
       " 164,\n",
       " 165,\n",
       " 167,\n",
       " 169,\n",
       " 170,\n",
       " 171,\n",
       " 172,\n",
       " 173,\n",
       " 174,\n",
       " 175,\n",
       " 176,\n",
       " 177,\n",
       " 181,\n",
       " 182,\n",
       " 183,\n",
       " 184,\n",
       " 186,\n",
       " 187,\n",
       " 188,\n",
       " 190,\n",
       " 191,\n",
       " 192,\n",
       " 194,\n",
       " 196,\n",
       " 197,\n",
       " 198,\n",
       " 199,\n",
       " 200,\n",
       " 201,\n",
       " 202,\n",
       " 204,\n",
       " 205,\n",
       " 206,\n",
       " 207,\n",
       " 208,\n",
       " 209,\n",
       " 210,\n",
       " 212,\n",
       " 213,\n",
       " 215,\n",
       " 216,\n",
       " 217,\n",
       " 218,\n",
       " 219,\n",
       " 222,\n",
       " 224,\n",
       " 226,\n",
       " 229,\n",
       " 231,\n",
       " 232,\n",
       " 233,\n",
       " 234,\n",
       " 235,\n",
       " 236,\n",
       " 237,\n",
       " 238,\n",
       " 239,\n",
       " 241,\n",
       " 242,\n",
       " 243,\n",
       " 247,\n",
       " 249,\n",
       " 250,\n",
       " 252,\n",
       " 253,\n",
       " 255,\n",
       " 256,\n",
       " 257,\n",
       " 259,\n",
       " 260,\n",
       " 261,\n",
       " 262,\n",
       " 263,\n",
       " 264,\n",
       " 266,\n",
       " 267,\n",
       " 269,\n",
       " 270,\n",
       " 271,\n",
       " 272,\n",
       " 274,\n",
       " 275,\n",
       " 276,\n",
       " 278,\n",
       " 280,\n",
       " 281,\n",
       " 282,\n",
       " 283,\n",
       " 284,\n",
       " 287,\n",
       " 288,\n",
       " 289,\n",
       " 290,\n",
       " 292,\n",
       " 293,\n",
       " 294,\n",
       " 295,\n",
       " 296,\n",
       " 297,\n",
       " 298,\n",
       " 299,\n",
       " 301,\n",
       " 302,\n",
       " 304,\n",
       " 305,\n",
       " 307,\n",
       " 308,\n",
       " 309,\n",
       " 310,\n",
       " 311,\n",
       " 312,\n",
       " 314,\n",
       " 315,\n",
       " 317,\n",
       " 318,\n",
       " 319,\n",
       " 320,\n",
       " 322,\n",
       " 323,\n",
       " 324,\n",
       " 325,\n",
       " 328,\n",
       " 330,\n",
       " 332,\n",
       " 334,\n",
       " 336,\n",
       " 337,\n",
       " 339,\n",
       " 340,\n",
       " 341,\n",
       " 342,\n",
       " 344,\n",
       " 345,\n",
       " 346,\n",
       " 348,\n",
       " 350,\n",
       " 351,\n",
       " 352,\n",
       " 353,\n",
       " 354,\n",
       " 355,\n",
       " 356,\n",
       " 359,\n",
       " 360,\n",
       " 361,\n",
       " 362,\n",
       " 363,\n",
       " 365,\n",
       " 367,\n",
       " 369,\n",
       " 371,\n",
       " 372,\n",
       " 375,\n",
       " 377,\n",
       " 378,\n",
       " 379,\n",
       " 382,\n",
       " 384,\n",
       " 386,\n",
       " 387,\n",
       " 388,\n",
       " 389,\n",
       " 391,\n",
       " 392,\n",
       " 394,\n",
       " 395,\n",
       " 396,\n",
       " 397,\n",
       " 398,\n",
       " 403,\n",
       " 405,\n",
       " 406,\n",
       " 407,\n",
       " 408,\n",
       " 410,\n",
       " 411,\n",
       " 413,\n",
       " 417,\n",
       " 418,\n",
       " 419,\n",
       " 420,\n",
       " 421,\n",
       " 422,\n",
       " 424,\n",
       " 425,\n",
       " 426,\n",
       " 428,\n",
       " 430,\n",
       " 431,\n",
       " 432,\n",
       " 433,\n",
       " 436,\n",
       " 437,\n",
       " 438,\n",
       " 440,\n",
       " 443,\n",
       " 444,\n",
       " 447,\n",
       " 448,\n",
       " 449,\n",
       " 450,\n",
       " 453,\n",
       " 454,\n",
       " 456,\n",
       " 458,\n",
       " 460,\n",
       " 461,\n",
       " 462,\n",
       " 463,\n",
       " 464,\n",
       " 467,\n",
       " 468,\n",
       " 469,\n",
       " 471,\n",
       " 473,\n",
       " 475,\n",
       " 477,\n",
       " 478,\n",
       " 479,\n",
       " 481,\n",
       " 483,\n",
       " 484,\n",
       " 485,\n",
       " 486,\n",
       " 487,\n",
       " 488,\n",
       " 489,\n",
       " 490,\n",
       " 491,\n",
       " 492,\n",
       " 493,\n",
       " 494,\n",
       " 495,\n",
       " 496,\n",
       " 497,\n",
       " 498,\n",
       " 500,\n",
       " 501,\n",
       " 503,\n",
       " 504,\n",
       " 508,\n",
       " 509,\n",
       " 511,\n",
       " 512,\n",
       " 513,\n",
       " 516,\n",
       " 518,\n",
       " 519,\n",
       " 520,\n",
       " 521,\n",
       " 522,\n",
       " 523,\n",
       " 528,\n",
       " 529,\n",
       " 530,\n",
       " 531,\n",
       " 533,\n",
       " 535,\n",
       " 537,\n",
       " 538,\n",
       " 539,\n",
       " 540,\n",
       " 542,\n",
       " 543,\n",
       " 544,\n",
       " 546,\n",
       " 548,\n",
       " 549,\n",
       " 550,\n",
       " 551,\n",
       " 552,\n",
       " 554,\n",
       " 556,\n",
       " 558,\n",
       " 561,\n",
       " 568,\n",
       " 569,\n",
       " 570,\n",
       " 571,\n",
       " 572,\n",
       " 573,\n",
       " 574,\n",
       " 577,\n",
       " 583,\n",
       " 584,\n",
       " 586,\n",
       " 587,\n",
       " 588,\n",
       " 589,\n",
       " 591,\n",
       " 593,\n",
       " 594,\n",
       " 595,\n",
       " 597,\n",
       " 601,\n",
       " 602,\n",
       " 603,\n",
       " 606,\n",
       " 607,\n",
       " 608,\n",
       " 612,\n",
       " 614,\n",
       " 615,\n",
       " 618,\n",
       " 619,\n",
       " 620,\n",
       " 621,\n",
       " 622,\n",
       " 623,\n",
       " 624,\n",
       " 626,\n",
       " 627,\n",
       " 628,\n",
       " 629,\n",
       " 630,\n",
       " 631,\n",
       " 633,\n",
       " 634,\n",
       " 635,\n",
       " 636,\n",
       " 638,\n",
       " 639,\n",
       " 640,\n",
       " 641,\n",
       " 643,\n",
       " 645,\n",
       " 648,\n",
       " 649,\n",
       " 650,\n",
       " 651,\n",
       " 652,\n",
       " 653,\n",
       " 654,\n",
       " 655,\n",
       " 656,\n",
       " 657,\n",
       " 658,\n",
       " 660,\n",
       " 661,\n",
       " 663,\n",
       " 664,\n",
       " 665,\n",
       " 666,\n",
       " 669,\n",
       " 670,\n",
       " 676,\n",
       " 677,\n",
       " 678,\n",
       " 679,\n",
       " 680,\n",
       " 681,\n",
       " 682,\n",
       " 683,\n",
       " 684,\n",
       " 685,\n",
       " 686,\n",
       " 689,\n",
       " 691,\n",
       " 692,\n",
       " 693,\n",
       " 695,\n",
       " 701,\n",
       " 703,\n",
       " 704,\n",
       " 705,\n",
       " 706,\n",
       " 707,\n",
       " 709,\n",
       " 710,\n",
       " 713,\n",
       " 714,\n",
       " 715,\n",
       " 717,\n",
       " 720,\n",
       " 722,\n",
       " 723,\n",
       " 726,\n",
       " 729,\n",
       " 730,\n",
       " 733,\n",
       " 735,\n",
       " 736,\n",
       " 737,\n",
       " 738,\n",
       " 739,\n",
       " 740,\n",
       " 741,\n",
       " 742,\n",
       " 744,\n",
       " 745,\n",
       " 746,\n",
       " 748,\n",
       " 753,\n",
       " 755,\n",
       " 756,\n",
       " 759,\n",
       " 760,\n",
       " 761,\n",
       " 762,\n",
       " 764,\n",
       " 765,\n",
       " 766,\n",
       " 767,\n",
       " 769,\n",
       " 770,\n",
       " 773,\n",
       " 774,\n",
       " 777,\n",
       " 778,\n",
       " 779,\n",
       " 780,\n",
       " 782,\n",
       " 784,\n",
       " 785,\n",
       " 786,\n",
       " 787,\n",
       " 792,\n",
       " 793,\n",
       " 794,\n",
       " 795,\n",
       " 796,\n",
       " 797,\n",
       " 798,\n",
       " 801,\n",
       " 804,\n",
       " 806,\n",
       " 808,\n",
       " 810,\n",
       " 811,\n",
       " 812,\n",
       " 813,\n",
       " 814,\n",
       " 815,\n",
       " 816,\n",
       " 819,\n",
       " 820,\n",
       " 821,\n",
       " 822,\n",
       " 824,\n",
       " 825,\n",
       " 826,\n",
       " 830,\n",
       " 832,\n",
       " 834,\n",
       " 837,\n",
       " 838,\n",
       " 840,\n",
       " 841,\n",
       " 843,\n",
       " 845,\n",
       " 847,\n",
       " 850,\n",
       " 851,\n",
       " 852,\n",
       " 853,\n",
       " 854,\n",
       " 856,\n",
       " 858,\n",
       " 860,\n",
       " 861,\n",
       " 862,\n",
       " 863,\n",
       " 864,\n",
       " 868,\n",
       " 869,\n",
       " 870,\n",
       " 872,\n",
       " 873,\n",
       " 875,\n",
       " 876,\n",
       " 877,\n",
       " 878,\n",
       " 879,\n",
       " 880,\n",
       " 881,\n",
       " 882,\n",
       " 883,\n",
       " 884,\n",
       " 885,\n",
       " 887,\n",
       " 889,\n",
       " 890,\n",
       " 891,\n",
       " 892,\n",
       " 894,\n",
       " 895,\n",
       " 896,\n",
       " 897,\n",
       " 898,\n",
       " 900,\n",
       " 901,\n",
       " 902,\n",
       " 904,\n",
       " 906,\n",
       " 907,\n",
       " 908,\n",
       " 909,\n",
       " 910,\n",
       " 912,\n",
       " 913,\n",
       " 915,\n",
       " 916,\n",
       " 918,\n",
       " 919,\n",
       " 921,\n",
       " 922,\n",
       " 924,\n",
       " 925,\n",
       " 926,\n",
       " 927,\n",
       " 931,\n",
       " 932,\n",
       " 933,\n",
       " 934,\n",
       " 935,\n",
       " 936,\n",
       " 937,\n",
       " 939,\n",
       " 941,\n",
       " 942,\n",
       " 943,\n",
       " 944,\n",
       " 945,\n",
       " 947,\n",
       " 948,\n",
       " 949,\n",
       " 950,\n",
       " 951,\n",
       " 957,\n",
       " 958,\n",
       " 959,\n",
       " 961,\n",
       " 962,\n",
       " 963,\n",
       " 964,\n",
       " 966,\n",
       " 967,\n",
       " 968,\n",
       " 970,\n",
       " 972,\n",
       " 973,\n",
       " 975,\n",
       " 976,\n",
       " 980,\n",
       " 984,\n",
       " 986,\n",
       " 987,\n",
       " 988,\n",
       " 989,\n",
       " 990,\n",
       " 991,\n",
       " 992,\n",
       " 993,\n",
       " 994,\n",
       " 996,\n",
       " 997,\n",
       " 1002,\n",
       " 1003,\n",
       " 1004,\n",
       " 1005,\n",
       " 1007,\n",
       " 1008,\n",
       " 1009,\n",
       " 1010,\n",
       " 1012,\n",
       " 1013,\n",
       " 1014,\n",
       " 1015,\n",
       " 1016,\n",
       " 1017,\n",
       " 1018,\n",
       " 1019,\n",
       " 1021,\n",
       " 1024,\n",
       " 1025,\n",
       " 1026,\n",
       " 1027,\n",
       " 1028,\n",
       " 1029,\n",
       " 1030,\n",
       " 1032,\n",
       " 1033,\n",
       " 1034,\n",
       " 1035,\n",
       " 1037,\n",
       " 1039,\n",
       " 1040,\n",
       " 1041,\n",
       " 1042,\n",
       " 1044,\n",
       " 1045,\n",
       " 1046,\n",
       " 1049,\n",
       " 1050,\n",
       " 1051,\n",
       " 1052,\n",
       " 1053,\n",
       " 1055,\n",
       " 1057,\n",
       " 1059,\n",
       " 1060,\n",
       " 1063,\n",
       " 1064,\n",
       " 1066,\n",
       " 1067,\n",
       " 1069,\n",
       " 1070,\n",
       " 1071,\n",
       " 1072,\n",
       " 1073,\n",
       " 1074,\n",
       " 1075,\n",
       " 1077,\n",
       " 1080,\n",
       " 1082,\n",
       " 1083,\n",
       " 1084,\n",
       " 1086,\n",
       " 1087,\n",
       " 1088,\n",
       " 1091,\n",
       " 1092,\n",
       " 1093,\n",
       " 1094,\n",
       " 1096,\n",
       " 1097,\n",
       " 1098,\n",
       " 1102,\n",
       " 1103,\n",
       " 1104,\n",
       " 1106,\n",
       " 1107,\n",
       " 1108,\n",
       " 1111,\n",
       " 1112,\n",
       " 1113,\n",
       " 1115,\n",
       " 1116,\n",
       " 1117,\n",
       " 1118,\n",
       " 1120,\n",
       " 1121,\n",
       " 1122,\n",
       " 1124,\n",
       " 1126,\n",
       " 1127,\n",
       " 1128,\n",
       " 1130,\n",
       " 1131,\n",
       " 1132,\n",
       " 1138,\n",
       " 1139,\n",
       " 1141,\n",
       " 1142,\n",
       " 1143,\n",
       " 1144,\n",
       " 1146,\n",
       " 1147,\n",
       " 1148,\n",
       " 1150,\n",
       " 1151,\n",
       " 1152,\n",
       " 1153,\n",
       " 1155,\n",
       " 1156,\n",
       " 1158,\n",
       " 1159,\n",
       " 1160,\n",
       " 1161,\n",
       " 1162,\n",
       " 1165,\n",
       " 1167,\n",
       " 1169,\n",
       " 1170,\n",
       " 1171,\n",
       " 1174,\n",
       " 1175,\n",
       " 1176,\n",
       " 1177,\n",
       " 1178,\n",
       " 1179,\n",
       " 1180,\n",
       " 1182,\n",
       " 1183,\n",
       " 1184,\n",
       " 1185,\n",
       " 1188,\n",
       " 1189,\n",
       " 1191,\n",
       " 1192,\n",
       " 1194,\n",
       " 1196,\n",
       " 1197,\n",
       " 1198,\n",
       " 1199,\n",
       " 1201,\n",
       " 1203,\n",
       " 1204,\n",
       " 1205,\n",
       " 1206,\n",
       " 1209,\n",
       " 1211,\n",
       " 1212,\n",
       " 1216,\n",
       " 1218,\n",
       " 1220,\n",
       " 1221,\n",
       " 1222,\n",
       " 1223,\n",
       " 1224,\n",
       " 1225,\n",
       " 1227,\n",
       " 1228,\n",
       " 1229,\n",
       " 1230,\n",
       " 1233,\n",
       " 1234,\n",
       " 1235,\n",
       " 1236,\n",
       " 1237,\n",
       " 1240,\n",
       " 1241,\n",
       " 1242,\n",
       " 1243,\n",
       " 1244,\n",
       " 1245,\n",
       " 1246,\n",
       " 1247,\n",
       " 1248,\n",
       " 1250,\n",
       " 1251,\n",
       " 1253,\n",
       " 1254,\n",
       " 1255,\n",
       " 1256,\n",
       " 1257,\n",
       " 1258,\n",
       " 1261,\n",
       " 1262,\n",
       " 1263,\n",
       " 1267,\n",
       " 1269,\n",
       " 1270,\n",
       " 1271,\n",
       " 1272,\n",
       " 1273,\n",
       " 1274,\n",
       " 1275,\n",
       " 1278,\n",
       " 1279,\n",
       " 1282,\n",
       " 1283,\n",
       " 1286,\n",
       " 1287,\n",
       " 1288,\n",
       " 1291,\n",
       " 1292,\n",
       " 1293,\n",
       " 1294,\n",
       " 1296,\n",
       " 1297,\n",
       " 1299,\n",
       " 1300,\n",
       " 1302,\n",
       " 1303,\n",
       " 1306,\n",
       " 1307,\n",
       " 1308,\n",
       " 1309,\n",
       " 1311,\n",
       " 1312,\n",
       " 1314,\n",
       " 1316,\n",
       " 1317,\n",
       " 1318,\n",
       " 1319,\n",
       " 1321,\n",
       " 1322,\n",
       " 1323,\n",
       " 1324,\n",
       " 1327,\n",
       " 1328,\n",
       " 1329,\n",
       " 1330,\n",
       " 1331,\n",
       " 1333,\n",
       " 1334,\n",
       " 1337,\n",
       " 1338,\n",
       " 1339,\n",
       " 1340,\n",
       " 1342,\n",
       " 1343,\n",
       " 1344,\n",
       " 1346,\n",
       " 1347,\n",
       " 1348,\n",
       " 1349,\n",
       " 1351,\n",
       " 1353,\n",
       " 1355,\n",
       " 1359,\n",
       " 1360,\n",
       " 1363,\n",
       " 1364,\n",
       " 1367,\n",
       " 1370,\n",
       " 1372,\n",
       " 1373,\n",
       " 1374,\n",
       " 1375,\n",
       " 1377,\n",
       " 1378,\n",
       " 1379,\n",
       " 1380,\n",
       " 1382,\n",
       " 1384,\n",
       " 1385,\n",
       " 1386,\n",
       " 1387,\n",
       " 1390,\n",
       " 1391,\n",
       " 1393,\n",
       " 1394,\n",
       " 1396,\n",
       " 1397,\n",
       " 1398,\n",
       " 1399,\n",
       " 1400,\n",
       " 1401,\n",
       " 1403,\n",
       " 1404,\n",
       " 1406,\n",
       " 1407,\n",
       " 1408,\n",
       " 1409,\n",
       " 1410,\n",
       " 1411,\n",
       " 1412,\n",
       " 1413,\n",
       " 1415,\n",
       " 1416,\n",
       " 1417,\n",
       " 1418,\n",
       " 1419,\n",
       " 1420,\n",
       " 1421,\n",
       " 1422,\n",
       " 1423,\n",
       " 1424,\n",
       " 1428,\n",
       " 1429,\n",
       " 1431,\n",
       " 1432,\n",
       " 1433,\n",
       " 1434,\n",
       " 1436,\n",
       " 1437,\n",
       " 1439,\n",
       " 1440,\n",
       " 1442,\n",
       " 1443,\n",
       " 1444,\n",
       " 1446,\n",
       " 1449,\n",
       " 1450,\n",
       " 1451,\n",
       " 1452,\n",
       " 1453,\n",
       " 1454,\n",
       " 1455,\n",
       " 1456,\n",
       " 1457,\n",
       " 1459,\n",
       " 1460,\n",
       " 1461,\n",
       " 1463,\n",
       " 1464,\n",
       " 1465,\n",
       " 1466,\n",
       " ...]"
      ]
     },
     "execution_count": 510,
     "metadata": {},
     "output_type": "execute_result"
    }
   ],
   "source": [
    "ti_linear"
   ]
  },
  {
   "cell_type": "code",
   "execution_count": 509,
   "id": "5d6e2b97",
   "metadata": {},
   "outputs": [
    {
     "data": {
      "text/plain": [
       "1216"
      ]
     },
     "execution_count": 509,
     "metadata": {},
     "output_type": "execute_result"
    }
   ],
   "source": [
    "len(ti_non_linear)"
   ]
  },
  {
   "cell_type": "code",
   "execution_count": 38,
   "id": "fe924d29",
   "metadata": {},
   "outputs": [
    {
     "data": {
      "text/plain": [
       "PeriodicSite: Ti (0.0000, 0.0000, 0.0000) [0.0000, 0.0000, 0.0000]"
      ]
     },
     "execution_count": 38,
     "metadata": {},
     "output_type": "execute_result"
    }
   ],
   "source": [
    "structures[1362][0]"
   ]
  },
  {
   "cell_type": "code",
   "execution_count": 39,
   "id": "b894cb26",
   "metadata": {
    "collapsed": true
   },
   "outputs": [
    {
     "name": "stdout",
     "output_type": "stream",
     "text": [
      "1, 2, 4, 5, 6, 7, 8, 9, 10, 13, 14, 15, 16, 18, 19, 20, 21, 23, 24, 26, 27, 28, 30, 31, 32, 33, 34, 35, 36, 37, 40, 42, 43, 44, 46, 48, 49, 50, 51, 52, 54, 57, 58, 59, 60, 62, 63, 64, 65, 67, 68, 69, 70, 71, 73, 75, 77, 78, 79, 80, 81, 82, 83, 84, 85, 88, 89, 90, 91, 92, 93, 94, 95, 97, 98, 99, 100, 102, 103, 104, 105, 106, 107, 109, 111, 112, 113, 114, 115, 116, 117, 121, 122, 123, 125, 129, 131, 133, 135, 136, 137, 138, 139, 140, 141, 142, 144, 145, 147, 148, 149, 150, 152, 153, 155, 157, 159, 160, 163, 164, 165, 166, 168, 170, 171, 172, 173, 174, 175, 176, 177, 178, 182, 183, 184, 185, 187, 188, 189, 191, 192, 193, 195, 197, 198, 199, 200, 201, 202, 203, 205, 206, 207, 208, 209, 210, 211, 213, 214, 216, 217, 218, 219, 220, 223, 225, 227, 230, 232, 233, 234, 235, 236, 237, 238, 239, 240, 242, 243, 244, 248, 250, 251, 253, 254, 256, 257, 258, 260, 261, 262, 263, 264, 265, 267, 268, 270, 271, 272, 273, 275, 276, 277, 279, 281, 282, 283, 284, 285, 288, 289, 290, 291, 293, 294, 295, 296, 297, 298, 299, 300, 302, 303, 305, 306, 308, 309, 310, 311, 312, 313, 315, 316, 318, 319, 320, 321, 323, 324, 325, 326, 329, 331, 333, 335, 337, 338, 340, 341, 342, 343, 345, 346, 347, 349, 351, 352, 353, 354, 355, 356, 357, 360, 361, 362, 363, 364, 366, 368, 370, 372, 373, 376, 378, 379, 380, 383, 385, 387, 388, 389, 390, 392, 393, 395, 396, 397, 398, 399, 404, 406, 407, 408, 409, 411, 412, 414, 418, 419, 420, 421, 422, 423, 425, 426, 427, 429, 431, 432, 433, 434, 437, 438, 439, 441, 444, 445, 448, 449, 450, 451, 454, 455, 457, 459, 461, 462, 463, 464, 465, 468, 469, 470, 472, 474, 476, 478, 479, 480, 482, 484, 485, 486, 487, 488, 489, 490, 491, 492, 493, 494, 495, 496, 497, 498, 499, 501, 502, 504, 505, 509, 510, 512, 513, 514, 517, 519, 520, 521, 522, 523, 524, 529, 530, 531, 532, 534, 536, 538, 539, 540, 541, 543, 544, 545, 547, 549, 550, 551, 552, 553, 555, 557, 559, 562, 569, 570, 571, 572, 573, 574, 575, 578, 584, 585, 587, 588, 589, 590, 592, 594, 595, 596, 598, 602, 603, 604, 607, 608, 609, 613, 615, 616, 619, 620, 621, 622, 623, 624, 625, 627, 628, 629, 630, 631, 632, 634, 635, 636, 637, 639, 640, 641, 642, 644, 646, 649, 650, 651, 652, 653, 654, 655, 656, 657, 658, 659, 661, 662, 664, 665, 666, 667, 670, 671, 677, 678, 679, 680, 681, 682, 683, 684, 685, 686, 687, 690, 692, 693, 694, 696, 702, 704, 705, 706, 707, 708, 710, 711, 714, 715, 716, 718, 721, 723, 724, 727, 730, 731, 734, 736, 737, 738, 739, 740, 741, 742, 743, 745, 746, 747, 749, 754, 756, 757, 760, 761, 762, 763, 765, 766, 767, 768, 770, 771, 774, 775, 778, 779, 780, 781, 783, 785, 786, 787, 788, 793, 794, 795, 796, 797, 798, 799, 802, 805, 807, 809, 811, 812, 813, 814, 815, 816, 817, 820, 821, 822, 823, 825, 826, 827, 831, 833, 835, 838, 839, 841, 842, 844, 846, 848, 851, 852, 853, 854, 855, 857, 859, 861, 862, 863, 864, 865, 869, 870, 871, 873, 874, 876, 877, 878, 879, 880, 881, 882, 883, 884, 885, 886, 888, 890, 891, 892, 893, 895, 896, 897, 898, 899, 901, 902, 903, 905, 907, 908, 909, 910, 911, 913, 914, 916, 917, 919, 920, 922, 923, 925, 926, 927, 928, 932, 933, 934, 935, 936, 937, 938, 940, 942, 943, 944, 945, 946, 948, 949, 950, 951, 952, 958, 959, 960, 962, 963, 964, 965, 967, 968, 969, 971, 973, 974, 976, 977, 981, 985, 987, 988, 989, 990, 991, 992, 993, 994, 995, 997, 998, 1003, 1004, 1005, 1006, 1008, 1009, 1010, 1011, 1013, 1014, 1015, 1016, 1017, 1018, 1019, 1020, 1022, 1025, 1026, 1027, 1028, 1029, 1030, 1031, 1033, 1034, 1035, 1036, 1038, 1040, 1041, 1042, 1043, 1045, 1046, 1047, 1050, 1051, 1052, 1053, 1054, 1056, 1058, 1060, 1061, 1064, 1065, 1067, 1068, 1070, 1071, 1072, 1073, 1074, 1075, 1076, 1078, 1081, 1083, 1084, 1085, 1087, 1088, 1089, 1092, 1093, 1094, 1095, 1097, 1098, 1099, 1103, 1104, 1105, 1107, 1108, 1109, 1112, 1113, 1114, 1116, 1117, 1118, 1119, 1121, 1122, 1123, 1125, 1127, 1128, 1129, 1131, 1132, 1133, 1139, 1140, 1142, 1143, 1144, 1145, 1147, 1148, 1149, 1151, 1152, 1153, 1154, 1156, 1157, 1159, 1160, 1161, 1162, 1163, 1166, 1168, 1170, 1171, 1172, 1175, 1176, 1177, 1178, 1179, 1180, 1181, 1183, 1184, 1185, 1186, 1189, 1190, 1192, 1193, 1195, 1197, 1198, 1199, 1200, 1202, 1204, 1205, 1206, 1207, 1210, 1212, 1213, 1217, 1219, 1221, 1222, 1223, 1224, 1225, 1226, 1228, 1229, 1230, 1231, 1234, 1235, 1236, 1237, 1238, 1241, 1242, 1243, 1244, 1245, 1246, 1247, 1248, 1249, 1251, 1252, 1254, 1255, 1256, 1257, 1258, 1259, 1262, 1263, 1264, 1268, 1270, 1271, 1272, 1273, 1274, 1275, 1276, 1279, 1280, 1283, 1284, 1287, 1288, 1289, 1292, 1293, 1294, 1295, 1297, 1298, 1300, 1301, 1303, 1304, 1307, 1308, 1309, 1310, 1312, 1313, 1315, 1317, 1318, 1319, 1320, 1322, 1323, 1324, 1325, 1328, 1329, 1330, 1331, 1332, 1334, 1335, 1338, 1339, 1340, 1341, 1343, 1344, 1345, 1347, 1348, 1349, 1350, 1352, 1354, 1356, 1360, 1361, 1364, 1365, 1368, 1371, 1373, 1374, 1375, 1376, 1378, 1379, 1380, 1381, 1383, 1385, 1386, 1387, 1388, 1391, 1392, 1394, 1395, 1397, 1398, 1399, 1400, 1401, 1402, 1404, 1405, 1407, 1408, 1409, 1410, 1411, 1412, 1413, 1414, 1416, 1417, 1418, 1419, 1420, 1421, 1422, 1423, 1424, 1425, 1429, 1430, 1432, 1433, 1434, 1435, 1437, 1438, 1440, 1441, 1443, 1444, 1445, 1447, 1450, 1451, 1452, 1453, 1454, 1455, 1456, 1457, 1458, 1460, 1461, 1462, 1464, 1465, 1466, 1467, 1468, 1469, 1470, 1473, 1474, 1475, 1477, 1478, 1479, 1480, 1481, 1484, 1487, 1488, 1489, 1490, 1491, 1493, 1496, 1497, 1498, 1501, 1502, 1503, 1504, 1505, 1506, 1507, 1509, 1510, 1511, 1512, 1513, 1514, 1517, 1518, 1519, 1520, 1521, 1522, 1529, 1532, 1535, 1536, 1538, 1540, 1541, 1542, 1543, 1544, 1545, 1546, 1547, 1549, 1551, 1552, 1553, 1554, 1555, 1556, 1557, 1560, 1561, 1562, 1565, 1568, 1569, 1570, 1571, 1572, 1573, 1574, 1575, 1576, 1577, 1578, 1579, 1580, 1581, 1582, 1584, 1585, 1587, 1588, 1589, 1590, 1591, 1593, 1594, 1595, 1596, 1597, 1598, 1599, 1600, 1601, 1602, 1603, 1605, 1607, 1608, 1609, 1610, 1611, 1612, 1613, 1615, 1616, 1617, 1618, 1619, 1620, 1621, 1622, 1624, 1625, 1626, 1627, 1628, 1629, 1631, 1632, 1633, 1635, 1638, 1639, 1641, 1642, 1643, 1644, 1645, 1646, 1648, 1649, 1650, 1651, 1652, 1653, 1654, 1656, 1659, 1660, 1662, 1663, 1664, 1665, 1666, 1668, 1670, 1672, 1674, 1676, 1678, 1681, 1682, 1685, 1686, 1690, 1694, 1697, 1698, 1701, 1702, 1703, 1704, 1705, 1706, 1707, 1709, 1710, 1711, 1713, 1715, 1716, 1717, 1718, 1719, 1720, 1722, 1723, 1724, 1725, 1726, 1727, 1728, 1729, 1730, 1732, 1733, 1734, 1736, 1738, 1739, 1740, 1741, 1742, 1743, 1744, 1745, 1746, 1748, 1749, 1750, 1751, 1752, 1753, 1754, 1755, 1756, 1757, 1758, 1759, 1760, 1761, 1762, 1763, 1764, 1765, 1768, 1769, 1772, 1773, 1774, 1775, 1776, 1777, 1779, 1780, 1782, 1784, 1785, 1786, 1787, 1788, 1791, 1792, 1793, 1794, 1796, 1797, 1798, 1799, 1803, 1804, 1805, 1806, 1807, 1809, 1811, 1812, 1813, 1814, 1815, 1818, 1819, 1820, 1821, 1822, 1824, 1825, 1826, 1827, 1831, 1832, 1834, 1835, 1836, 1838, 1840, 1841, 1842, 1844, 1845, 1846, 1847, 1848, 1849, 1850, 1851, 1854, 1855, 1856, 1857, 1858, 1859, 1860, 1861, 1862, 1863, 1867, 1868, 1869, 1870, 1871, 1872, 1873, 1875, 1876, 1877, 1878, 1879, 1880, 1881, 1882, 1885, 1886, 1889, 1890, 1891, 1892, 1894, 1897, 1898, 1899, 1901, 1902, 1903, 1904, 1905, 1906, 1907, 1908, 1909, 1910, 1913, 1916, 1917, 1918, 1919, 1922, 1924, 1926, 1928, 1930, 1931, 1932, 1934, 1936, 1937, 1939, 1940, 1942, 1945, 1947, 1949, 1952, 1954, 1956, 1959, 1960, 1962, 1963, 1964, 1965, 1966, 1967, 1969, 1970, 1971, 1973, 1974, 1978, 1980, 1981, 1982, 1983, 1984, 1985, 1986, 1988, 1990, 1991, 1992, 1994, 1995, 1996, 1997, 1998, 2000, 2001, 2002, 2003, 2004, 2006, 2008, 2009, 2010, 2012, 2014, 2015, 2016, 2017, 2018, 2019, 2020, 2021, 2022, 2023, 2024, 2026, 2027, 2028, 2030, 2031, 2034, 2035, 2036, 2037, 2039, 2040, 2042, 2043, 2046, 2047, 2049, 2050, 2051, 2052, 2053, 2054, 2055, 2056, 2057, 2059, 2060, 2061, 2062, 2063, 2066, 2067, 2068, 2070, 2071, 2072, 2073, 2074, 2075, 2076, 2077, 2078, 2079, 2080, 2081, 2082, 2083, 2084, 2085, 2087, 2088, 2089, 2091, 2092, 2094, 2095, 2096, 2097, 2099, 2100, 2101, 2102, 2104, 2105, 2106, 2107, 2110, 2111, 2112, 2113, 2114, 2117, 2118, 2119, 2120, 2121, 2122, 2123, 2125, 2130, 2131, 2132, 2133, 2137, 2138, 2140, 2141, 2142, 2143, 2144, 2145, 2147, 2148, 2149, 2151, 2152, 2153, 2154, 2156, 2157, 2158, 2159, 2160, 2162, 2163, 2164, 2165, 2167, 2168, 2170, 2172, 2175, 2180, 2181, 2183, 2184, 2187, 2188, 2189, 2190, 2191, 2192, 2193, 2194, 2196, 2198, 2199, 2200, 2201, 2202, 2203, 2206, 2209, 2211, 2212, 2213, 2215, 2218, 2220, 2221, 2222, 2223, 2224, 2225, 2226, 2229, 2232, 2235, 2236, 2239, 2240, 2241, 2242, 2246, 2247, 2248, 2249, 2250, 2251, 2252, 2253, 2254, 2255, 2256, 2257, 2258, 2259, 2260, 2261, 2262, 2264, 2266, 2267, 2268, 2269, 2271, 2273, 2274, 2275, 2276, 2278, 2279, 2281, 2282, 2284, 2287, 2288, "
     ]
    },
    {
     "name": "stdout",
     "output_type": "stream",
     "text": [
      "2289, 2290, 2291, 2292, 2293, 2294, 2295, 2296, 2297, 2298, 2299, 2300, 2302, 2303, 2305, 2306, 2307, 2308, 2309, 2311, 2312, 2314, 2315, 2317, 2318, 2319, 2320, 2321, 2322, 2324, 2325, 2326, 2327, 2328, 2330, 2331, 2332, 2334, 2335, 2339, 2342, 2344, 2345, 2346, 2347, 2348, 2351, 2353, 2354, 2355, 2356, 2357, 2358, 2359, 2362, 2364, 2365, 2366, 2367, 2368, 2369, 2370, 2371, 2375, 2376, 2377, 2379, 2380, 2381, 2382, 2385, 2386, 2388, 2390, 2391, 2392, 2393, 2395, 2396, 2397, 2398, 2399, 2400, 2401, 2403, 2404, 2405, 2406, 2407, 2410, 2411, 2414, 2415, 2416, 2417, 2418, 2419, 2420, 2421, 2422, 2423, 2424, 2425, 2426, 2429, 2430, 2431, 2432, 2433, 2435, 2437, 2438, 2440, 2442, 2445, 2447, 2448, 2449, 2450, 2451, 2452, 2453, 2454, 2456, 2457, 2458, 2461, 2463, 2464, 2466, 2467, 2468, 2469, 2470, 2472, 2473, 2474, 2477, 2478, 2479, 2480, 2481, 2483, 2484, 2486, 2487, 2488, 2489, 2490, 2496, 2498, 2499, 2500, 2501, 2502, 2503, 2504, 2506, 2508, 2509, 2510, 2511, 2512, 2513, 2514, 2515, 2518, 2520, 2523, 2525, 2526, 2528, 2529, 2530, 2532, 2533, 2535, 2536, 2537, 2539, 2541, 2542, 2544, 2545, 2546, 2548, 2551, 2552, 2554, 2556, 2558, 2560, 2561, 2562, 2563, 2564, 2566, 2567, 2568, 2569, 2573, 2575, 2576, 2577, 2578, 2579, 2581, 2582, 2583, 2588, 2591, 2592, 2593, 2595, 2599, 2602, 2604, 2605, 2607, 2608, 2609, 2610, 2613, 2614, 2615, 2617, 2618, 2619, 2620, 2621, 2622, 2625, 2626, 2628, 2630, 2631, 2642, 2643, 2644, 2645, 2646, 2648, 2649, 2653, 2654, 2655, 2656, 2660, 2661, 2663, 2664, 2665, 2666, 2667, 2669, 2670, 2671, 2673, 2674, 2675, 2676, 2677, 2678, 2679, 2682, 2683, 2685, 2687, 2688, 2689, 2690, 2691, 2693, 2695, 2696, 2697, 2698, 2699, 2700, 2701, 2702, 2703, 2704, 2705, 2706, 2707, 2708, 2710, 2711, 2712, 2713, 2715, 2716, 2718, 2719, 2720, 2722, 2724, 2725, 2726, 2728, 2729, 2730, 2731, 2734, 2735, 2736, 2737, 2738, 2739, 2740, 2741, 2746, 2750, 2751, 2753, 2754, 2756, 2758, 2759, 2761, 2762, 2763, 2764, 2765, 2766, 2767, 2770, 2772, 2773, 2774, 2775, 2777, 2778, 2780, 2781, 2782, 2784, 2787, 2788, 2789, 2790, 2791, 2793, 2794, 2795, 2796, 2797, 2801, 2802, 2803, 2804, 2806, 2807, 2808, 2809, 2810, 2811, 2813, 2814, 2815, 2816, 2817, 2819, 2821, 2822, 2826, 2827, 2828, 2829, 2830, 2831, 2832, 2833, 2835, 2836, 2837, 2838, 2841, 2842, 2843, 2844, 2845, 2847, 2849, 2850, 2851, 2852, 2853, 2857, 2861, 2862, 2863, 2864, 2865, 2866, 2869, 2870, 2871, 2872, 2874, 2875, 2877, 2878, 2879, 2881, 2882, 2884, 2885, 2886, 2887, 2888, 2890, 2891, 2892, 2895, 2896, 2897, 2898, 2899, 2900, 2903, 2904, 2905, 2907, 2909, 2911, 2913, 2915, 2916, 2917, 2919, 2920, 2922, 2923, 2924, 2925, 2926, 2927, 2928, 2930, 2931, 2933, 2934, 2936, 2937, 2938, 2939, 2940, 2943, 2945, 2946, 2947, 2948, 2950, 2951, 2952, 2953, 2955, 2957, 2958, 2959, 2960, 2961, 2962, 2964, 2965, 2967, 2968, 2969, 2972, 2973, 2975, 2977, 2979, 2981, 2983, 2984, 2985, 2986, 2987, 2989, 2990, 2991, 2992, 2994, 2995, 2997, 2998, 2999, 3000, 3001, 3002, 3003, 3004, 3005, 3007, 3008, 3009, 3010, 3011, 3013, 3014, 3015, 3016, 3018, 3019, 3020, 3023, 3024, 3025, 3026, 3027, 3029, 3030, 3031, 3033, 3034, 3036, 3037, 3040, 3041, 3042, 3044, 3045, 3046, 3047, 3049, 3050, 3051, 3052, 3053, 3054, 3055, 3059, 3060, 3061, 3064, 3066, 3067, 3069, 3071, 3073, 3075, 3079, 3081, 3083, 3084, 3085, 3086, 3087, 3088, 3089, 3090, 3091, 3092, 3093, 3094, 3095, 3096, 3099, 3102, 3104, 3105, 3106, 3108, 3109, 3110, 3111, 3112, 3114, 3115, 3116, 3117, 3118, 3119, 3120, 3122, 3125, 3126, 3127, 3128, 3129, 3130, 3131, 3133, 3135, 3137, 3138, 3139, 3140, 3141, 3145, 3146, 3147, 3148, 3150, 3152, 3153, 3154, 3155, 3156, 3158, 3159, 3160, 3161, 3162, 3163, 3164, 3166, 3167, 3168, 3169, 3171, 3172, 3173, 3175, 3176, 3177, 3178, 3179, 3181, 3182, 3184, 3185, 3187, 3188, 3191, 3192, 3194, 3195, 3196, 3197, 3199, 3200, 3201, 3202, 3203, 3204, 3205, 3208, 3210, 3212, 3213, 3215, 3216, 3217, 3221, 3223, 3224, 3225, 3226, 3227, 3230, 3231, 3234, 3235, 3236, 3237, 3238, 3240, 3241, 3243, 3245, 3246, 3248, 3249, 3250, 3251, 3252, 3254, 3255, 3256, 3257, 3258, 3259, 3260, 3261, 3263, 3264, 3265, 3266, 3267, 3268, 3270, 3271, 3272, 3273, 3274, 3275, 3276, 3278, 3279, 3280, 3281, 3283, 3285, 3286, 3287, 3288, 3290, 3291, 3292, 3293, 3294, 3295, 3296, 3298, 3299, 3301, 3302, 3303, 3304, 3307, 3308, 3309, 3310, 3311, 3312, 3313, 3314, 3316, 3318, 3319, 3320, 3321, 3326, 3329, 3330, 3331, 3333, 3334, 3335, 3336, 3339, 3340, 3341, 3343, 3344, 3345, 3346, 3347, 3348, 3349, 3350, 3351, 3352, 3353, 3354, 3355, 3356, 3357, 3359, 3360, 3361, 3362, 3363, 3366, 3368, 3370, 3372, 3373, 3374, 3375, 3376, 3377, 3379, 3380, 3382, 3383, 3384, 3385, 3386, 3387, 3388, 3392, 3393, 3394, 3395, 3396, 3397, 3398, 3399, 3401, 3402, 3403, 3404, 3405, 3406, 3408, 3409, 3413, 3414, 3415, 3416, 3417, 3419, 3420, 3421, 3422, 3423, 3426, 3428, 3429, 3430, 3433, 3434, 3435, 3437, 3439, 3440, 3442, 3443, 3445, 3446, 3447, 3448, 3449, 3450, 3451, 3452, 3455, 3457, 3458, 3459, 3460, 3461, 3462, 3463, 3465, 3466, 3467, 3468, 3469, 3470, 3471, 3472, 3473, 3474, 3475, 3476, 3477, 3478, 3479, 3480, 3482, 3484, 3485, 3486, 3487, 3488, 3489, 3490, 3491, 3493, 3494, 3495, 3497, 3498, 3501, 3504, 3506, 3507, 3508, 3509, 3511, 3512, 3513, 3514, 3516, 3517, 3518, 3519, 3520, 3521, 3523, 3526, 3528, 3529, 3530, 3531, 3532, 3533, 3534, 3535, 3536, 3537, 3538, 3539, 3540, 3541, 3542, 3543, 3544, 3545, 3546, 3547, 3548, 3549, 3551, 3552, 3553, 3554, 3555, 3557, 3559, 3561, 3562, 3563, 3564, 3567, 3568, 3569, 3570, 3571, 3572, 3573, 3574, 3575, 3577, 3578, 3580, 3582, 3583, 3585, 3586, 3587, 3588, 3590, 3592, 3595, 3597, 3598, 3599, 3601, 3603, 3604, 3605, 3606, 3607, 3608, 3610, 3612, 3613, 3614, 3618, 3619, 3621, 3622, 3623, 3624, 3625, 3627, 3629, 3630, 3633, 3634, 3637, 3639, 3640, 3642, 3643, 3644, 3645, 3646, 3647, 3648, 3649, 3653, 3654, 3656, 3657, 3658, 3659, 3661, 3662, 3664, 3670, 3672, 3673, 3674, 3675, 3676, 3677, 3678, 3679, 3681, 3683, 3684, 3685, 3686, 3687, 3688, 3690, 3691, 3693, 3694, 3695, 3696, 3697, 3698, 3699, 3700, 3702, 3705, 3706, 3707, 3709, 3711, 3713, 3714, 3715, 3717, 3718, 3719, 3721, 3722, 3723, 3725, 3727, 3728, 3729, 3731, 3734, 3735, 3736, 3737, 3738, 3739, 3742, 3743, 3744, 3745, 3747, 3750, 3752, 3754, 3755, 3756, 3757, 3758, 3759, 3760, 3762, 3763, 3764, 3766, 3767, 3770, 3771, 3772, 3773, 3775, 3776, 3778, 3779, 3780, 3783, 3784, 3785, 3786, 3787, 3788, 3789, 3790, 3791, 3792, 3793, 3794, 3795, 3797, 3799, 3800, 3801, 3802, 3803, 3804, 3805, 3808, 3811, 3812, 3815, 3816, 3818, 3819, 3820, 3821, 3822, 3823, 3824, 3825, 3826, 3827, 3828, 3829, 3830, 3831, 3835, 3836, 3837, 3840, 3841, 3843, 3844, 3845, 3846, 3847, 3848, 3850, 3853, 3857, 3858, 3859, 3860, 3865, 3866, 3867, 3868, 3873, 3874, 3875, 3876, 3878, 3879, 3881, 3883, 3884, 3889, 3890, 3891, 3892, 3893, 3894, 3895, 3896, 3897, 3898, 3899, 3900, 3902, 3903, 3904, 3905, 3906, 3907, 3908, 3909, 3911, 3913, 3915, 3917, 3918, 3919, 3921, 3923, 3929, 3931, 3932, 3933, 3935, 3936, 3937, 3938, 3939, 3940, 3941, 3943, 3944, 3945, 3946, 3947, 3950, 3954, 3956, 3957, 3958, 3959, 3960, 3961, 3962, 3963, 3964, 3966, 3967, 3968, 3970, 3971, 3973, 3974, 3975, 3976, 3978, 3980, 3982, 3983, 3984, 3987, 3988, 3990, 3991, 3993, 3995, 3998, 3999, 4000, 4001, 4002, 4004, 4005, 4006, 4007, 4009, 4010, 4012, 4013, 4014, 4015, 4016, 4019, 4021, 4022, 4023, "
     ]
    }
   ],
   "source": [
    "for i in linear:\n",
    "    print(i+1,end=', ')"
   ]
  },
  {
   "cell_type": "code",
   "execution_count": 195,
   "id": "7927ae38",
   "metadata": {},
   "outputs": [
    {
     "data": {
      "text/plain": [
       "<Popen: returncode: None args: ['/Users/brunocamino/miniconda3/envs/cc/bin/p...>"
      ]
     },
     "execution_count": 195,
     "metadata": {},
     "output_type": "execute_result"
    }
   ],
   "source": [
    "view(AseAtomsAdaptor().get_atoms(structures[0]))"
   ]
  },
  {
   "cell_type": "markdown",
   "id": "76be2812",
   "metadata": {},
   "source": [
    "#### Second method (angle based)"
   ]
  },
  {
   "cell_type": "code",
   "execution_count": 41,
   "id": "52c64b8c",
   "metadata": {},
   "outputs": [],
   "source": [
    "linear2 = []\n",
    "non_linear2 = []\n",
    "n_lines = []\n",
    "parallel = []\n",
    "for n,structure in enumerate(structures[0:100]):\n",
    "    n_lines_structure = []\n",
    "    parallel_structure = 0\n",
    "    line = False\n",
    "    for i in range(len(ti_atoms[0])):\n",
    "        for j in ti_second_shell_atom[n][i]:\n",
    "            for k in ti_second_shell_atom[n][i]:\n",
    "                if j != k:\n",
    "                    #print(ti_atoms[n][i],j,k,get_angle(structure.cart_coords[j],structure.cart_coords[ti_atoms[n][i]],structure.cart_coords[k]))\n",
    "                    #print(ti_atoms[n][i],j,k,np.round(get_angle(structure.cart_coords[j],structure.cart_coords[ti_atoms[n][i]],structure.cart_coords[k]),4))\n",
    "                    if np.round(get_angle(structure.cart_coords[j],\n",
    "                                          structure.cart_coords[ti_atoms[n][i]],\n",
    "                                          structure.cart_coords[k]),4) == 180.0:\n",
    "                        n_lines_structure.append([ti_atoms[n][i],j,k])\n",
    "                        #print(np.sort(np.array([ti_atoms[n][i],j,k])))\n",
    "                        line = True\n",
    "    #print(np.unique(np.sort(np.array(n_lines_structure)),axis=0))\n",
    "    #print(np.unique(np.sort(np.array(n_lines_structure))))\n",
    "    for q,line1 in enumerate(np.unique(np.sort(np.array(n_lines_structure)),axis=0)):\n",
    "        for w,line2 in enumerate(np.unique(np.sort(np.array(n_lines_structure)),axis=0)):\n",
    "            if w > q:\n",
    "                #print(q,line1,w,line2,len(np.intersect1d(line1,line2)))\n",
    "                if len(np.intersect1d(line1,line2)) == 0:\n",
    "                    parallel_structure += 1\n",
    "    n_lines.append(len(np.unique(np.sort(np.array(n_lines_structure)),axis=0)))\n",
    "    parallel.append(parallel_structure)\n",
    "    if line == True:\n",
    "        linear2.append(n)\n",
    "    else:\n",
    "        non_linear2.append(n)"
   ]
  },
  {
   "cell_type": "markdown",
   "id": "68bcc6a7",
   "metadata": {},
   "source": [
    "### Li atoms"
   ]
  },
  {
   "cell_type": "markdown",
   "id": "88cbb7c4",
   "metadata": {},
   "source": [
    "#### Distance"
   ]
  },
  {
   "cell_type": "code",
   "execution_count": 190,
   "id": "d392aa01",
   "metadata": {},
   "outputs": [],
   "source": [
    "li_second_shell_atom_cell = []\n",
    "for n,structure in enumerate(structures):\n",
    "    distance = []\n",
    "    distance_atoms = []\n",
    "    for i in li_atoms[n]:\n",
    "        \n",
    "        dist = 0\n",
    "        dist_atom = []\n",
    "        for j in li_atoms[n]:\n",
    "            if round(structure.sites[i].distance(structure.sites[j],jimage=[0,0,0]),6) == round(shells[2],6):\n",
    "                #print(i,j,structure.sites[i].distance(structure.sites[j]))\n",
    "                dist += 1\n",
    "                dist_atom.append(j)\n",
    "        distance_atoms.append(dist_atom)\n",
    "\n",
    "        distance.append(dist)\n",
    "\n",
    "    li_second_shell_atom_cell.append(distance_atoms)\n",
    "\n",
    "li_linear = []\n",
    "li_non_linear = []\n",
    "for n,structure in enumerate(structures):\n",
    "    line = False\n",
    "    for i in range(len(li_atoms[0])):\n",
    "        for j in li_second_shell_atom_cell[n][i]:\n",
    "            for k in li_second_shell_atom_cell[n][i]:\n",
    "                if j != k:\n",
    "                    if round(structure.sites[j].distance(structure.sites[k],jimage=[0,0,0]),5) == round(2*shells[2],5):\n",
    "                        line = True\n",
    "    if line == True:\n",
    "        li_linear.append(n)\n",
    "    else:\n",
    "        li_non_linear.append(n)"
   ]
  },
  {
   "cell_type": "code",
   "execution_count": null,
   "id": "6de7d6a9",
   "metadata": {},
   "outputs": [],
   "source": [
    "li_non_linear"
   ]
  },
  {
   "cell_type": "markdown",
   "id": "c6fbe78a",
   "metadata": {},
   "source": [
    "#### Angle"
   ]
  },
  {
   "cell_type": "code",
   "execution_count": 107,
   "id": "84d12e49",
   "metadata": {},
   "outputs": [],
   "source": [
    "li_linear = []\n",
    "li_non_linear = []\n",
    "li_n_lines = []\n",
    "li_parallel = []\n",
    "for n,structure in enumerate(structures):\n",
    "    line = False\n",
    "    n_lines_structure = []\n",
    "    parallel_structure = 0\n",
    "    for i in range(len(li_atoms[0])):\n",
    "        for j in li_second_shell_atom[n][i]:\n",
    "            for k in li_second_shell_atom[n][i]:\n",
    "                if j != k:\n",
    "                    #print(ti_atoms[n][i],j,k,get_angle(structure.cart_coords[j],structure.cart_coords[ti_atoms[n][i]],structure.cart_coords[k]))\n",
    "                    #print(ti_atoms[n][i],j,k,np.round(get_angle(structure.cart_coords[j],structure.cart_coords[ti_atoms[n][i]],structure.cart_coords[k]),4))\n",
    "                    if np.round(get_angle(structure.cart_coords[j],\n",
    "                                          structure.cart_coords[li_atoms[n][i]],\n",
    "                                          structure.cart_coords[k]),4) == 180.0:\n",
    "                        n_lines_structure.append([li_atoms[n][i],j,k])\n",
    "                        line = True\n",
    "    \n",
    "    for q,line1 in enumerate(np.unique(np.sort(np.array(n_lines_structure)),axis=0)):\n",
    "        for w,line2 in enumerate(np.unique(np.sort(np.array(n_lines_structure)),axis=0)):\n",
    "            if w > q:\n",
    "                #print(q,line1,w,line2,len(np.intersect1d(line1,line2)))\n",
    "                if len(np.intersect1d(line1,line2)) == 0:\n",
    "                    parallel_structure += 1\n",
    "                    #print(parallel_structure)\n",
    "    li_n_lines.append(len(np.unique(np.sort(np.array(n_lines_structure)),axis=0)))\n",
    "    #li_parallel.append(np.where(triangular_num == parallel_structure)[0][0])\n",
    "    li_parallel.append(parallel_structure)\n",
    "    if line == True:\n",
    "        li_linear.append(n)\n",
    "    else:\n",
    "        li_non_linear.append(n)"
   ]
  },
  {
   "cell_type": "markdown",
   "id": "23cc68a8",
   "metadata": {},
   "source": [
    "### Non ti linear only"
   ]
  },
  {
   "cell_type": "code",
   "execution_count": 199,
   "id": "b954d0b7",
   "metadata": {
    "scrolled": true
   },
   "outputs": [
    {
     "name": "stdout",
     "output_type": "stream",
     "text": [
      "0 [ 0 11 19] 1 [2 5 8]\n",
      "0 [ 0 11 19] 3 [ 2 17 23]\n",
      "0 [ 0 11 19] 4 [3 4 5]\n",
      "0 [ 0 11 19] 5 [ 8 17 26]\n",
      "0 [ 0 11 19] 6 [15 16 17]\n",
      "0 [ 0 11 19] 8 [18 23 25]\n",
      "0 [ 0 11 19] 9 [20 23 26]\n",
      "1 [2 5 8] 6 [15 16 17]\n",
      "1 [2 5 8] 7 [18 19 20]\n",
      "1 [2 5 8] 8 [18 23 25]\n",
      "1 [2 5 8] 9 [20 23 26]\n",
      "2 [ 2 11 20] 4 [3 4 5]\n",
      "2 [ 2 11 20] 5 [ 8 17 26]\n",
      "2 [ 2 11 20] 6 [15 16 17]\n",
      "2 [ 2 11 20] 8 [18 23 25]\n",
      "3 [ 2 17 23] 4 [3 4 5]\n",
      "3 [ 2 17 23] 7 [18 19 20]\n",
      "4 [3 4 5] 5 [ 8 17 26]\n",
      "4 [3 4 5] 6 [15 16 17]\n",
      "4 [3 4 5] 7 [18 19 20]\n",
      "4 [3 4 5] 8 [18 23 25]\n",
      "4 [3 4 5] 9 [20 23 26]\n",
      "5 [ 8 17 26] 7 [18 19 20]\n",
      "5 [ 8 17 26] 8 [18 23 25]\n",
      "6 [15 16 17] 7 [18 19 20]\n",
      "6 [15 16 17] 8 [18 23 25]\n",
      "6 [15 16 17] 9 [20 23 26]\n"
     ]
    }
   ],
   "source": [
    "li_linear_no_ti = []\n",
    "li_non_linear_no_ti = []\n",
    "li_n_lines_no_ti = []\n",
    "li_parallel_no_ti = []\n",
    "for n in ti_non_linear:\n",
    "    structure = structures[n]\n",
    "    line = False\n",
    "    n_lines_structure = []\n",
    "    parallel_structure = 0\n",
    "    for i in range(len(li_atoms[0])):\n",
    "        for j in li_second_shell_atom[n][i]:\n",
    "            for k in li_second_shell_atom[n][i]:\n",
    "                if j != k:\n",
    "                    #print(ti_atoms[n][i],j,k,get_angle(structure.cart_coords[j],structure.cart_coords[ti_atoms[n][i]],structure.cart_coords[k]))\n",
    "                    #print(ti_atoms[n][i],j,k,np.round(get_angle(structure.cart_coords[j],structure.cart_coords[ti_atoms[n][i]],structure.cart_coords[k]),4))\n",
    "                    if np.round(get_angle(structure.cart_coords[j],\n",
    "                                          structure.cart_coords[li_atoms[n][i]],\n",
    "                                          structure.cart_coords[k]),4) == 180.0:\n",
    "                        n_lines_structure.append([li_atoms[n][i],j,k])\n",
    "                        line = True\n",
    "    \n",
    "    for q,line1 in enumerate(np.unique(np.sort(np.array(n_lines_structure)),axis=0)):\n",
    "        for w,line2 in enumerate(np.unique(np.sort(np.array(n_lines_structure)),axis=0)):\n",
    "            if w > q:\n",
    "                #print(q,line1,w,line2,len(np.intersect1d(line1,line2)))\n",
    "                if len(np.intersect1d(line1,line2)) == 0:\n",
    "                    if n == 1886:\n",
    "                        print(q,line1,w,line2)\n",
    "                    parallel_structure += 1\n",
    "                    #print(parallel_structure)\n",
    "    li_n_lines_no_ti.append(len(np.unique(np.sort(np.array(n_lines_structure)),axis=0)))\n",
    "    #li_parallel.append(np.where(triangular_num == parallel_structure)[0][0])\n",
    "    li_parallel_no_ti.append(parallel_structure)\n",
    "    if line == True:\n",
    "        li_linear_no_ti.append(n)\n",
    "    else:\n",
    "        li_non_linear_no_ti.append(n)"
   ]
  },
  {
   "cell_type": "code",
   "execution_count": 211,
   "id": "8067f30e",
   "metadata": {},
   "outputs": [
    {
     "data": {
      "text/plain": [
       "PeriodicSite: Li (2.5428, 0.0000, -2.5427) [-0.3333, 0.0000, 0.3333]"
      ]
     },
     "execution_count": 211,
     "metadata": {},
     "output_type": "execute_result"
    }
   ],
   "source": [
    "structures[1886].sites[19]"
   ]
  },
  {
   "cell_type": "code",
   "execution_count": 183,
   "id": "f7ccecac",
   "metadata": {},
   "outputs": [],
   "source": [
    "unique_lines, first_lines, total_lines =  np.unique(np.array(li_n_lines_no_ti),axis=0,return_counts=True,return_index=True)\n"
   ]
  },
  {
   "cell_type": "code",
   "execution_count": 184,
   "id": "606987a3",
   "metadata": {},
   "outputs": [],
   "source": [
    "structure_groups = []\n",
    "for unique in unique_lines:\n",
    "    structure_groups.append((np.where(np.array(li_n_lines_no_ti) == unique)[0]-1).tolist())"
   ]
  },
  {
   "cell_type": "code",
   "execution_count": 187,
   "id": "68af4693",
   "metadata": {
    "collapsed": true
   },
   "outputs": [
    {
     "data": {
      "text/plain": [
       "[60,\n",
       " 91,\n",
       " 202,\n",
       " 344,\n",
       " 397,\n",
       " 471,\n",
       " 516,\n",
       " 649,\n",
       " 661,\n",
       " 738,\n",
       " 826,\n",
       " 897,\n",
       " 955,\n",
       " 1039,\n",
       " 1113,\n",
       " 1126,\n",
       " 1140]"
      ]
     },
     "execution_count": 187,
     "metadata": {},
     "output_type": "execute_result"
    }
   ],
   "source": [
    "structure_groups[1]"
   ]
  },
  {
   "cell_type": "code",
   "execution_count": 188,
   "id": "36a7dcc2",
   "metadata": {},
   "outputs": [
    {
     "name": "stdout",
     "output_type": "stream",
     "text": [
      "Number of Li lines  5\n",
      "[ 576 1099 2589 2979 3564 3781] \n",
      "\n",
      "Number of Li lines  6\n",
      "[ 227  338  659 1076 1232 1482 1656 2126 2168 2427 2658 2907 3102 3426\n",
      " 3702 3740 3795] \n",
      "\n",
      "Number of Li lines  7\n",
      "[  85  221  329  349  412  452  457  470  527  541  582  590  647  673\n",
      "  697  699  719  772  775  803  836  839  865  903  952  956  998 1109\n",
      " 1200 1214 1260 1326 1357 1388 1481 1532 1536 1549 1603 1646 1687 1713\n",
      " 1720 1746 1782 1815 1836 1894 1895 1919 1976 2108 2114 2184 2194 2233\n",
      " 2237 2269 2359 2383 2442 2454 2493 2504 2520 2530 2558 2579 2632 2635\n",
      " 2637 2691 2778 2797 2833 2859 2892 2913 2981 3133 3164 3288 3619 3679\n",
      " 3688 3760 3764 3816 3831 3860 3876 3980 4016] \n",
      "\n",
      "Number of Li lines  8\n",
      "[  44   71   73  117  123  160  203  223  343  381  402  404  466  474\n",
      "  502  506  517  581  598  616  668  675  721  747  781  789  827  848\n",
      "  866  888  893  923  928 1020 1023 1065 1078 1133 1136 1140 1145 1149\n",
      " 1163 1195 1210 1226 1231 1249 1252 1281 1298 1305 1320 1325 1352 1354\n",
      " 1361 1368 1383 1389 1405 1427 1435 1441 1448 1484 1526 1527 1538 1657\n",
      " 1666 1682 1686 1736 1769 1780 1789 1807 1828 1832 1838 1863 1926 1937\n",
      " 1954 1960 1971 2012 2031 2037 2064 2085 2092 2102 2125 2134 2149 2173\n",
      " 2181 2213 2226 2230 2322 2342 2373 2459 2491 2506 2515 2523 2537 2542\n",
      " 2564 2570 2583 2584 2593 2628 2640 2656 2657 2708 2720 2741 2759 2791\n",
      " 2798 2817 2875 2955 2969 3020 3021 3031 3047 3056 3097 3122 3135 3143\n",
      " 3150 3173 3188 3219 3243 3321 3380 3399 3411 3423 3424 3431 3435 3499\n",
      " 3523 3575 3583 3608 3615 3616 3649 3703 3709 3711 3719 3732 3850 3879\n",
      " 3921] \n",
      "\n",
      "Number of Li lines  9\n",
      "[   2   11   21   37   55   60   65   75  109  118  125  126  133  178\n",
      "  179  180  185  189  230  244  245  251  254  258  291  313  327  333\n",
      "  358  376  390  393  415  416  423  435  439  480  482  525  526  532\n",
      "  536  555  557  560  562  565  567  575  579  599  600  632  637  667\n",
      "  671  687  690  698  702  711  727  751  790  802  807  809  817  831\n",
      "  833  846  859  886  914  917  920  940 1001 1011 1031 1038 1056 1062\n",
      " 1068 1079 1085 1110 1114 1123 1129 1134 1137 1157 1168 1186 1190 1207\n",
      " 1264 1265 1268 1276 1295 1310 1332 1350 1358 1366 1369 1392 1395 1402\n",
      " 1425 1426 1470 1475 1485 1494 1523 1524 1525 1529 1530 1562 1591 1629\n",
      " 1633 1636 1654 1674 1692 1695 1698 1707 1711 1734 1799 1801 1829 1842\n",
      " 1851 1865 1911 1920 1922 1924 1928 1942 1945 1974 1998 2004 2032 2047\n",
      " 2057 2135 2154 2172 2175 2176 2209 2215 2244 2262 2264 2279 2285 2315\n",
      " 2337 2371 2377 2382 2438 2461 2492 2494 2496 2533 2548 2549 2554 2597\n",
      " 2600 2605 2615 2623 2636 2651 2661 2667 2716 2742 2744 2747 2751 2754\n",
      " 2770 2784 2839 2845 2847 2888 2911 2931 2934 2943 2973 2992 3037 3042\n",
      " 3069 3071 3081 3096 3106 3112 3156 3185 3206 3221 3232 3261 3283 3296\n",
      " 3299 3305 3316 3322 3326 3327 3331 3341 3357 3388 3430 3440 3443 3453\n",
      " 3455 3491 3578 3610 3625 3637 3650 3659 3700 3731 3750 3776 3805 3841\n",
      " 3848 3854 3868 3871 3881 3884 3886 3923 3925 3926 3947 3948 3964 3978\n",
      " 3984 3985 3991 3993 3995] \n",
      "\n",
      "Number of Li lines  10\n",
      "[4019   16   24   28   40   46   54   86  107  119  131  150  157  166\n",
      "  193  195  220  246  248  273  279  300  303  316  321  331  364  366\n",
      "  370  373  380  383  385  399  409  414  442  446  455  476  505  514\n",
      "  553  559  564  585  596  609  625  662  672  674  688  694  696  700\n",
      "  708  725  728  731  752  757  763  768  776  788  791  800  818  823\n",
      "  829  835  842  849  899  938  954  955  960  965  969  971  978  981\n",
      "  982  985 1047 1048 1054 1058 1081 1090 1100 1105 1119 1135 1164 1166\n",
      " 1173 1187 1193 1238 1266 1285 1301 1313 1315 1336 1356 1381 1414 1445\n",
      " 1447 1491 1493 1515 1522 1547 1557 1565 1582 1605 1613 1622 1639 1660\n",
      " 1668 1672 1678 1683 1770 1852 1864 1873 1882 1883 1899 1914 1932 1934\n",
      " 1940 1950 1952 1956 1975 1978 1986 1992 2024 2044 2089 2115 2128 2133\n",
      " 2145 2160 2165 2170 2196 2203 2204 2206 2216 2271 2276 2282 2309 2332\n",
      " 2336 2340 2372 2393 2401 2408 2411 2412 2426 2440 2443 2458 2464 2484\n",
      " 2516 2539 2546 2552 2571 2573 2588 2595 2626 2634 2646 2680 2726 2732\n",
      " 2748 2756 2767 2775 2811 2822 2823 2824 2854 2866 2872 2882 2901 2909\n",
      " 2917 2920 2940 2948 2953 2975 2977 2987 3011 3016 3034 3061 3062 3064\n",
      " 3067 3075 3100 3120 3123 3131 3142 3169 3182 3197 3217 3231 3241 3276\n",
      " 3281 3304 3314 3323 3324 3364 3370 3409 3437 3482 3514 3524 3526 3555\n",
      " 3559 3580 3588 3601 3614 3630 3631 3640 3651 3654 3662 3666 3668 3681\n",
      " 3715 3723 3729 3747 3752 3773 3838 3853 3862 3870 3885 3909 3913 3915\n",
      " 3919 3924 3929 3941 3950 3954 3968 3988 4007 4010 4017] \n",
      "\n",
      "Number of Li lines  11\n",
      "[  10   95  100  129  145  153  155  214  228  240  265  268  277  286\n",
      "  306  357  374  400  434  465  499  507  524  545  547  563  578  605\n",
      "  610  644  646  712  716  718  724  743  754  758  771  783  828  855\n",
      "  867  871  874  905  929  946  977  995 1000 1006 1036 1043 1089 1125\n",
      " 1154 1172 1202 1208 1213 1215 1239 1259 1277 1280 1335 1345 1371 1376\n",
      " 1458 1499 1507 1514 1533 1635 1676 1679 1688 1691 1694 1730 1794 1816\n",
      " 1910 1943 1949 1957 1967 2006 2010 2068 2107 2123 2138 2177 2207 2229\n",
      " 2232 2236 2243 2300 2303 2348 2360 2362 2407 2433 2445 2470 2490 2518\n",
      " 2521 2526 2569 2585 2586 2599 2622 2649 2650 2671 2679 2683 2713 2743\n",
      " 2746 2768 2785 2799 2819 2853 2855 2858 2867 2879 2893 2900 2941 2970\n",
      " 3005 3057 3077 3179 3208 3213 3218 3246 3336 3363 3389 3390 3406 3410\n",
      " 3504 3509 3549 3557 3565 3590 3593 3595 3627 3635 3664 3665 3670 3691\n",
      " 3739 3745 3768 3780 3806 3808 3809 3813 3833 3837 3861 3869 3887 3900\n",
      " 3911 3933 3952 3971 3996] \n",
      "\n",
      "Number of Li lines  12\n",
      "[  38   52  127  142  161  211  225  285  326  335  347  368  401  429\n",
      "  445  459  472  515  534  566  580  592  604  642  732  734  749  857\n",
      "  911  974  979  983 1095 1101 1181 1217 1284 1290 1304 1362 1462 1498\n",
      " 1558 1563 1566 1670 1690 1766 1777 1788 1809 1822 1886 1988 2040 2043\n",
      " 2063 2097 2127 2178 2185 2218 2227 2328 2335 2339 2349 2351 2388 2435\n",
      " 2474 2475 2556 2596 2602 2611 2631 2638 2685 2693 2782 2838 2857 2905\n",
      " 2928 2965 2995 3027 3038 3055 3076 3079 3099 3141 3205 3210 3228 3238\n",
      " 3366 3417 3452 3480 3495 3498 3501 3502 3521 3592 3599 3634 3707 3725\n",
      " 3748 3767 3797 3832 3851 3863 3927 3951 3976 4002] \n",
      "\n",
      "Number of Li lines  13\n",
      "[ 168  427  441  611  613  750  805  844  930  953  999 1022 1219 1341\n",
      " 1365 1430 1438 1471 1585 1765 1827 1892 1947 2028 2242 2284 2386 2481\n",
      " 2610 2633 2639 2722 2731 2962 3073 3148 3192 3227 3252 3268 3812] \n",
      "\n",
      "Number of Li lines  14\n",
      "[ 451  510  617  799 1289 1800 1887 1913 2312 2804 3189 3337 3368 3377\n",
      " 3463 3667] \n",
      "\n",
      "Number of Li lines  15\n",
      "[1699 3855] \n",
      "\n",
      "Number of Li lines  16\n",
      "[1061] \n",
      "\n"
     ]
    }
   ],
   "source": [
    "for n, struc in enumerate(structure_groups):\n",
    "    print('Number of Li lines ', unique_lines[n])\n",
    "    print(np.array(non_linear)[struc],end=' ')\n",
    "    print('\\n')"
   ]
  },
  {
   "cell_type": "code",
   "execution_count": 209,
   "id": "aa199a88",
   "metadata": {},
   "outputs": [
    {
     "data": {
      "text/plain": [
       "array([[ 0.00000000e+00,  0.00000000e+00,  0.00000000e+00],\n",
       "       [ 2.54275000e+00,  2.54275000e+00,  2.77037472e-33],\n",
       "       [-2.54275000e+00, -2.54275000e+00, -2.77037472e-33],\n",
       "       [ 2.54275000e+00,  2.77037472e-33,  2.54275000e+00],\n",
       "       [ 5.08550000e+00,  2.54275000e+00,  2.54275000e+00],\n",
       "       [-1.54908493e-16, -2.54275000e+00,  2.54275000e+00],\n",
       "       [-2.54275000e+00, -2.77037472e-33, -2.54275000e+00],\n",
       "       [ 1.54908493e-16,  2.54275000e+00, -2.54275000e+00],\n",
       "       [-5.08550000e+00, -2.54275000e+00, -2.54275000e+00],\n",
       "       [ 2.77037472e-33,  2.54275000e+00,  2.54275000e+00],\n",
       "       [ 2.54275000e+00,  5.08550000e+00,  2.54275000e+00],\n",
       "       [-2.54275000e+00, -1.54908493e-16,  2.54275000e+00],\n",
       "       [ 2.54275000e+00,  2.54275000e+00,  5.08550000e+00],\n",
       "       [ 5.08550000e+00,  5.08550000e+00,  5.08550000e+00],\n",
       "       [-1.54908493e-16, -1.54908493e-16,  5.08550000e+00],\n",
       "       [-2.54275000e+00,  2.54275000e+00, -1.54908493e-16],\n",
       "       [ 1.54908493e-16,  5.08550000e+00, -1.54908493e-16],\n",
       "       [-5.08550000e+00, -1.54908493e-16, -1.54908493e-16],\n",
       "       [-2.77037472e-33, -2.54275000e+00, -2.54275000e+00],\n",
       "       [ 2.54275000e+00,  1.54908493e-16, -2.54275000e+00],\n",
       "       [-2.54275000e+00, -5.08550000e+00, -2.54275000e+00],\n",
       "       [ 2.54275000e+00, -2.54275000e+00,  1.54908493e-16],\n",
       "       [ 5.08550000e+00,  1.54908493e-16,  1.54908493e-16],\n",
       "       [-1.54908493e-16, -5.08550000e+00,  1.54908493e-16],\n",
       "       [-2.54275000e+00, -2.54275000e+00, -5.08550000e+00],\n",
       "       [ 1.54908493e-16,  1.54908493e-16, -5.08550000e+00],\n",
       "       [-5.08550000e+00, -5.08550000e+00, -5.08550000e+00],\n",
       "       [ 2.54275000e+00,  2.54275000e+00,  2.54275000e+00],\n",
       "       [-2.54275000e+00, -2.54275000e+00,  2.54275000e+00],\n",
       "       [-7.74542467e-17, -7.74542467e-17,  2.54275000e+00],\n",
       "       [-2.54275000e+00,  2.54275000e+00, -2.54275000e+00],\n",
       "       [-7.62825000e+00, -2.54275000e+00, -2.54275000e+00],\n",
       "       [-5.08550000e+00, -7.74542467e-17, -2.54275000e+00],\n",
       "       [ 7.74542467e-17,  2.54275000e+00, -7.74542467e-17],\n",
       "       [-5.08550000e+00, -2.54275000e+00, -7.74542467e-17],\n",
       "       [-2.54275000e+00, -7.74542467e-17, -7.74542467e-17],\n",
       "       [ 2.54275000e+00, -2.54275000e+00, -2.54275000e+00],\n",
       "       [-2.54275000e+00, -7.62825000e+00, -2.54275000e+00],\n",
       "       [-7.74542467e-17, -5.08550000e+00, -2.54275000e+00],\n",
       "       [-2.54275000e+00, -2.54275000e+00, -7.62825000e+00],\n",
       "       [-7.62825000e+00, -7.62825000e+00, -7.62825000e+00],\n",
       "       [-5.08550000e+00, -5.08550000e+00, -7.62825000e+00],\n",
       "       [ 8.77723820e-17, -2.54275000e+00, -5.08550000e+00],\n",
       "       [-5.08550000e+00, -7.62825000e+00, -5.08550000e+00],\n",
       "       [-2.54275000e+00, -5.08550000e+00, -5.08550000e+00],\n",
       "       [ 2.54275000e+00,  7.74542467e-17,  7.74542467e-17],\n",
       "       [-2.54275000e+00, -5.08550000e+00,  8.77723820e-17],\n",
       "       [-7.74542467e-17, -2.54275000e+00,  7.74542467e-17],\n",
       "       [-2.54275000e+00,  8.77723820e-17, -5.08550000e+00],\n",
       "       [-7.62825000e+00, -5.08550000e+00, -5.08550000e+00],\n",
       "       [-5.08550000e+00, -2.54275000e+00, -5.08550000e+00],\n",
       "       [ 7.74542467e-17,  7.74542467e-17, -2.54275000e+00],\n",
       "       [-5.08550000e+00, -5.08550000e+00, -2.54275000e+00],\n",
       "       [-2.54275000e+00, -2.54275000e+00, -2.54275000e+00]])"
      ]
     },
     "execution_count": 209,
     "metadata": {},
     "output_type": "execute_result"
    }
   ],
   "source": [
    "structures[1886].cart_coords"
   ]
  },
  {
   "cell_type": "code",
   "execution_count": 212,
   "id": "41ebf2c7",
   "metadata": {},
   "outputs": [
    {
     "data": {
      "text/plain": [
       "<Popen: returncode: None args: ['/Users/brunocamino/miniconda3/envs/cc/bin/p...>"
      ]
     },
     "execution_count": 212,
     "metadata": {},
     "output_type": "execute_result"
    }
   ],
   "source": [
    "view(AseAtomsAdaptor().get_atoms(structures[1886]))"
   ]
  },
  {
   "cell_type": "markdown",
   "id": "dfa4cc83",
   "metadata": {},
   "source": [
    "#### Std of number of atoms second shell"
   ]
  },
  {
   "cell_type": "code",
   "execution_count": 47,
   "id": "01b8c751",
   "metadata": {
    "scrolled": false
   },
   "outputs": [
    {
     "data": {
      "text/plain": [
       "array([3.        , 2.60104442, 2.46205776, ..., 0.57735027, 0.47140452,\n",
       "       0.        ])"
      ]
     },
     "execution_count": 47,
     "metadata": {},
     "output_type": "execute_result"
    }
   ],
   "source": [
    "np.std(np.unique(np.sort(np.array(n_atoms_second_shell),axis=1),axis=0,return_counts=True)[0],axis=1)"
   ]
  },
  {
   "cell_type": "markdown",
   "id": "852d15a7",
   "metadata": {},
   "source": [
    "### Individual distances"
   ]
  },
  {
   "cell_type": "markdown",
   "id": "ab787f1f",
   "metadata": {},
   "source": [
    "#### Sum distribution, average distance"
   ]
  },
  {
   "cell_type": "code",
   "execution_count": 48,
   "id": "4be0f1a1",
   "metadata": {},
   "outputs": [
    {
     "ename": "ZeroDivisionError",
     "evalue": "division by zero",
     "output_type": "error",
     "traceback": [
      "\u001b[0;31m---------------------------------------------------------------------------\u001b[0m",
      "\u001b[0;31mZeroDivisionError\u001b[0m                         Traceback (most recent call last)",
      "\u001b[0;32m/var/folders/f2/8kc7y9697m59bwltxjd42y300000gn/T/ipykernel_95458/934538657.py\u001b[0m in \u001b[0;36m<module>\u001b[0;34m\u001b[0m\n\u001b[1;32m     40\u001b[0m         )'''\n\u001b[1;32m     41\u001b[0m         \u001b[0;31m#std.append(np.std(atom_coord,axis=0))\u001b[0m\u001b[0;34m\u001b[0m\u001b[0;34m\u001b[0m\u001b[0m\n\u001b[0;32m---> 42\u001b[0;31m         \u001b[0maverage_distances_atom\u001b[0m\u001b[0;34m.\u001b[0m\u001b[0mappend\u001b[0m\u001b[0;34m(\u001b[0m\u001b[0mdist\u001b[0m\u001b[0;34m/\u001b[0m\u001b[0mlen\u001b[0m\u001b[0;34m(\u001b[0m\u001b[0mti_second_shell_atom\u001b[0m\u001b[0;34m[\u001b[0m\u001b[0mn\u001b[0m\u001b[0;34m]\u001b[0m\u001b[0;34m[\u001b[0m\u001b[0mi\u001b[0m\u001b[0;34m]\u001b[0m\u001b[0;34m)\u001b[0m\u001b[0;34m)\u001b[0m\u001b[0;34m\u001b[0m\u001b[0;34m\u001b[0m\u001b[0m\n\u001b[0m\u001b[1;32m     43\u001b[0m         \u001b[0msum_distances_atom\u001b[0m\u001b[0;34m.\u001b[0m\u001b[0mappend\u001b[0m\u001b[0;34m(\u001b[0m\u001b[0mdist\u001b[0m\u001b[0;34m)\u001b[0m\u001b[0;34m\u001b[0m\u001b[0;34m\u001b[0m\u001b[0m\n\u001b[1;32m     44\u001b[0m         \u001b[0msingle_dist_atom\u001b[0m\u001b[0;34m.\u001b[0m\u001b[0mappend\u001b[0m\u001b[0;34m(\u001b[0m\u001b[0mti_dist\u001b[0m\u001b[0;34m)\u001b[0m\u001b[0;34m\u001b[0m\u001b[0;34m\u001b[0m\u001b[0m\n",
      "\u001b[0;31mZeroDivisionError\u001b[0m: division by zero"
     ]
    }
   ],
   "source": [
    "sum_distances = []\n",
    "average_distances = []\n",
    "std_distances = []\n",
    "centroid_dev = []\n",
    "single_dist_final = []\n",
    "single_dist_all_sorted = []\n",
    "single_dist_final_flat = []\n",
    "for n,structure in enumerate(structures):\n",
    "    average_distances_atom = []\n",
    "    sum_distances_atom = []\n",
    "    centroid_dev_atom = []\n",
    "    single_dist_atom = []\n",
    "    single_dist_atom_ext = []\n",
    "    #std_distances_atom = []\n",
    "    ti_dist_ext = []\n",
    "    for i in range(len(ti_atoms[n])):\n",
    "        dist = 0\n",
    "        atom_coord = []\n",
    "        ti_dist = []\n",
    "        for j in ti_second_shell_atom[n][i]:\n",
    "            atom_coord.append(structure.cart_coords[j].tolist())\n",
    "            single_dist = []\n",
    "            for k in ti_second_shell_atom[n][i]:\n",
    "                if j != k:\n",
    "                    single_dist.append(round(structure.sites[j].distance(structure.sites[k]),6))\n",
    "                    dist += round(structure.sites[j].distance(structure.sites[k]),6)\n",
    "            single_dist.sort()\n",
    "            #print(single_dist)\n",
    "            ti_dist.append(single_dist)\n",
    "            ti_dist_ext.extend(single_dist)\n",
    "        ti_dist.sort()\n",
    "        ti_dist_ext.extend([item for sublist in ti_dist for item in sublist])\n",
    "        #print(ti_dist)\n",
    "        #center = centroidnp(np.array(atom_coord))\n",
    "        '''centroid_dev_atom.append(\\\n",
    "            np.sqrt(\n",
    "                ((center-structure.cart_coords[j])[0])**2 \\\n",
    "            + ((center-structure.cart_coords[j])[1])**2 \\\n",
    "            + ((center-structure.cart_coords[j])[2])**2)\n",
    "        )'''\n",
    "        #std.append(np.std(atom_coord,axis=0))\n",
    "        average_distances_atom.append(dist/len(ti_second_shell_atom[n][i]))\n",
    "        sum_distances_atom.append(dist)\n",
    "        single_dist_atom.append(ti_dist)\n",
    "        single_dist_atom_ext.extend(ti_dist)\n",
    "        #####TEST\n",
    "        sorted_indices = np.argsort(n_atoms_second_shell[n])\n",
    "        single_dist_sorted = []\n",
    "        for i in sorted_indices:\n",
    "            single_dist_sorted.extend(ti_dist_ext)\n",
    "        #print(np.sort(np.sort(single_dist_final[n][i]),axis=0))\n",
    "        single_dist_all_sorted.append(single_dist_sorted)\n",
    "\n",
    "        ####\n",
    "    sum_distances.append(sum_distances_atom)\n",
    "    average_distances.append(average_distances_atom)\n",
    "    centroid_dev.append(centroid_dev_atom)\n",
    "    single_dist_final.append(single_dist_atom) #THIS ONE\n",
    "    #print(ti_dist_ext)\n",
    "    single_dist_final_flat.append(ti_dist_ext) #THIS ONE\n",
    "    #std_distances.append(std)\n",
    "        #print(i,j,len(ti_second_shell_atom[n][i]),dist)\n",
    "#print(len(single_dist_all_sorted))\n",
    "#print(single_dist_final_flat)"
   ]
  },
  {
   "cell_type": "code",
   "execution_count": null,
   "id": "1ba966d3",
   "metadata": {},
   "outputs": [],
   "source": [
    "single_dist_final[0]"
   ]
  },
  {
   "cell_type": "code",
   "execution_count": null,
   "id": "c1c1a7d1",
   "metadata": {},
   "outputs": [],
   "source": [
    "np.where(np.sort(np.array(n_atoms_second_shell),axis=1) == unique_coord[0])"
   ]
  },
  {
   "cell_type": "code",
   "execution_count": null,
   "id": "a0b18b0e",
   "metadata": {},
   "outputs": [],
   "source": [
    "a = np.sort(np.array(n_atoms_second_shell),axis=1)\n",
    "#np.all(np.sort(np.array(n_atoms_second_shell),axis=1) == unique_coord[0])\n",
    "np.where((a == unique_coord[3]).all(axis=1))[0]\n",
    "np.where(np.all(a == unique_coord[0],axis=1))"
   ]
  },
  {
   "cell_type": "code",
   "execution_count": null,
   "id": "5d57377e",
   "metadata": {},
   "outputs": [],
   "source": [
    "'''for i,structure_group in enumerate(structure_groups):\n",
    "    print('Group ',i)\n",
    "    for x in structure_group:\n",
    "        print(x, end=', ')\n",
    "    print('\\n')'''"
   ]
  },
  {
   "cell_type": "code",
   "execution_count": null,
   "id": "76c1eea5",
   "metadata": {},
   "outputs": [],
   "source": [
    "coord_group_all = []\n",
    "for structure_group in structure_groups:\n",
    "    coord_group = []\n",
    "    for n in structure_group:\n",
    "        coord_group.append(single_dist_final_flat[n])\n",
    "    coord_group_all.append(coord_group)\n"
   ]
  },
  {
   "cell_type": "code",
   "execution_count": null,
   "id": "419cba0d",
   "metadata": {},
   "outputs": [],
   "source": [
    "np.unique(np.array(coord_group_all[0]),axis=0)\n",
    "unique_coord_dist = np.unique(np.array(coord_group_all[1]),axis=0)#,return_counts=True,return_index=True)\n",
    "len(unique_coord_dist)"
   ]
  },
  {
   "cell_type": "code",
   "execution_count": null,
   "id": "aca62ade",
   "metadata": {},
   "outputs": [],
   "source": [
    "np.where(np.all(np.sort(np.round(sum_distances,6),axis=1)==np.sort(np.round(sum_distances,6),axis=1)[0]))\n",
    "sum_distances_sorted = np.sort(np.round(sum_distances,6),axis=1)\n",
    "average_distances_sorted = np.sort(np.round(average_distances,6),axis=1)"
   ]
  },
  {
   "cell_type": "code",
   "execution_count": null,
   "id": "53d78bd4",
   "metadata": {},
   "outputs": [],
   "source": [
    "np.unique(sum_distances_sorted,axis=0, return_counts=True)"
   ]
  },
  {
   "cell_type": "code",
   "execution_count": null,
   "id": "89448dcc",
   "metadata": {},
   "outputs": [],
   "source": [
    "np.unique(average_distances_sorted,axis=0, return_counts=True)"
   ]
  },
  {
   "cell_type": "code",
   "execution_count": null,
   "id": "1b36f2ad",
   "metadata": {},
   "outputs": [],
   "source": [
    "magic_index = n_atoms_second_shell-(np.array(sum_distances)/np.amax(sum_distances[1]))"
   ]
  },
  {
   "cell_type": "code",
   "execution_count": null,
   "id": "a3bf1adb",
   "metadata": {},
   "outputs": [],
   "source": [
    "magic_index"
   ]
  },
  {
   "cell_type": "code",
   "execution_count": null,
   "id": "aa05c88d",
   "metadata": {},
   "outputs": [],
   "source": [
    "magic_index[0]"
   ]
  },
  {
   "cell_type": "code",
   "execution_count": null,
   "id": "8333d5d1",
   "metadata": {},
   "outputs": [],
   "source": [
    "#second_coord_max"
   ]
  },
  {
   "cell_type": "markdown",
   "id": "d0161f74",
   "metadata": {},
   "source": [
    "#### Fourth shell"
   ]
  },
  {
   "cell_type": "code",
   "execution_count": null,
   "id": "f966545a",
   "metadata": {},
   "outputs": [],
   "source": [
    "fourth_coord_max = []\n",
    "for n,structure in enumerate(structures):\n",
    "    sum_coord = []    \n",
    "    for i in ti_atoms[n]:\n",
    "        sum_coord_atom = 0\n",
    "        for j in ti_atoms[n]:\n",
    "            sum_coord_atom += (round(structure.distance_matrix[i][j],6) == round(shells[2],6))\n",
    "            sum_coord_atom += (round(structure.distance_matrix[i][j],6) == round(shells[4],6))\n",
    "        sum_coord.append(sum_coord_atom)\n",
    "    fourth_coord_max.append(max(sum_coord))"
   ]
  },
  {
   "cell_type": "markdown",
   "id": "7f62bab5",
   "metadata": {},
   "source": [
    "### Standard deviation"
   ]
  },
  {
   "cell_type": "markdown",
   "id": "b0a86915",
   "metadata": {},
   "source": [
    "#### Cartesian coordinates"
   ]
  },
  {
   "cell_type": "code",
   "execution_count": null,
   "id": "e406c924",
   "metadata": {
    "scrolled": true
   },
   "outputs": [],
   "source": [
    "std = [] \n",
    "std_sum = []\n",
    "std_std = []\n",
    "\n",
    "#for n,structure in enumerate(structures):\n",
    "#for n in first_occ:\n",
    "for n in range(4023):\n",
    "    ti_coord = []\n",
    "    for i in ti_atoms[n]:\n",
    "        ti_coord.append(structures[n].cart_coords[i].tolist())\n",
    "    \n",
    "    std.append(np.std(ti_coord,axis=0).tolist())\n",
    "    std_sum.append(np.sum(np.std(ti_coord,axis=0)))\n",
    "    std_std.append(np.std(np.std(ti_coord,axis=0)))\n",
    "display(np.unique(std,axis=0))\n",
    "display(np.unique(std_sum))\n",
    "display(np.unique(std_std))\n",
    "\n",
    "display(np.array(std_sum)/np.max(std_sum))"
   ]
  },
  {
   "cell_type": "code",
   "execution_count": null,
   "id": "b35480b7",
   "metadata": {},
   "outputs": [],
   "source": [
    "np.array(structures[first_occ]"
   ]
  },
  {
   "cell_type": "markdown",
   "id": "537e99e8",
   "metadata": {},
   "source": [
    "#### Spherical coordinates"
   ]
  },
  {
   "cell_type": "code",
   "execution_count": null,
   "id": "29c14164",
   "metadata": {},
   "outputs": [],
   "source": [
    "distribution_com = [] \n",
    "for n,structure in enumerate(structures[0:100]):\n",
    "    ti_coord = []\n",
    "    ti_coord_sph = []\n",
    "    for i in ti_atoms[n]:\n",
    "        ti_coord.append(structure.cart_coords[i].tolist())\n",
    "    centroid = centroidnp(np.array(ti_coord))\n",
    "    ti_coord = ti_coord - centroid\n",
    "    for coord in ti_coord:\n",
    "        ti_coord_sph.append(cart2sph(coord[0],coord[1],coord[2]))\n",
    "    print(np.std(ti_coord_sph,axis=0))\n",
    "        "
   ]
  },
  {
   "cell_type": "markdown",
   "id": "71ee5039",
   "metadata": {},
   "source": [
    "### Compare energies"
   ]
  },
  {
   "cell_type": "code",
   "execution_count": null,
   "id": "989711e3",
   "metadata": {},
   "outputs": [],
   "source": [
    "with open('data/Energies.txt') as file:\n",
    "    data = file.readlines()\n",
    "structure_index = []\n",
    "energy = []\n",
    "for i in range(len(data)):\n",
    "    structure_index.append(int(data[i][:-2].split('\\t-')[0]))\n",
    "    energy.append(float(data[i][:-2].split('\\t-')[1]))\n",
    "\n",
    "np.array(structure_index)[np.argsort(np.array(structure_index))]\n",
    "energy_sorted = np.array(energy)[np.argsort(np.array(structure_index))]*27.2114/2\n",
    "#(max(energy_sorted)-min(energy_sorted))*27.2114/2"
   ]
  },
  {
   "cell_type": "markdown",
   "id": "8d2ef089",
   "metadata": {},
   "source": [
    "#### Check energy of 1 structure per class"
   ]
  },
  {
   "cell_type": "code",
   "execution_count": null,
   "id": "b45367ef",
   "metadata": {},
   "outputs": [],
   "source": [
    "energy_list = []\n",
    "for i in first_occ:\n",
    "    energy_list.append(energy_sorted[i]*27.2114/2)\n",
    "np.array(energy_list)-np.max(np.array(energy_list))"
   ]
  },
  {
   "cell_type": "markdown",
   "id": "f4f0b016",
   "metadata": {},
   "source": [
    "#### Variability inside class"
   ]
  },
  {
   "cell_type": "code",
   "execution_count": null,
   "id": "76962402",
   "metadata": {},
   "outputs": [],
   "source": [
    "average_energy_group = []\n",
    "max_min_group = []\n",
    "std_group = []\n",
    "for structure_group in structure_groups:\n",
    "    average_energy_group.append(np.average(np.array(energy_sorted)[structure_group]))\n",
    "    max_min_group.append(np.amax(np.array(energy_sorted)[structure_group])-np.amin(np.array(energy_sorted)[structure_group]))\n",
    "    std_group.append(np.std(np.array(energy_sorted)[structure_group]))\n",
    "average_energy_group\n",
    "(np.array(max_min_group)*27.2114/2)\n",
    "#std_group"
   ]
  },
  {
   "cell_type": "markdown",
   "id": "1d8d7cf7",
   "metadata": {},
   "source": [
    "#### Check energy of linear vs non linear"
   ]
  },
  {
   "cell_type": "code",
   "execution_count": null,
   "id": "1a008fcd",
   "metadata": {},
   "outputs": [],
   "source": [
    "e_linear = np.array(energy_sorted)[linear]\n",
    "e_non_linear = np.array(energy_sorted)[non_linear]\n",
    "#np.max(e_non_linear)-np.min(e_non_linear)\n",
    "#np.max(e_linear)-np.min(e_linear)\n",
    "(np.average(e_linear)-np.average(e_non_linear))*27.2114/2"
   ]
  },
  {
   "cell_type": "code",
   "execution_count": null,
   "id": "810aa2fb",
   "metadata": {},
   "outputs": [],
   "source": []
  },
  {
   "cell_type": "code",
   "execution_count": null,
   "id": "f6870a2f",
   "metadata": {},
   "outputs": [],
   "source": [
    "import matplotlib.pyplot as plt\n",
    "\n",
    "color = ['b','g','r','c','m','y','k','tab:orange']\n",
    "fig, ax = plt.subplots()\n",
    "ax.plot(linear, e_linear,'o',c=color[0])\n",
    "ax.plot(non_linear, e_non_linear,'o',c=color[1])\n",
    "#ax.plot(np.arange(4023), energy_sorted,'o',c=color[1])\n",
    "#ax.plot(average_ti,energy_sorted ,'o',c=color[1])\n",
    "\n",
    "\n",
    "ax.set(xlabel='Structure number', ylabel='E (Ry)',\n",
    "       title='Total Energy')\n",
    "ax.grid()\n",
    "\n",
    "#fig.savefig(\"test.png\")\n",
    "plt.show()"
   ]
  },
  {
   "cell_type": "code",
   "execution_count": null,
   "id": "4c734470",
   "metadata": {},
   "outputs": [],
   "source": [
    "import matplotlib.pyplot as plt\n",
    "\n",
    "color = ['b','g','r','c','m','y','k','tab:orange']\n",
    "fig, ax = plt.subplots()\n",
    "for i, structure_group in enumerate(structure_groups):\n",
    "    ind = structure_group\n",
    "    E = np.array(energy_sorted)[structure_group]\n",
    "\n",
    "    \n",
    "    ax.plot(ind, E,'o',c=color[i])\n",
    "\n",
    "ax.set(xlabel='Structure number', ylabel='E (Ry)',\n",
    "       title='Total Energy')\n",
    "ax.grid()\n",
    "\n",
    "#fig.savefig(\"test.png\")\n",
    "plt.show()"
   ]
  },
  {
   "cell_type": "code",
   "execution_count": null,
   "id": "196d930b",
   "metadata": {},
   "outputs": [],
   "source": [
    "len(structure_groups)"
   ]
  },
  {
   "cell_type": "markdown",
   "id": "1828d284",
   "metadata": {},
   "source": [
    "### Planes"
   ]
  },
  {
   "cell_type": "code",
   "execution_count": null,
   "id": "6cd9f5e2",
   "metadata": {},
   "outputs": [],
   "source": [
    "slab = SlabGenerator(SpacegroupAnalyzer(structures[300]).get_conventional_standard_structure(),[1,0,0],10,10).get_slab()\n",
    "#view(AseAtomsAdaptor().get_atoms(SpacegroupAnalyzer(structures[3000]).get_conventional_standard_structure()))\n",
    "#view(AseAtomsAdaptor().get_atoms(slab))\n",
    "len(slab)"
   ]
  },
  {
   "cell_type": "markdown",
   "id": "2ec0d818",
   "metadata": {},
   "source": [
    "### Distance periodic site"
   ]
  },
  {
   "cell_type": "code",
   "execution_count": null,
   "id": "d66868ab",
   "metadata": {},
   "outputs": [],
   "source": [
    "coordination = [] \n",
    "for n,structure in enumerate(structures):\n",
    "    second_coord = 0\n",
    "    for i in ti_atoms[n]:        \n",
    "        for j in ti_atoms[n]:\n",
    "            if i != j:\n",
    "                if round(structure.sites[i].distance(structure.sites[j]),6) == round(shells[2],6):\n",
    "                    second_coord += 1\n",
    "    #coordination.append(second_coord/len(ti_atoms[n]))\n",
    "    coordination.append(second_coord)\n",
    "                \n",
    "coordination      "
   ]
  },
  {
   "cell_type": "markdown",
   "id": "db767758",
   "metadata": {},
   "source": [
    "### Scan along row"
   ]
  },
  {
   "cell_type": "markdown",
   "id": "1dc0449b",
   "metadata": {},
   "source": [
    "#### Shells"
   ]
  },
  {
   "cell_type": "code",
   "execution_count": null,
   "id": "318689ba",
   "metadata": {},
   "outputs": [],
   "source": [
    "def cart2sph(x, y, z):\n",
    "    hxy = np.hypot(x, y)\n",
    "    r = np.hypot(hxy, z)\n",
    "    el = np.arctan2(z, hxy)\n",
    "    az = np.arctan2(y, x)\n",
    "    if np.around(az,6) ==  np.around(2*np.pi,6) \\\n",
    "    or np.around(az,6) ==  -np.around(2*np.pi,6):\n",
    "        az = 0.\n",
    "    return [round(az,6), round(el,6), round(r,6)]"
   ]
  },
  {
   "cell_type": "code",
   "execution_count": null,
   "id": "8b138a6d",
   "metadata": {},
   "outputs": [],
   "source": [
    "def cart2cent2sph(atom,center):\n",
    "    x = atom[0]-center[0]\n",
    "    y = atom[1]-center[1]\n",
    "    z = atom[2]-center[2]\n",
    "    return cart2sph(x, y, z)"
   ]
  },
  {
   "cell_type": "code",
   "execution_count": null,
   "id": "fd116b11",
   "metadata": {},
   "outputs": [],
   "source": [
    "def cart2sin(x, y, z):\n",
    "    hxy = np.hypot(x, y)\n",
    "    r = np.hypot(hxy, z)\n",
    "    el = np.sin(np.arctan2(z, hxy))\n",
    "    az = np.cos(np.arctan2(y, x))\n",
    "    return [round(az,6), round(el,6), round(r,6)]"
   ]
  },
  {
   "cell_type": "code",
   "execution_count": null,
   "id": "9b22e8d7",
   "metadata": {},
   "outputs": [],
   "source": [
    "def centroidnp(arr):\n",
    "    length = arr.shape[0]\n",
    "    sum_x = np.sum(arr[:, 0])\n",
    "    sum_y = np.sum(arr[:, 1])\n",
    "    sum_z = np.sum(arr[:, 2])\n",
    "    return np.array([sum_x/length, sum_y/length, sum_z/length])"
   ]
  },
  {
   "cell_type": "code",
   "execution_count": null,
   "id": "2b761816",
   "metadata": {},
   "outputs": [],
   "source": [
    "def get_angle(a,b,c):\n",
    "\n",
    "    a = np.array(a)\n",
    "    b = np.array(b)\n",
    "    c = np.array(c)\n",
    "\n",
    "    ba = a - b\n",
    "    bc = c - b\n",
    "\n",
    "    cosine_angle = np.dot(ba, bc) / (np.linalg.norm(ba) * np.linalg.norm(bc))\n",
    "    angle = np.arccos(cosine_angle)\n",
    "\n",
    "    return np.degrees(angle)"
   ]
  },
  {
   "cell_type": "code",
   "execution_count": null,
   "id": "ae0b1499",
   "metadata": {},
   "outputs": [],
   "source": [
    "def triangular_numbers(n):\n",
    "    i, t = 1, 0\n",
    "    while i <= n:\n",
    "        yield t\n",
    "        t += i\n",
    "        i += 1\n",
    "\n",
    "triangular_num = np.array(list(triangular_numbers(30)))"
   ]
  },
  {
   "cell_type": "code",
   "execution_count": null,
   "id": "8548d10c",
   "metadata": {
    "scrolled": false
   },
   "outputs": [],
   "source": [
    "#Spherical coordinates\n",
    "#Make sure there are no gaps even if they have the same polar and azimuthal coords\n",
    "max_row = []\n",
    "for n,structure in enumerate(structures[3000:3001]):\n",
    "    for i in ti_atoms[n]:\n",
    "        spherical_coord = []\n",
    "        row = []\n",
    "        for j in ti_atoms[n]:\n",
    "            #print(i,j)\n",
    "            center_cart = structure.cart_coords[j]-structure.cart_coords[i]\n",
    "            spherical_coord.append(cart2sph(center_cart[0],center_cart[1],center_cart[2]))   \n",
    "        spherical_coord = np.around(np.array(spherical_coord),6)\n",
    "        #print(spherical_coord[:,0:1],spherical_coord[:,0:1]+np.pi)\n",
    "        for el in spherical_coord:\n",
    "            #print(el[0:3],spherical_coord[:,0:3])\n",
    "            #print(spherical_coord[:,0:2] == el[0:2],np.sum(np.prod(spherical_coord[:,0:2] == el[0:2],axis=1)))\n",
    "            #print(np.sum(np.multiply(spherical_coord[:,0] == el[0]+np.pi,spherical_coord[:,1] == -el[1])))\n",
    "            row.append(np.sum(np.prod(spherical_coord[:,0:2] == el[0:2],axis=1)))#+\n",
    "                 #np.sum(np.multiply(spherical_coord[:,0] == el[0]+np.pi,spherical_coord[:,1] == -el[1])))\n",
    "    max_row.append(max(row)+1)       \n",
    "       "
   ]
  },
  {
   "cell_type": "code",
   "execution_count": null,
   "id": "e6670fbb",
   "metadata": {},
   "outputs": [],
   "source": [
    "#Sinusoidal coordinates\n",
    "max_row = []\n",
    "for n,structure in enumerate(structures[3000:3001]):\n",
    "    for i in ti_atoms[n]:\n",
    "        spherical_coord = []\n",
    "        row = []\n",
    "        #print(i)\n",
    "        for j in ti_atoms[n]:\n",
    "            #print(i,j)\n",
    "            center_cart = structure.cart_coords[j]-structure.cart_coords[i]\n",
    "            spherical_coord.append(cart2sin(center_cart[0],center_cart[1],center_cart[2]))   \n",
    "        spherical_coord = np.around(np.array(spherical_coord),6)\n",
    "        #print(spherical_coord)\n",
    "        for el in spherical_coord:\n",
    "            #print(spherical_coord[:,0:3])\n",
    "            #print(spherical_coord[:,0:2] == el[0:2],np.sum(np.prod(spherical_coord[:,0:2] == el[0:2],axis=1))) \n",
    "            row.append(np.sum(np.prod(spherical_coord[:,0:2] == el[0:2],axis=1))+\n",
    "                 np.sum(np.prod(spherical_coord[:,0:2] == -el[0:2],axis=1)))\n",
    "    max_row.append(max(row)+1)       \n",
    "       "
   ]
  },
  {
   "cell_type": "code",
   "execution_count": null,
   "id": "0afadfcd",
   "metadata": {},
   "outputs": [],
   "source": [
    "#get neighbours\n",
    "max_radius = max(np.sum(structure.lattice.matrix,axis=1))\n",
    "for n,structure in enumerate(structures[0:1]):\n",
    "    for i in ti_atoms[n]:\n",
    "        #print(structure.get_neighbor_list(max_radius)[3])\n",
    "        for neigh in structure.get_neighbors(structure.sites[i],max_radius):\n",
    "            if neigh.as_dict()['species'][0]['element'] == 'Ti':\n",
    "                \n",
    "        #for j in ti_atoms[n]:\n",
    "            #if i != j:\n",
    "                #print(structure.get_neighbors(structure.sites[i],3.))\n",
    "#len(structure.get_all_neighbors(10.)[0])"
   ]
  },
  {
   "cell_type": "markdown",
   "id": "067d7036",
   "metadata": {},
   "source": [
    "# Neighbour analysis and classification"
   ]
  },
  {
   "cell_type": "code",
   "execution_count": null,
   "id": "5ebf35e0",
   "metadata": {},
   "outputs": [],
   "source": [
    "shells"
   ]
  },
  {
   "cell_type": "code",
   "execution_count": null,
   "id": "84bda6d4",
   "metadata": {
    "scrolled": true
   },
   "outputs": [],
   "source": [
    "ti_neigh_list = []\n",
    "for i,structure in enumerate(structures[0:1]):\n",
    "    for ti_atom_1 in ti_atoms[i]:\n",
    "        ti_neigh = []\n",
    "        for ti_atom_2 in ti_atoms[i]:\n",
    "            if structure.distance_matrix[ti_atom_1][ti_atom_2] - shells[2] < 0.001:\n",
    "                ti_neigh.append(cart2cent2sph(structure.cart_coords[ti_atom_2],structure.cart_coords[ti_atom_1]))\n",
    "        ti_neigh_list.append(ti_neigh)\n",
    "ti_neigh_list"
   ]
  },
  {
   "cell_type": "code",
   "execution_count": null,
   "id": "04ed5e50",
   "metadata": {},
   "outputs": [],
   "source": [
    "structures[0]"
   ]
  },
  {
   "cell_type": "code",
   "execution_count": null,
   "id": "4f410298",
   "metadata": {},
   "outputs": [],
   "source": [
    "structures[0].distance_matrix"
   ]
  },
  {
   "cell_type": "code",
   "execution_count": null,
   "id": "da5c09e7",
   "metadata": {},
   "outputs": [],
   "source": []
  },
  {
   "cell_type": "code",
   "execution_count": null,
   "id": "9a5446bc",
   "metadata": {},
   "outputs": [],
   "source": []
  },
  {
   "cell_type": "markdown",
   "id": "e1c2236d",
   "metadata": {},
   "source": [
    "### Fourier transform"
   ]
  },
  {
   "cell_type": "code",
   "execution_count": null,
   "id": "948dcdd1",
   "metadata": {},
   "outputs": [],
   "source": [
    "ti_coord = []\n",
    "for i in ti_atoms[0]:\n",
    "    ti_coord.append(structures[0].sites[i].coords.tolist())\n",
    "np.fft.fftn(np.array(ti_coord))"
   ]
  },
  {
   "cell_type": "code",
   "execution_count": null,
   "id": "4baa625a",
   "metadata": {},
   "outputs": [],
   "source": [
    "df = pd.DataFrame(list(zip(space_group,average_ti,second_coord_sum,second_coord_max,fourth_coord_max)),\n",
    "               columns =['Space Group','Average Ti distance','Sum second coord','Max second coord','Max fourth coord'])\n",
    "\n",
    "df[df['Space Group'] == 1]\n",
    "df"
   ]
  }
 ],
 "metadata": {
  "kernelspec": {
   "display_name": "Python 3 (ipykernel)",
   "language": "python",
   "name": "python3"
  },
  "language_info": {
   "codemirror_mode": {
    "name": "ipython",
    "version": 3
   },
   "file_extension": ".py",
   "mimetype": "text/x-python",
   "name": "python",
   "nbconvert_exporter": "python",
   "pygments_lexer": "ipython3",
   "version": "3.9.10"
  }
 },
 "nbformat": 4,
 "nbformat_minor": 5
}
