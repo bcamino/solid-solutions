{
 "cells": [
  {
   "cell_type": "markdown",
   "id": "1bc6a017",
   "metadata": {},
   "source": [
    "# Classification for Machine Learning\n",
    "\n",
    "### Ideas:\n",
    "\n",
    "#### Energy\n",
    "- run scf calculations on N structures\n",
    "- train the NN using the descriptor neighbours_spatial_dist_all and the corresponding energy\n",
    "- get the energy of new structures from the NN using their descriptor neighbours_spatial_dist_all\n",
    "\n",
    "#### Geometry optimisation:\n",
    "- optimise the geometry of N structures\n",
    "- train the NN using the descriptor neighbours_spatial_dist_all and the displacement of the atoms in the structures. This would be a Mx3 (M = number of atoms) array that contains the x,y,z displacements.\n",
    "- get the displacement of atoms for a new structure\n",
    "- How do we include the cell? First line added to the neighbours_spatial_dist_all array of the structure (+ padding)?\n",
    "\n",
    "#### Tests and questions\n",
    "- How many shells to use?\n",
    "- Using the non optimised energy vs using the optimised energy\n",
    "- For the geometry optimisation part: does starting from a NN optimised structure make the full convergence quicker?\n",
    "- Does training the NN with the optimised structure energies predict the energy of what the optimised geometry would give?"
   ]
  },
  {
   "cell_type": "code",
   "execution_count": 6,
   "id": "1b2ba234",
   "metadata": {},
   "outputs": [],
   "source": [
    "from crystal_functions.file_readwrite import Crystal_output, write_properties_input, Crystal_input, write_crystal_gui,write_crystal_input, Crystal_density\n",
    "from crystal_functions.convert import cry_gui2pmg, cry_out2pmg\n",
    "from crystal_functions.utils import view_pmg\n",
    "\n",
    "from pymatgen.io.ase import AseAtomsAdaptor\n",
    "from pymatgen.io.cif import CifWriter\n",
    "from ase.visualize import view\n",
    "\n",
    "from pymatgen.symmetry.analyzer import SpacegroupAnalyzer\n",
    "from pymatgen.core.surface import SlabGenerator\n",
    "import numpy as np\n",
    "import pandas as pd\n",
    "import os\n",
    "from pathlib import Path\n",
    " "
   ]
  },
  {
   "cell_type": "markdown",
   "id": "5f4d71d2",
   "metadata": {},
   "source": [
    "### Read the structures from the output files and replace with new_atom\n",
    "This cell generates the structures list. This contains all the 4023 structures as pymatgen structure objects"
   ]
  },
  {
   "cell_type": "code",
   "execution_count": 3,
   "id": "035ccf86",
   "metadata": {},
   "outputs": [],
   "source": [
    "new_atom = 'Li'\n",
    "\n",
    "cry_output = Crystal_output('data/classification/ml/LTS_CONFCNT_ONLY.out')\n",
    "\n",
    "cry_output.get_config_analysis()\n",
    "\n",
    "original_structure = cry_gui2pmg('data/classification/ml/LTS_CONFCNT_ONLY.gui')\n",
    "structures = []\n",
    "ti_atoms = []\n",
    "li_atoms = []\n",
    "for j,substitutions in enumerate(cry_output.atom_type2):\n",
    "    new_structure = original_structure.copy()\n",
    "    for i in substitutions:\n",
    "        new_structure.replace(i-1,new_atom)\n",
    "    structures.append(new_structure)\n",
    "    ti_atoms.append((np.array(cry_output.atom_type1[j])-1).tolist())\n",
    "    li_atoms.append((np.array(cry_output.atom_type2[j])-1).tolist())"
   ]
  },
  {
   "cell_type": "markdown",
   "id": "68c61c4b",
   "metadata": {},
   "source": [
    "### Shells"
   ]
  },
  {
   "cell_type": "code",
   "execution_count": 4,
   "id": "ae8e21e9",
   "metadata": {},
   "outputs": [
    {
     "data": {
      "text/plain": [
       "[0.0, 2.54275, 3.595992, 4.404172, 5.0855, 5.685762, 6.22844, 7.62825]"
      ]
     },
     "execution_count": 4,
     "metadata": {},
     "output_type": "execute_result"
    }
   ],
   "source": [
    "shells = np.unique(np.round(structures[0].distance_matrix[0],decimals=6),return_counts=True)[0].tolist()\n",
    "shells"
   ]
  },
  {
   "cell_type": "markdown",
   "id": "e05322a3",
   "metadata": {},
   "source": [
    "## Space group & Irreducible atoms"
   ]
  },
  {
   "cell_type": "code",
   "execution_count": 8,
   "id": "d27e3750",
   "metadata": {},
   "outputs": [],
   "source": [
    "space_groups = []\n",
    "n_irr_atoms = []\n",
    "for i,structure in enumerate(structures):\n",
    "    space_groups.append(SpacegroupAnalyzer(structure).get_space_group_number())\n",
    "    #n_irr_atoms.append(len(SpacegroupAnalyzer(structure).get_symmetrized_structure().equivalent_indices))\n",
    "space_groups = np.array(space_groups)\n",
    "#n_irr_atoms = np.array(n_irr_atoms)"
   ]
  },
  {
   "cell_type": "code",
   "execution_count": 12,
   "id": "b23030a8",
   "metadata": {},
   "outputs": [],
   "source": [
    "space_groups_unique, space_groups_first, space_groups_count = np.unique(space_groups,return_counts=True, return_index=True)"
   ]
  },
  {
   "cell_type": "code",
   "execution_count": 15,
   "id": "827570ae",
   "metadata": {},
   "outputs": [],
   "source": [
    "space_groups_dict = {v: np.where(space_groups == v)[0] for v in np.unique(space_groups)}"
   ]
  },
  {
   "cell_type": "markdown",
   "id": "39a9ea63",
   "metadata": {},
   "source": [
    "# Analyse scf results"
   ]
  },
  {
   "cell_type": "markdown",
   "id": "4ed5adcc",
   "metadata": {},
   "source": [
    "# The magic happens here"
   ]
  },
  {
   "cell_type": "markdown",
   "id": "8f7fad17",
   "metadata": {},
   "source": [
    "Each element of the neighbours_spatial_dist_all (one element per structure) is a 2D array whose rows correspond to an atom and the array contains:\n",
    "- 0 = atom number of the atom whose neighbours I'm analysing\n",
    "- 1:6 = atomic numbers of the atoms in the first coord shell\n",
    "- 7:19 = atomic numbers of the atoms in the second coord shell\n",
    "- 20:28 = atomic numbers of the atoms in the third coord shell\n",
    "\n",
    "These atomic numbers are ordered following a spatial analysis. They are written starting from the atoms below the atom 0 and moving upwards."
   ]
  },
  {
   "cell_type": "markdown",
   "id": "d2750a48",
   "metadata": {},
   "source": [
    "## Spatial distribution analysis"
   ]
  },
  {
   "cell_type": "code",
   "execution_count": 13,
   "id": "c8919026",
   "metadata": {},
   "outputs": [],
   "source": [
    "def cart2sph(x, y, z):\n",
    "    hxy = np.hypot(x, y)\n",
    "    r = np.hypot(hxy, z)\n",
    "    el = np.arctan2(z, hxy)\n",
    "    az = np.arctan2(y, x)\n",
    "    if np.around(az,6) ==  np.around(2*np.pi,6) \\\n",
    "    or np.around(az,6) ==  -np.around(2*np.pi,6):\n",
    "        az = 0.\n",
    "    if np.around(az,6) < 0.:\n",
    "        az = np.round(2*np.pi+az,6)\n",
    "    return [round(az,6), round(el,6), round(r,6)]"
   ]
  },
  {
   "cell_type": "markdown",
   "id": "4ec73505",
   "metadata": {},
   "source": [
    "## THIS ONE WORKS (it scales better when a small number of shells is included)"
   ]
  },
  {
   "cell_type": "code",
   "execution_count": 28,
   "id": "fb3a9924",
   "metadata": {},
   "outputs": [],
   "source": [
    "max_shell = 1\n",
    "centered_sph_coords = []\n",
    "centered_sph_coords_structure = []\n",
    "neighbours_spatial_dist = []\n",
    "neighbours_spatial_dist_all = []\n",
    "import time\n",
    "time0 = time.time()\n",
    "for k,structure in enumerate(structures[0:100]): #TMP only calculate 100 structures\n",
    "    time0 = time.time()\n",
    "    neighbours_spatial_dist = []\n",
    "    \n",
    "    for j in range(structure.num_sites):\n",
    "        centered_sph_coords = []\n",
    "        neighbours_spatial_dist_atom = []\n",
    "        \n",
    "        for n in range(max_shell+1):\n",
    "            atom_indices = np.where(np.round(structure.distance_matrix[j],5) == np.round(shells[n],5))[0].tolist()\n",
    "            centered_sph_coords = []\n",
    "            for i in atom_indices:\n",
    "\n",
    "                translation_vector = structure.sites[j].distance_and_image(structure.sites[i])[1]\n",
    "                new_cart_coords = structure.cart_coords[i]+(translation_vector*structure.lattice.abc)\n",
    "                centered_cart_coords = new_cart_coords-structure.cart_coords[j] \n",
    "\n",
    "                centered_sph_coords.append(cart2sph(centered_cart_coords[0],centered_cart_coords[1],centered_cart_coords[2]))        \n",
    "\n",
    "            spatial_distribution = np.argsort(np.array(centered_sph_coords)[:,1]*10 +\\\n",
    "                                              np.array(centered_sph_coords)[:,0])\n",
    "\n",
    "\n",
    "            neighbours_spatial_dist_atom.extend((np.array(structure.atomic_numbers)[np.array(atom_indices)[spatial_distribution]]).tolist())\n",
    "        neighbours_spatial_dist.append(neighbours_spatial_dist_atom)\n",
    "    #print(time.time()-time0)\n",
    "    neighbours_spatial_dist_all.append(neighbours_spatial_dist) \n",
    "        "
   ]
  },
  {
   "cell_type": "code",
   "execution_count": 29,
   "id": "ee0901a1",
   "metadata": {},
   "outputs": [
    {
     "data": {
      "text/plain": [
       "[[3, 16, 16, 16, 16, 16, 16],\n",
       " [3, 16, 16, 16, 16, 16, 16],\n",
       " [3, 16, 16, 16, 16, 16, 16],\n",
       " [3, 16, 16, 16, 16, 16, 16],\n",
       " [3, 16, 16, 16, 16, 16, 16],\n",
       " [3, 16, 16, 16, 16, 16, 16],\n",
       " [3, 16, 16, 16, 16, 16, 16],\n",
       " [3, 16, 16, 16, 16, 16, 16],\n",
       " [3, 16, 16, 16, 16, 16, 16],\n",
       " [3, 16, 16, 16, 16, 16, 16],\n",
       " [3, 16, 16, 16, 16, 16, 16],\n",
       " [3, 16, 16, 16, 16, 16, 16],\n",
       " [3, 16, 16, 16, 16, 16, 16],\n",
       " [3, 16, 16, 16, 16, 16, 16],\n",
       " [3, 16, 16, 16, 16, 16, 16],\n",
       " [3, 16, 16, 16, 16, 16, 16],\n",
       " [3, 16, 16, 16, 16, 16, 16],\n",
       " [3, 16, 16, 16, 16, 16, 16],\n",
       " [22, 16, 16, 16, 16, 16, 16],\n",
       " [22, 16, 16, 16, 16, 16, 16],\n",
       " [22, 16, 16, 16, 16, 16, 16],\n",
       " [22, 16, 16, 16, 16, 16, 16],\n",
       " [22, 16, 16, 16, 16, 16, 16],\n",
       " [22, 16, 16, 16, 16, 16, 16],\n",
       " [22, 16, 16, 16, 16, 16, 16],\n",
       " [22, 16, 16, 16, 16, 16, 16],\n",
       " [22, 16, 16, 16, 16, 16, 16],\n",
       " [16, 3, 3, 3, 3, 3, 3],\n",
       " [16, 3, 3, 3, 3, 3, 3],\n",
       " [16, 3, 3, 3, 3, 3, 3],\n",
       " [16, 3, 3, 3, 3, 3, 3],\n",
       " [16, 3, 3, 3, 3, 3, 3],\n",
       " [16, 3, 3, 3, 3, 3, 3],\n",
       " [16, 3, 3, 3, 3, 3, 3],\n",
       " [16, 3, 3, 3, 3, 3, 3],\n",
       " [16, 3, 3, 3, 3, 3, 3],\n",
       " [16, 22, 22, 3, 3, 3, 22],\n",
       " [16, 22, 22, 3, 22, 3, 3],\n",
       " [16, 22, 22, 3, 3, 3, 22],\n",
       " [16, 3, 3, 22, 22, 3, 22],\n",
       " [16, 22, 3, 22, 3, 22, 3],\n",
       " [16, 3, 3, 22, 22, 22, 3],\n",
       " [16, 22, 22, 3, 3, 3, 22],\n",
       " [16, 22, 22, 3, 22, 3, 3],\n",
       " [16, 22, 22, 3, 3, 3, 22],\n",
       " [16, 22, 22, 3, 3, 22, 3],\n",
       " [16, 22, 22, 3, 3, 22, 3],\n",
       " [16, 22, 22, 3, 3, 22, 3],\n",
       " [16, 22, 22, 22, 3, 3, 3],\n",
       " [16, 22, 3, 22, 3, 22, 3],\n",
       " [16, 22, 22, 22, 3, 3, 3],\n",
       " [16, 22, 22, 3, 3, 22, 3],\n",
       " [16, 22, 22, 3, 3, 22, 3],\n",
       " [16, 22, 22, 3, 3, 22, 3]]"
      ]
     },
     "execution_count": 29,
     "metadata": {},
     "output_type": "execute_result"
    }
   ],
   "source": [
    "neighbours_spatial_dist_all[0]"
   ]
  },
  {
   "cell_type": "markdown",
   "id": "c43bd494",
   "metadata": {},
   "source": [
    "### Group same structures (none for LTS)"
   ]
  },
  {
   "cell_type": "code",
   "execution_count": null,
   "id": "469cc2ac",
   "metadata": {},
   "outputs": [],
   "source": [
    "neighbours_spatial_dist_all_sorted = []\n",
    "a = np.array(neighbours_spatial_dist_all[0])\n",
    "a = neighbours_spatial_dist_all[0]\n",
    "\n",
    "for k,structure in enumerate(structures[0:100]):\n",
    "    sorted_atoms = []\n",
    "    for i in range(len(neighbours_spatial_dist_all[0])):\n",
    "        sorted_atoms.append(int(''.join([str(x) for x in neighbours_spatial_dist_all[k][i]])))\n",
    "    neighbours_spatial_dist_all_sorted.append((np.array(neighbours_spatial_dist_all)[k][np.argsort(np.array(sorted_atoms))]).tolist())"
   ]
  },
  {
   "cell_type": "code",
   "execution_count": null,
   "id": "a247069d",
   "metadata": {},
   "outputs": [],
   "source": [
    "neighbours_spatial_dist_id = []\n",
    "a = np.array(neighbours_spatial_dist_all[0])\n",
    "a = neighbours_spatial_dist_all[0]\n",
    "\n",
    "for k,structure in enumerate(structures):\n",
    "    sorted_atoms = []\n",
    "    for i in range(len(neighbours_spatial_dist_all[0])):\n",
    "        sorted_atoms.append((''.join([str(x) for x in neighbours_spatial_dist_all[k][i]])))\n",
    "    neighbours_spatial_dist_id.append(int(''.join(sorted_atoms)))"
   ]
  },
  {
   "cell_type": "markdown",
   "id": "e7904bfb",
   "metadata": {},
   "source": [
    "# Write inputs"
   ]
  },
  {
   "cell_type": "markdown",
   "id": "2c1d7b2e",
   "metadata": {},
   "source": [
    "## One per space group in reverse"
   ]
  },
  {
   "cell_type": "code",
   "execution_count": 16,
   "id": "16acf8ad",
   "metadata": {},
   "outputs": [],
   "source": [
    "crystal_input = Crystal_input('data/classification/ml/pseudo_input.d12')\n",
    "with open('data/classification/ml/qsub_input.qsub','r') as file:\n",
    "    qsub_input = file.readlines()\n",
    "\n",
    "    \n",
    "for structure in reversed(np.unique(space_groups,return_counts=True, return_index=True)[1]):\n",
    "\n",
    "    write_crystal_gui('data/classification/ml/pseudo/LTS_%s_PBE.gui'%structure,structures[structure],pseudo_atoms=[22])\n",
    "    write_crystal_input('data/classification/ml/pseudo/LTS_%s_PBE.d12'%structure,crystal_input=crystal_input)\n",
    "    queue = qsub_input.copy()\n",
    "    queue[1] = '#PBS -N %s\\n'%structure\n",
    "    queue.append('/rds/general/user/gmallia/home/CRYSTAL17_cx1/v2.2gnu/runcryP LTS_%s_PBE'%structure)\n",
    "    with open('data/classification/ml/pseudo/%s.qsub'%structure, 'w') as file:\n",
    "        file.writelines(queue)\n",
    "    #print('qsub %s.qsub'%structure)\n",
    "    "
   ]
  },
  {
   "cell_type": "markdown",
   "id": "1feabd02",
   "metadata": {},
   "source": [
    "## All space groups organised in folders"
   ]
  },
  {
   "cell_type": "code",
   "execution_count": 25,
   "id": "f0cf81be",
   "metadata": {},
   "outputs": [],
   "source": [
    "crystal_input = Crystal_input('data/classification/ml/crystal_input.d12')\n",
    "\n",
    "#OPTGEOM\n",
    "crystal_input = Crystal_input('data/classification/ml/crystal_input_optgeom.d12')\n",
    "\n",
    "#SMALL BS\n",
    "crystal_input = Crystal_input('data/classification/ml/crystal_input_small_bs.d12')\n",
    "with open('data/classification/ml/qsub_input.qsub','r') as file:\n",
    "    qsub_input = file.readlines()\n",
    "\n",
    "for space_group in reversed(space_groups_unique[-1:]):\n",
    "    #print(len(space_groups_dict[space_group]))\n",
    "    queue = qsub_input.copy()\n",
    "    queue[1] = '#PBS -N %s\\n'%space_group\n",
    "\n",
    "    Path('data/classification/ml/sg_%s'%space_group).mkdir(parents=True, exist_ok=True)\n",
    "    for structures_n in space_groups_dict[space_group]:\n",
    "\n",
    "        write_crystal_gui('data/classification/ml/sg_%s/LTS_%s_B3LYP.gui'%(space_group,structures_n),structures[structures_n])\n",
    "        write_crystal_input('data/classification/ml/sg_%s/LTS_%s_B3LYP.d12'%(space_group,structures_n),crystal_input=crystal_input)\n",
    "        \n",
    "        queue.append('/rds/general/user/gmallia/home/CRYSTAL17_cx1/v2.2gnu/runcryP LTS_%s_B3LYP\\n'%structures_n)\n",
    "    with open('data/classification/ml/sg_%s/sg_%s.qsub'%(space_group,space_group), 'w') as file:\n",
    "        file.writelines(queue)\n",
    "    '''print('cd sg_%s'%space_group)\n",
    "    print('qsub sg_%s.qsub'%space_group)\n",
    "    print('cd ..')'''"
   ]
  },
  {
   "cell_type": "markdown",
   "id": "fcc429fb",
   "metadata": {},
   "source": [
    "# TESTING"
   ]
  },
  {
   "cell_type": "markdown",
   "id": "34f25537",
   "metadata": {},
   "source": [
    "## THIS ONE WORKS (it scales better when a large number of shells is included)\n",
    "It doesn't work for the primitive cell"
   ]
  },
  {
   "cell_type": "code",
   "execution_count": null,
   "id": "90a0fb0a",
   "metadata": {},
   "outputs": [],
   "source": [
    "max_shell = 2\n",
    "centered_sph_coords = []\n",
    "centered_sph_coords_structure = []\n",
    "neighbours_spatial_dist = []\n",
    "neighbours_spatial_dist_all = []\n",
    "import time\n",
    "time0 = time.time()\n",
    "for k,structure in enumerate(structures[100:105]):\n",
    "    print('STRUCTURE',structure)\n",
    "    time0 = time.time()\n",
    "    neighbours_spatial_dist = []\n",
    "    for j in range(structure.num_sites):\n",
    "        centered_sph_coords = []\n",
    "        for i in range(structure.num_sites):  \n",
    "            print(i,j)\n",
    "            translation_vector = structure.sites[j].distance_and_image(structure.sites[i])[1]\n",
    "            new_cart_coords = structure.cart_coords[i]+(translation_vector*structure.lattice.abc)\n",
    "            #print(translation_vector)\n",
    "            #print(new_cart_coords,structure.cart_coords[i])\n",
    "            centered_cart_coords = new_cart_coords-structure.cart_coords[j] \n",
    "            centered_sph_coords.append(cart2sph(centered_cart_coords[0],centered_cart_coords[1],centered_cart_coords[2]))        \n",
    "            #print(cart2sph(centered_cart_coords[0],centered_cart_coords[1],centered_cart_coords[2]))\n",
    "        #centered_sph_coords_all.append(centered_sph_coords)\n",
    "        centered_sph_coords = np.array(centered_sph_coords)\n",
    "        #print(centered_sph_coords)\n",
    "\n",
    "        atoms_shell = []\n",
    "        for unique in shells:\n",
    "            atoms_shell.append(np.where(np.round(centered_sph_coords[:,2],5) == np.round(unique,5))[0].tolist())\n",
    "            \n",
    "        #print(atoms_shell)\n",
    "        neighbours_spatial_dist_atom = []\n",
    "        for shell in range(max_shell+1):\n",
    "            #a = np.array(centered_sph_coords)[atoms_shell[shell]]\n",
    "            spatial_distribution = np.argsort(centered_sph_coords[atoms_shell[shell]][:,1]*10 + centered_sph_coords[atoms_shell[shell]][:,0])\n",
    "            #print(np.array(structure.atomic_numbers)[np.array(atoms_shell[shell])[spatial_distribution]])\n",
    "            #print(np.array(atoms_shell[shell])[spatial_distribution])\n",
    "            \n",
    "            neighbours_spatial_dist_atom.extend((np.array(structure.atomic_numbers)[np.array(atoms_shell[shell])[spatial_distribution]]).tolist())\n",
    "            #THIS IS THE CONTROL LINE\n",
    "            #print(centered_sph_coords[np.array(atoms_shell[shell])[spatial_distribution]])\n",
    "        neighbours_spatial_dist.append(neighbours_spatial_dist_atom)\n",
    "    neighbours_spatial_dist_all.append(neighbours_spatial_dist)\n",
    "    print(time.time()-time0)\n",
    "    #centered_sph_coords_structure = np.array(centered_sph_coords_all)\n"
   ]
  }
 ],
 "metadata": {
  "kernelspec": {
   "display_name": "Python 3 (ipykernel)",
   "language": "python",
   "name": "python3"
  },
  "language_info": {
   "codemirror_mode": {
    "name": "ipython",
    "version": 3
   },
   "file_extension": ".py",
   "mimetype": "text/x-python",
   "name": "python",
   "nbconvert_exporter": "python",
   "pygments_lexer": "ipython3",
   "version": "3.9.10"
  }
 },
 "nbformat": 4,
 "nbformat_minor": 5
}
